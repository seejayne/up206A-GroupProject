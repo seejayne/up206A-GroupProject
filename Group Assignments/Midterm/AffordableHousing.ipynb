{
 "cells": [
  {
   "cell_type": "markdown",
   "metadata": {},
   "source": [
    "# Analyzing Affordable Housing in Los Angeles\n",
    "\n",
    "Where is the affordable housing being built in Los Angeles? What type of affordable housing is it? \n",
    "\n",
    "## Importing\n",
    "\n",
    "First, we import the libraries we will use in the project"
   ]
  },
  {
   "cell_type": "code",
   "execution_count": 2,
   "metadata": {
    "scrolled": true
   },
   "outputs": [],
   "source": [
    "# to plot things with plotlyimport plotly.express as px\n",
    "import plotly.express as px\n",
    "\n",
    "# we import this so we can process this csv file\n",
    "import pandas as pd"
   ]
  },
  {
   "cell_type": "markdown",
   "metadata": {},
   "source": [
    "Now we import the data we will analyze: [\"HCIDLA Affordable Housing Projects List (2003 to Present)\"](https://data.lacity.org/A-Livable-and-Sustainable-City/HCIDLA-Affordable-Housing-Projects-List-2003-to-Pr/mymu-zi3s)\n",
    "\n",
    "According to the data description, this data set includes: \n",
    ">\"HCIDLA financed projects since 2003 to present. These projects are financed with programs including Affordable Housing Managed Pipeline, Supportive Housing Program, Affordable Housing Bond Program, and the Proposition HHH Supportive Housing Loan Program.\"\n"
   ]
  },
  {
   "cell_type": "code",
   "execution_count": 3,
   "metadata": {},
   "outputs": [
    {
     "data": {
      "text/html": [
       "<div>\n",
       "<style scoped>\n",
       "    .dataframe tbody tr th:only-of-type {\n",
       "        vertical-align: middle;\n",
       "    }\n",
       "\n",
       "    .dataframe tbody tr th {\n",
       "        vertical-align: top;\n",
       "    }\n",
       "\n",
       "    .dataframe thead th {\n",
       "        text-align: right;\n",
       "    }\n",
       "</style>\n",
       "<table border=\"1\" class=\"dataframe\">\n",
       "  <thead>\n",
       "    <tr style=\"text-align: right;\">\n",
       "      <th></th>\n",
       "      <th>APN</th>\n",
       "      <th>PROJECT NUMBER</th>\n",
       "      <th>NAME</th>\n",
       "      <th>DEVELOPMENT STAGE</th>\n",
       "      <th>CONSTRUCTION TYPE</th>\n",
       "      <th>SITE ADDRESS</th>\n",
       "      <th>SITE  COUNCIL DISTRICT</th>\n",
       "      <th>SITE #</th>\n",
       "      <th>SITE COMMUNITY</th>\n",
       "      <th>SITE UNITS</th>\n",
       "      <th>...</th>\n",
       "      <th>MANAGEMENT COMPANY</th>\n",
       "      <th>CONTACT PHONE</th>\n",
       "      <th>PHOTO</th>\n",
       "      <th>JOBS</th>\n",
       "      <th>PROJECT SUMMARY URL</th>\n",
       "      <th>CONTRACT NUMBERS</th>\n",
       "      <th>DATE STAMP</th>\n",
       "      <th>SITE LONGITUDE</th>\n",
       "      <th>SITE LATITUDE</th>\n",
       "      <th>GPS_COORDS ON MAP</th>\n",
       "    </tr>\n",
       "  </thead>\n",
       "  <tbody>\n",
       "    <tr>\n",
       "      <th>0</th>\n",
       "      <td>5131020009</td>\n",
       "      <td>05-117217</td>\n",
       "      <td>LEXINGTON APARTMENTS A/B (SITE 11)</td>\n",
       "      <td>In-Service</td>\n",
       "      <td>REHAB</td>\n",
       "      <td>1145 E 24TH ST CA 90011</td>\n",
       "      <td>9</td>\n",
       "      <td>11</td>\n",
       "      <td>CENTRAL</td>\n",
       "      <td>0</td>\n",
       "      <td>...</td>\n",
       "      <td>ALPHA PROPERTY MANAGEMENT, INC.</td>\n",
       "      <td>(323) 231-4174</td>\n",
       "      <td>click here (http://hcidapp.lacity.org/mpphotos...</td>\n",
       "      <td>NaN</td>\n",
       "      <td>click here (http://hcidapp.lacity.org/ahtfRepo...</td>\n",
       "      <td>NaN</td>\n",
       "      <td>09/09/2020 12:00:00 AM</td>\n",
       "      <td>-118.25561</td>\n",
       "      <td>34.02133</td>\n",
       "      <td>POINT (-118.25561000000002 34.02133)</td>\n",
       "    </tr>\n",
       "    <tr>\n",
       "      <th>1</th>\n",
       "      <td>5067008008</td>\n",
       "      <td>06-117222</td>\n",
       "      <td>WINDWARD APTS (A/B) (SITE 4)</td>\n",
       "      <td>In-Service</td>\n",
       "      <td>REHAB</td>\n",
       "      <td>4817 W SATURN ST CA 90019</td>\n",
       "      <td>10</td>\n",
       "      <td>4</td>\n",
       "      <td>ST ELMO VILLAGE</td>\n",
       "      <td>6</td>\n",
       "      <td>...</td>\n",
       "      <td>ALPHA PROPERTY MANAGEMENT, INC.</td>\n",
       "      <td>(323) 231-4174</td>\n",
       "      <td>click here (http://hcidapp.lacity.org/mpphotos...</td>\n",
       "      <td>NaN</td>\n",
       "      <td>click here (http://hcidapp.lacity.org/ahtfRepo...</td>\n",
       "      <td>NaN</td>\n",
       "      <td>09/09/2020 12:00:00 AM</td>\n",
       "      <td>-118.34217</td>\n",
       "      <td>34.04429</td>\n",
       "      <td>POINT (-118.34217 34.04429)</td>\n",
       "    </tr>\n",
       "    <tr>\n",
       "      <th>2</th>\n",
       "      <td>5108021026</td>\n",
       "      <td>13-120914</td>\n",
       "      <td>JUANITA TATE LEGACY TOWERS (RECAP)</td>\n",
       "      <td>In-Service</td>\n",
       "      <td>ACQUISITION + REHAB</td>\n",
       "      <td>4827 S CENTRAL AVE 1-118 CA 90011</td>\n",
       "      <td>9</td>\n",
       "      <td>1</td>\n",
       "      <td>VERNON CENTRAL</td>\n",
       "      <td>118</td>\n",
       "      <td>...</td>\n",
       "      <td>CONCERNED CITIZENS OF SOUTH CENTRAL LOS ANGELES</td>\n",
       "      <td>NaN</td>\n",
       "      <td>click here (http://hcidapp.lacity.org/mpphotos...</td>\n",
       "      <td>92.0</td>\n",
       "      <td>click here (http://hcidapp.lacity.org/ahtfRepo...</td>\n",
       "      <td>NaN</td>\n",
       "      <td>09/09/2020 12:00:00 AM</td>\n",
       "      <td>-118.25668</td>\n",
       "      <td>33.99978</td>\n",
       "      <td>POINT (-118.25668 33.99978000000001)</td>\n",
       "    </tr>\n",
       "    <tr>\n",
       "      <th>3</th>\n",
       "      <td>5058024017</td>\n",
       "      <td>20289</td>\n",
       "      <td>LA 78 PRESERVATION PROJECT</td>\n",
       "      <td>In-Service</td>\n",
       "      <td>NaN</td>\n",
       "      <td>1951 W 22ND ST CA 90018</td>\n",
       "      <td>8</td>\n",
       "      <td>1</td>\n",
       "      <td>WEST ADAMS</td>\n",
       "      <td>20</td>\n",
       "      <td>...</td>\n",
       "      <td>LEONARDO MANAGEMENT, INC.</td>\n",
       "      <td>(602) 350-2931</td>\n",
       "      <td>click here (http://hcidapp.lacity.org/mpphotos...</td>\n",
       "      <td>NaN</td>\n",
       "      <td>click here (http://hcidapp.lacity.org/ahtfRepo...</td>\n",
       "      <td>NaN</td>\n",
       "      <td>09/09/2020 12:00:00 AM</td>\n",
       "      <td>-118.30509</td>\n",
       "      <td>34.03651</td>\n",
       "      <td>POINT (-118.30509000000002 34.03651)</td>\n",
       "    </tr>\n",
       "    <tr>\n",
       "      <th>4</th>\n",
       "      <td>2218023009</td>\n",
       "      <td>12-119044</td>\n",
       "      <td>HAZELTINE &amp; WYANDOTTE (SITE 2)</td>\n",
       "      <td>In-Service</td>\n",
       "      <td>ACQUISITION + REHAB</td>\n",
       "      <td>14630 W WYANDOTTE ST  VAN NUYS, CA 91405</td>\n",
       "      <td>6</td>\n",
       "      <td>2</td>\n",
       "      <td>VAN NUYS</td>\n",
       "      <td>73</td>\n",
       "      <td>...</td>\n",
       "      <td>IRONWOOD COMPANY</td>\n",
       "      <td>(818) 789-5550</td>\n",
       "      <td>click here (http://hcidapp.lacity.org/mpphotos...</td>\n",
       "      <td>41.0</td>\n",
       "      <td>click here (http://hcidapp.lacity.org/ahtfRepo...</td>\n",
       "      <td>NaN</td>\n",
       "      <td>09/09/2020 12:00:00 AM</td>\n",
       "      <td>-118.45222</td>\n",
       "      <td>34.20289</td>\n",
       "      <td>POINT (-118.45222000000001 34.20289)</td>\n",
       "    </tr>\n",
       "  </tbody>\n",
       "</table>\n",
       "<p>5 rows × 30 columns</p>\n",
       "</div>"
      ],
      "text/plain": [
       "          APN PROJECT NUMBER                                NAME  \\\n",
       "0  5131020009      05-117217  LEXINGTON APARTMENTS A/B (SITE 11)   \n",
       "1  5067008008      06-117222        WINDWARD APTS (A/B) (SITE 4)   \n",
       "2  5108021026      13-120914  JUANITA TATE LEGACY TOWERS (RECAP)   \n",
       "3  5058024017          20289          LA 78 PRESERVATION PROJECT   \n",
       "4  2218023009      12-119044      HAZELTINE & WYANDOTTE (SITE 2)   \n",
       "\n",
       "  DEVELOPMENT STAGE    CONSTRUCTION TYPE  \\\n",
       "0        In-Service                REHAB   \n",
       "1        In-Service                REHAB   \n",
       "2        In-Service  ACQUISITION + REHAB   \n",
       "3        In-Service                  NaN   \n",
       "4        In-Service  ACQUISITION + REHAB   \n",
       "\n",
       "                               SITE ADDRESS  SITE  COUNCIL DISTRICT  SITE #  \\\n",
       "0                   1145 E 24TH ST CA 90011                       9      11   \n",
       "1                 4817 W SATURN ST CA 90019                      10       4   \n",
       "2         4827 S CENTRAL AVE 1-118 CA 90011                       9       1   \n",
       "3                   1951 W 22ND ST CA 90018                       8       1   \n",
       "4  14630 W WYANDOTTE ST  VAN NUYS, CA 91405                       6       2   \n",
       "\n",
       "    SITE COMMUNITY  SITE UNITS  ...  \\\n",
       "0          CENTRAL           0  ...   \n",
       "1  ST ELMO VILLAGE           6  ...   \n",
       "2   VERNON CENTRAL         118  ...   \n",
       "3       WEST ADAMS          20  ...   \n",
       "4         VAN NUYS          73  ...   \n",
       "\n",
       "                                MANAGEMENT COMPANY   CONTACT PHONE  \\\n",
       "0                  ALPHA PROPERTY MANAGEMENT, INC.  (323) 231-4174   \n",
       "1                  ALPHA PROPERTY MANAGEMENT, INC.  (323) 231-4174   \n",
       "2  CONCERNED CITIZENS OF SOUTH CENTRAL LOS ANGELES             NaN   \n",
       "3                        LEONARDO MANAGEMENT, INC.  (602) 350-2931   \n",
       "4                                 IRONWOOD COMPANY  (818) 789-5550   \n",
       "\n",
       "                                               PHOTO  JOBS  \\\n",
       "0  click here (http://hcidapp.lacity.org/mpphotos...   NaN   \n",
       "1  click here (http://hcidapp.lacity.org/mpphotos...   NaN   \n",
       "2  click here (http://hcidapp.lacity.org/mpphotos...  92.0   \n",
       "3  click here (http://hcidapp.lacity.org/mpphotos...   NaN   \n",
       "4  click here (http://hcidapp.lacity.org/mpphotos...  41.0   \n",
       "\n",
       "                                 PROJECT SUMMARY URL  CONTRACT NUMBERS  \\\n",
       "0  click here (http://hcidapp.lacity.org/ahtfRepo...               NaN   \n",
       "1  click here (http://hcidapp.lacity.org/ahtfRepo...               NaN   \n",
       "2  click here (http://hcidapp.lacity.org/ahtfRepo...               NaN   \n",
       "3  click here (http://hcidapp.lacity.org/ahtfRepo...               NaN   \n",
       "4  click here (http://hcidapp.lacity.org/ahtfRepo...               NaN   \n",
       "\n",
       "               DATE STAMP  SITE LONGITUDE SITE LATITUDE  \\\n",
       "0  09/09/2020 12:00:00 AM      -118.25561      34.02133   \n",
       "1  09/09/2020 12:00:00 AM      -118.34217      34.04429   \n",
       "2  09/09/2020 12:00:00 AM      -118.25668      33.99978   \n",
       "3  09/09/2020 12:00:00 AM      -118.30509      34.03651   \n",
       "4  09/09/2020 12:00:00 AM      -118.45222      34.20289   \n",
       "\n",
       "                      GPS_COORDS ON MAP  \n",
       "0  POINT (-118.25561000000002 34.02133)  \n",
       "1           POINT (-118.34217 34.04429)  \n",
       "2  POINT (-118.25668 33.99978000000001)  \n",
       "3  POINT (-118.30509000000002 34.03651)  \n",
       "4  POINT (-118.45222000000001 34.20289)  \n",
       "\n",
       "[5 rows x 30 columns]"
      ]
     },
     "execution_count": 3,
     "metadata": {},
     "output_type": "execute_result"
    }
   ],
   "source": [
    "# read in a CSV file downloaded from the HCIDLA\n",
    "hcid=pd.read_csv('data/HCIDLA_AffordableHousing.csv')\n",
    "\n",
    "# take a look at the first 5 rows to make sure it's \n",
    "hcid.head()"
   ]
  },
  {
   "cell_type": "markdown",
   "metadata": {},
   "source": [
    "## Cleaning\n",
    "\n",
    "There are a lot of columns here that we can't see, so let's just list all the columns to see what we're working with here."
   ]
  },
  {
   "cell_type": "code",
   "execution_count": 7,
   "metadata": {
    "scrolled": true
   },
   "outputs": [
    {
     "data": {
      "text/plain": [
       "['APN',\n",
       " 'PROJECT NUMBER',\n",
       " 'NAME',\n",
       " 'DEVELOPMENT STAGE',\n",
       " 'CONSTRUCTION TYPE',\n",
       " 'SITE ADDRESS',\n",
       " 'SITE  COUNCIL DISTRICT',\n",
       " 'SITE #',\n",
       " 'SITE COMMUNITY',\n",
       " 'SITE UNITS',\n",
       " 'PROJECT TOTAL UNITS',\n",
       " 'HOUSING TYPE',\n",
       " 'SUPPORTIVE HOUSING',\n",
       " 'DATE FUNDED',\n",
       " 'HCIDLA FUNDED',\n",
       " 'LEVERAGE',\n",
       " 'TAX EXEMPT CONDUIT BOND',\n",
       " 'TDC',\n",
       " 'IN-SERVICE DATE',\n",
       " 'DEVELOPER',\n",
       " 'MANAGEMENT COMPANY',\n",
       " 'CONTACT PHONE',\n",
       " 'PHOTO',\n",
       " 'JOBS',\n",
       " 'PROJECT SUMMARY URL',\n",
       " 'CONTRACT NUMBERS',\n",
       " 'DATE STAMP',\n",
       " 'SITE LONGITUDE',\n",
       " 'SITE LATITUDE',\n",
       " 'GPS_COORDS ON MAP']"
      ]
     },
     "execution_count": 7,
     "metadata": {},
     "output_type": "execute_result"
    }
   ],
   "source": [
    "hcid_columns = list(hcid) \n",
    "hcid_columns"
   ]
  },
  {
   "cell_type": "markdown",
   "metadata": {},
   "source": [
    "Now we can get rid of the ones that we aren't interested in by creating a trimmed down version of the data to work with."
   ]
  },
  {
   "cell_type": "code",
   "execution_count": 56,
   "metadata": {
    "scrolled": true
   },
   "outputs": [
    {
     "data": {
      "text/html": [
       "<div>\n",
       "<style scoped>\n",
       "    .dataframe tbody tr th:only-of-type {\n",
       "        vertical-align: middle;\n",
       "    }\n",
       "\n",
       "    .dataframe tbody tr th {\n",
       "        vertical-align: top;\n",
       "    }\n",
       "\n",
       "    .dataframe thead th {\n",
       "        text-align: right;\n",
       "    }\n",
       "</style>\n",
       "<table border=\"1\" class=\"dataframe\">\n",
       "  <thead>\n",
       "    <tr style=\"text-align: right;\">\n",
       "      <th></th>\n",
       "      <th>NAME</th>\n",
       "      <th>SITE ADDRESS</th>\n",
       "      <th>SITE COMMUNITY</th>\n",
       "      <th>HOUSING TYPE</th>\n",
       "      <th>SUPPORTIVE HOUSING</th>\n",
       "      <th>SITE LONGITUDE</th>\n",
       "      <th>SITE LATITUDE</th>\n",
       "    </tr>\n",
       "  </thead>\n",
       "  <tbody>\n",
       "    <tr>\n",
       "      <th>0</th>\n",
       "      <td>LEXINGTON APARTMENTS A/B (SITE 11)</td>\n",
       "      <td>1145 E 24TH ST CA 90011</td>\n",
       "      <td>CENTRAL</td>\n",
       "      <td>FAMILY</td>\n",
       "      <td>No</td>\n",
       "      <td>-118.25561</td>\n",
       "      <td>34.02133</td>\n",
       "    </tr>\n",
       "    <tr>\n",
       "      <th>1</th>\n",
       "      <td>WINDWARD APTS (A/B) (SITE 4)</td>\n",
       "      <td>4817 W SATURN ST CA 90019</td>\n",
       "      <td>ST ELMO VILLAGE</td>\n",
       "      <td>FAMILY</td>\n",
       "      <td>No</td>\n",
       "      <td>-118.34217</td>\n",
       "      <td>34.04429</td>\n",
       "    </tr>\n",
       "    <tr>\n",
       "      <th>2</th>\n",
       "      <td>JUANITA TATE LEGACY TOWERS (RECAP)</td>\n",
       "      <td>4827 S CENTRAL AVE 1-118 CA 90011</td>\n",
       "      <td>VERNON CENTRAL</td>\n",
       "      <td>SENIORS</td>\n",
       "      <td>No</td>\n",
       "      <td>-118.25668</td>\n",
       "      <td>33.99978</td>\n",
       "    </tr>\n",
       "    <tr>\n",
       "      <th>3</th>\n",
       "      <td>LA 78 PRESERVATION PROJECT</td>\n",
       "      <td>1951 W 22ND ST CA 90018</td>\n",
       "      <td>WEST ADAMS</td>\n",
       "      <td>NaN</td>\n",
       "      <td>No</td>\n",
       "      <td>-118.30509</td>\n",
       "      <td>34.03651</td>\n",
       "    </tr>\n",
       "    <tr>\n",
       "      <th>4</th>\n",
       "      <td>HAZELTINE &amp; WYANDOTTE (SITE 2)</td>\n",
       "      <td>14630 W WYANDOTTE ST  VAN NUYS, CA 91405</td>\n",
       "      <td>VAN NUYS</td>\n",
       "      <td>FAMILY</td>\n",
       "      <td>No</td>\n",
       "      <td>-118.45222</td>\n",
       "      <td>34.20289</td>\n",
       "    </tr>\n",
       "  </tbody>\n",
       "</table>\n",
       "</div>"
      ],
      "text/plain": [
       "                                 NAME  \\\n",
       "0  LEXINGTON APARTMENTS A/B (SITE 11)   \n",
       "1        WINDWARD APTS (A/B) (SITE 4)   \n",
       "2  JUANITA TATE LEGACY TOWERS (RECAP)   \n",
       "3          LA 78 PRESERVATION PROJECT   \n",
       "4      HAZELTINE & WYANDOTTE (SITE 2)   \n",
       "\n",
       "                               SITE ADDRESS   SITE COMMUNITY HOUSING TYPE  \\\n",
       "0                   1145 E 24TH ST CA 90011          CENTRAL       FAMILY   \n",
       "1                 4817 W SATURN ST CA 90019  ST ELMO VILLAGE       FAMILY   \n",
       "2         4827 S CENTRAL AVE 1-118 CA 90011   VERNON CENTRAL      SENIORS   \n",
       "3                   1951 W 22ND ST CA 90018       WEST ADAMS          NaN   \n",
       "4  14630 W WYANDOTTE ST  VAN NUYS, CA 91405         VAN NUYS       FAMILY   \n",
       "\n",
       "  SUPPORTIVE HOUSING  SITE LONGITUDE  SITE LATITUDE  \n",
       "0                 No      -118.25561       34.02133  \n",
       "1                 No      -118.34217       34.04429  \n",
       "2                 No      -118.25668       33.99978  \n",
       "3                 No      -118.30509       34.03651  \n",
       "4                 No      -118.45222       34.20289  "
      ]
     },
     "execution_count": 56,
     "metadata": {},
     "output_type": "execute_result"
    }
   ],
   "source": [
    "hcid_trim = hcid[[\n",
    " 'NAME',\n",
    " 'SITE ADDRESS',\n",
    " 'SITE COMMUNITY',\n",
    " 'HOUSING TYPE',\n",
    " 'SUPPORTIVE HOUSING',\n",
    " 'SITE LONGITUDE',\n",
    " 'SITE LATITUDE',\n",
    "]]\n",
    "# show a preview of the first 5 rows.\n",
    "hcid_trim.head()"
   ]
  },
  {
   "cell_type": "markdown",
   "metadata": {},
   "source": [
    "# Charting Data\n",
    "\n",
    "## Site Communitity\n",
    "Now we can start looking at the different columns to see what kind of trends we can see. First, let's take a look at how many developments are in each community "
   ]
  },
  {
   "cell_type": "code",
   "execution_count": 12,
   "metadata": {},
   "outputs": [
    {
     "data": {
      "application/vnd.plotly.v1+json": {
       "config": {
        "plotlyServerURL": "https://plot.ly"
       },
       "data": [
        {
         "alignmentgroup": "True",
         "hovertemplate": "SITE COMMUNITY=%{x}<br>count=%{y}<extra></extra>",
         "legendgroup": "",
         "marker": {
          "color": "#636efa"
         },
         "name": "",
         "offsetgroup": "",
         "orientation": "v",
         "showlegend": false,
         "textposition": "auto",
         "type": "bar",
         "x": [
          "CENTRAL",
          "ST ELMO VILLAGE",
          "VERNON CENTRAL",
          "WEST ADAMS",
          "VAN NUYS",
          "UNIVERSITY PARK",
          "HIGHLAND PARK",
          "HIGHLAND PARK",
          "EXPOSITION PARK",
          "SUN VALLEY",
          "SYLMAR",
          "WEST VERNON",
          "HOLLYWOOD",
          "SOUTH PARK",
          "WILSHIRE CENTER",
          "MELROSE",
          "WEST ADAMS",
          "KOREATOWN",
          "HARBOR GATEWAY",
          "DOWNTOWN",
          "HOLLYWOOD",
          "CENTURY PALMS/COVE",
          "UNIVERSITY PARK",
          "ATWATER VILLAGE",
          "EXPOSITION PARK",
          "WHOLESALE DISTRICT",
          "VAN NUYS",
          "UNIVERSITY PARK",
          "HOLLYWOOD",
          "BOYLE HEIGHTS",
          "VERNON CENTRAL",
          "WILSHIRE CENTER",
          "EAST HOLLYWOOD",
          "NORTH HOLLYWOOD",
          "VERMONT VISTA",
          "WHOLESALE DISTRICT",
          "WATTS",
          "MELROSE",
          "CHINATOWN",
          "CENTURY PALMS/COVE",
          "HYDE PARK",
          "WEST ADAMS",
          "TEMPLE-BEAUDRY",
          "WESTLAKE",
          "HOLLYWOOD",
          "NORTH HILLS",
          "SOUTH PARK",
          "VENICE",
          "WESTLAKE",
          "VAN NUYS",
          "HARBOR GATEWAY",
          "WHOLESALE DISTRICT",
          "TEMPLE-BEAUDRY",
          "DOWNTOWN",
          "SOUTH PARK",
          "DEL REY",
          "ATWATER VILLAGE",
          "VERMONT VISTA",
          "WILSHIRE CENTER",
          "ADAMS-NORMANDIE",
          "WATTS",
          "WHOLESALE DISTRICT",
          "SILVERLAKE",
          "VERMONT SQUARE",
          "UNIVERSITY PARK",
          "WESTLAKE",
          "ANGELINO HEIGHTS",
          "NORTH HILLS",
          "ATWATER VILLAGE",
          "TEMPLE-BEAUDRY",
          "LINCOLN HEIGHTS",
          "PICO-UNION",
          "TEMPLE-BEAUDRY",
          "KOREATOWN",
          "GLASSELL PARK",
          "PANORAMA CITY",
          "FLORENCE-FIRESTONE",
          "KOREATOWN",
          "GLASSELL PARK",
          "VERMONT VISTA",
          "SOUTH PARK",
          "CRENSHAW DISTRICT",
          "UNIVERSITY PARK",
          "HARVARD PARK",
          "LINCOLN HEIGHTS",
          "MT. WASHINGTON",
          "CRENSHAW DISTRICT",
          "WESTLAKE",
          "VAN NUYS",
          "CENTURY PALMS/COVE",
          "THAI TOWN",
          "SILVERLAKE",
          "VENICE",
          "UNIVERSITY PARK",
          "WEST ADAMS",
          "KOREATOWN",
          "HOLLYWOOD",
          "UNIVERSITY PARK",
          "EXPOSITION PARK",
          "EXPOSITION",
          "LAKEVIEW TERRACE",
          "COUNTRY CLUB PARK",
          "MELROSE",
          "HOLLYWOOD",
          "CENTRAL",
          "VICTORIA PARK",
          "VICTORIA PARK",
          "EXPOSITION PARK",
          "HOLLYWOOD",
          "CENTURY PALMS/COVE",
          "LOS FELIZ",
          "VERMONT VISTA",
          "PACOIMA",
          "WESTLAKE",
          "WEST LOS ANGELES",
          "EAST HOLLYWOOD",
          "WELLINGTON SQUARE",
          "PICO-UNION",
          "WEST VERNON",
          "EXPOSITION PARK",
          "RESEDA",
          "PANORAMA CITY",
          "DEL REY",
          "HARVARD HEIGHTS",
          "HARBOR GATEWAY",
          "CHINATOWN",
          "FLORENCE-FIRESTONE",
          "ECHO PARK",
          "COUNTRY CLUB PARK",
          "LINCOLN HEIGHTS",
          "WHOLESALE DISTRICT",
          "PICO-UNION",
          "NORTH HOLLYWOOD",
          "HOLLYWOOD",
          "TUJUNGA",
          "WEST ADAMS",
          "SILVERLAKE",
          "RESEDA",
          "EL SERENO",
          "VALLEY GLEN",
          "HISTORIC FILIPINOTOWN",
          "WHOLESALE DISTRICT",
          "MELROSE",
          "WESTLAKE",
          "SYLMAR",
          "WEST VERNON",
          "HOLLYWOOD",
          "CENTRAL",
          "SOUTH PARK",
          "MELROSE",
          "PICO-UNION",
          "EXPOSITION PARK",
          "EXPOSITION PARK",
          "HOLLYWOOD HILLS",
          "DEL REY",
          "WHOLESALE DISTRICT",
          "TEMPLE-BEAUDRY",
          "WHOLESALE DISTRICT",
          "CENTRAL",
          "ATWATER VILLAGE",
          "VERNON CENTRAL",
          "PANORAMA CITY",
          "CHINATOWN",
          "WHOLESALE DISTRICT",
          "KOREATOWN",
          "CENTRAL",
          "WEST ADAMS",
          "MELROSE",
          "TEMPLE-BEAUDRY",
          "HYDE PARK",
          "LINCOLN HEIGHTS",
          "WATTS",
          "CRESTVIEW",
          "WHOLESALE DISTRICT",
          "VERMONT VISTA",
          "VERMONT VISTA",
          "LAKEVIEW TERRACE",
          "WHOLESALE DISTRICT",
          "SYLMAR",
          "LITTLE TOKYO",
          "MELROSE",
          "ALSACE",
          "CENTRAL",
          "WATTS",
          "BOYLE HEIGHTS",
          "SOUTH PARK",
          "WEST ADAMS",
          "SUN VALLEY",
          "BOYLE HEIGHTS",
          "WESTLAKE",
          "LINCOLN HEIGHTS",
          "CENTRAL",
          "VAN NUYS",
          "EXPOSITION PARK",
          "RESEDA",
          "VALLEY GLEN",
          "NORTH HILLS",
          "CENTRAL",
          "CENTRAL",
          "PANORAMA CITY",
          "CRENSHAW DISTRICT",
          "WEST VERNON",
          "DOWNTOWN",
          "BOYLE HEIGHTS",
          "KOREATOWN",
          "PICO-UNION",
          "WATTS",
          "SYLMAR",
          "CENTRAL",
          "LINCOLN HEIGHTS",
          "FLORENCE-FIRESTONE",
          "HYDE PARK",
          "HISTORIC FILIPINOTOWN",
          "HANCOCK PARK",
          "SAN PEDRO",
          "HARVARD HEIGHTS",
          "VALLEY GLEN",
          "EAST HOLLYWOOD",
          "MELROSE",
          "KOREATOWN",
          "SAN PEDRO",
          "CENTRAL",
          "VERNON CENTRAL",
          "EXPOSITION PARK",
          "ATWATER VILLAGE",
          "EAST HOLLYWOOD",
          "WESTLAKE",
          "HARBOR GATEWAY",
          "WESTLAKE",
          "HARVARD HEIGHTS",
          "VERMONT VISTA",
          "HISTORIC FILIPINOTOWN",
          "WHOLESALE DISTRICT",
          "WESTLAKE",
          "WILSHIRE CENTER",
          "KOREATOWN",
          "CENTURY PALMS/COVE",
          "PICO-UNION",
          "WESTLAKE",
          "VALLEY GLEN",
          "WEST ADAMS",
          "SILVERLAKE",
          "FLORENCE-FIRESTONE",
          "MELROSE",
          "MELROSE",
          "HARVARD PARK",
          "CANOGA PARK",
          "EXPOSITION PARK",
          "HOLLYWOOD",
          "JEFFERSON PARK",
          "MELROSE",
          "HISTORIC FILIPINOTOWN",
          "PACOIMA",
          "THAI TOWN",
          "VERNON CENTRAL",
          "WILSHIRE CENTER",
          "WILSHIRE CENTER",
          "MAR VISTA",
          "EL SERENO",
          "HARBOR CITY",
          "RANCHO PARK",
          "GLASSELL PARK",
          "KOREATOWN",
          "CANOGA PARK",
          "PICO-UNION",
          "SYLMAR",
          "WEST ADAMS",
          "TEMPLE-BEAUDRY",
          "TEMPLE-BEAUDRY",
          "PICO-UNION",
          "WESTLAKE",
          "HARBOR GATEWAY",
          "CRENSHAW DISTRICT",
          "WESTLAKE",
          "SOUTH PARK",
          "WESTLAKE",
          "WHOLESALE DISTRICT",
          "WEST VERNON",
          "NORTH HILLS",
          "ECHO PARK",
          "VAN NUYS",
          "VERMONT KNOLLS",
          "WESTLAKE",
          "THAI TOWN",
          "CENTRAL",
          "GREEN MEADOWS",
          "WESTLAKE",
          "HISTORIC FILIPINOTOWN",
          "UNIVERSITY PARK",
          "RESEDA",
          "CENTRAL",
          "VALLEY GLEN",
          "WILMINGTON",
          "NORTH HILLS",
          "VERNON CENTRAL",
          "HOLLYWOOD",
          "WESTLAKE",
          "WESTLAKE",
          "WESTLAKE",
          "GLASSELL PARK",
          "SUN VALLEY",
          "EXPOSITION PARK",
          "BOYLE HEIGHTS",
          null,
          "VAN NUYS",
          "DOWNTOWN",
          "EAGLE ROCK",
          "WHOLESALE DISTRICT",
          "WHOLESALE DISTRICT",
          "EXPOSITION PARK",
          "SUN VALLEY",
          "SILVERLAKE",
          "WILMINGTON",
          "EXPOSITION PARK",
          "SILVERLAKE",
          "EAST HOLLYWOOD",
          "VERMONT KNOLLS",
          "WESTLAKE",
          "DOWNTOWN",
          "SOUTH PARK",
          "HOLLYWOOD",
          "CENTRAL",
          "WATTS",
          "BOYLE HEIGHTS",
          "SHERMAN OAKS",
          "UNIVERSITY PARK",
          "HARBOR GATEWAY",
          "UNIVERSITY PARK",
          "MELROSE",
          "WATTS",
          "TEMPLE-BEAUDRY",
          "VICTORIA PARK",
          "TEMPLE-BEAUDRY",
          "UNIVERSITY PARK",
          "EXPOSITION PARK",
          "EAST HOLLYWOOD",
          "HARVARD HEIGHTS",
          "EXPOSITION PARK",
          "CHATSWORTH",
          "VERMONT VISTA",
          "SUN VALLEY",
          "CENTURY PALMS/COVE",
          "PICO-UNION",
          "NORTH HILLS",
          "GRAMERCY PLACE",
          "WESTLAKE",
          "CENTRAL",
          "HOLLYWOOD",
          "WESTLAKE",
          "NORTH HILLS",
          "VICTORIA PARK",
          "THAI TOWN",
          "TEMPLE-BEAUDRY",
          "LITTLE TOKYO",
          "ATWATER VILLAGE",
          "LINCOLN HEIGHTS",
          "PICO-UNION",
          "SILVERLAKE",
          "TEMPLE-BEAUDRY",
          "WHOLESALE DISTRICT",
          "BALDWIN HILLS",
          "WILSHIRE CENTER",
          "CENTURY PALMS/COVE",
          "WEST VERNON",
          "WESTLAKE",
          "TEMPLE-BEAUDRY",
          "WATTS",
          "KOREATOWN",
          "THAI TOWN",
          "FIGUEROA PARK SQUARE",
          "WESTLAKE",
          "MELROSE",
          "CENTURY PALMS/COVE",
          "NORTH HILLS",
          "BOYLE HEIGHTS",
          "WEST ADAMS",
          "BALDWIN HILLS",
          "PANORAMA CITY",
          "WESTLAKE",
          "WEST VERNON",
          "ADAMS-NORMANDIE",
          "BOYLE HEIGHTS",
          "WHOLESALE DISTRICT",
          "TEMPLE-BEAUDRY",
          "HARVARD HEIGHTS",
          "HOLLYWOOD",
          "CRENSHAW DISTRICT",
          "VERNON CENTRAL",
          "PACOIMA",
          "SUN VALLEY",
          "WESTLAKE",
          "SUNLAND",
          "EXPOSITION PARK",
          "CRENSHAW DISTRICT",
          "VERMONT KNOLLS",
          "WILMINGTON",
          "BOYLE HEIGHTS",
          "PICO-UNION",
          "HOLLYWOOD",
          "PANORAMA CITY",
          "CENTRAL",
          "UNIVERSITY PARK",
          "NORTH HOLLYWOOD",
          "VENICE",
          "HARBOR GATEWAY",
          "SYLMAR",
          "WESTLAKE",
          "RESEDA",
          "WEST VERNON",
          "WESTLAKE",
          "HOLLYWOOD",
          "WHOLESALE DISTRICT",
          "WESTLAKE",
          "WEST VERNON",
          "SOUTH PARK",
          "EAST HOLLYWOOD",
          "UNIVERSITY PARK",
          "VERMONT VISTA",
          "PICO-UNION",
          "CENTRAL",
          "WESTLAKE",
          "WHOLESALE DISTRICT",
          "DOWNTOWN",
          "HARVARD HEIGHTS",
          "WESTLAKE",
          "NORTH HOLLYWOOD",
          "WATTS",
          "WILMINGTON",
          "WESTLAKE",
          "VERMONT VISTA",
          "FLORENCE-FIRESTONE",
          "KOREATOWN",
          "ELYSIAN VALLEY",
          "FLORENCE-FIRESTONE",
          "FLORENCE-FIRESTONE",
          "KOREATOWN",
          "NORTH HILLS",
          "GREEN MEADOWS",
          "WEST VERNON",
          "EAST HOLLYWOOD",
          "WHOLESALE DISTRICT",
          "LINCOLN HEIGHTS",
          "WHOLESALE DISTRICT",
          "WHOLESALE DISTRICT",
          "CENTRAL",
          "HARBOR CITY",
          "PANORAMA CITY",
          "WHOLESALE DISTRICT",
          "PICO-UNION",
          "DOWNTOWN",
          "BOYLE HEIGHTS",
          "SOUTH PARK",
          "CANOGA PARK",
          "WILMINGTON",
          "WEST VERNON",
          "VERMONT VISTA",
          "TEMPLE-BEAUDRY",
          "WEST VERNON",
          "WESTLAKE",
          "SUN VALLEY",
          "WATTS",
          "WATTS",
          "UNIVERSITY PARK",
          "WEST VERNON",
          "MELROSE",
          "WILSHIRE CENTER",
          "HOLLYWOOD",
          "PANORAMA CITY",
          "HARVARD HEIGHTS",
          "WESTLAKE",
          "PICO-UNION",
          "CENTURY PALMS/COVE",
          "CENTRAL",
          "PACOIMA",
          "KOREATOWN",
          "WEST VERNON"
         ],
         "xaxis": "x",
         "y": [
          1,
          1,
          1,
          1,
          1,
          1,
          1,
          1,
          1,
          1,
          1,
          1,
          1,
          1,
          1,
          1,
          1,
          1,
          1,
          1,
          1,
          1,
          1,
          1,
          1,
          1,
          1,
          1,
          1,
          1,
          1,
          1,
          1,
          1,
          1,
          1,
          1,
          1,
          1,
          1,
          1,
          1,
          1,
          1,
          1,
          1,
          1,
          1,
          1,
          1,
          1,
          1,
          1,
          1,
          1,
          1,
          1,
          1,
          1,
          1,
          1,
          1,
          1,
          1,
          1,
          1,
          1,
          1,
          1,
          1,
          1,
          1,
          1,
          1,
          1,
          1,
          1,
          1,
          1,
          1,
          1,
          1,
          1,
          1,
          1,
          1,
          1,
          1,
          1,
          1,
          1,
          1,
          1,
          1,
          1,
          1,
          1,
          1,
          1,
          1,
          1,
          1,
          1,
          1,
          1,
          1,
          1,
          1,
          1,
          1,
          1,
          1,
          1,
          1,
          1,
          1,
          1,
          1,
          1,
          1,
          1,
          1,
          1,
          1,
          1,
          1,
          1,
          1,
          1,
          1,
          1,
          1,
          1,
          1,
          1,
          1,
          1,
          1,
          1,
          1,
          1,
          1,
          1,
          1,
          1,
          1,
          1,
          1,
          1,
          1,
          1,
          1,
          1,
          1,
          1,
          1,
          1,
          1,
          1,
          1,
          1,
          1,
          1,
          1,
          1,
          1,
          1,
          1,
          1,
          1,
          1,
          1,
          1,
          1,
          1,
          1,
          1,
          1,
          1,
          1,
          1,
          1,
          1,
          1,
          1,
          1,
          1,
          1,
          1,
          1,
          1,
          1,
          1,
          1,
          1,
          1,
          1,
          1,
          1,
          1,
          1,
          1,
          1,
          1,
          1,
          1,
          1,
          1,
          1,
          1,
          1,
          1,
          1,
          1,
          1,
          1,
          1,
          1,
          1,
          1,
          1,
          1,
          1,
          1,
          1,
          1,
          1,
          1,
          1,
          1,
          1,
          1,
          1,
          1,
          1,
          1,
          1,
          1,
          1,
          1,
          1,
          1,
          1,
          1,
          1,
          1,
          1,
          1,
          1,
          1,
          1,
          1,
          1,
          1,
          1,
          1,
          1,
          1,
          1,
          1,
          1,
          1,
          1,
          1,
          1,
          1,
          1,
          1,
          1,
          1,
          1,
          1,
          1,
          1,
          1,
          1,
          1,
          1,
          1,
          1,
          1,
          1,
          1,
          1,
          1,
          1,
          1,
          1,
          1,
          1,
          1,
          1,
          1,
          1,
          1,
          1,
          1,
          1,
          1,
          1,
          1,
          1,
          1,
          1,
          1,
          1,
          1,
          1,
          1,
          1,
          1,
          1,
          1,
          1,
          1,
          1,
          1,
          1,
          1,
          1,
          1,
          1,
          1,
          1,
          1,
          1,
          1,
          1,
          1,
          1,
          1,
          1,
          1,
          1,
          1,
          1,
          1,
          1,
          1,
          1,
          1,
          1,
          1,
          1,
          1,
          1,
          1,
          1,
          1,
          1,
          1,
          1,
          1,
          1,
          1,
          1,
          1,
          1,
          1,
          1,
          1,
          1,
          1,
          1,
          1,
          1,
          1,
          1,
          1,
          1,
          1,
          1,
          1,
          1,
          1,
          1,
          1,
          1,
          1,
          1,
          1,
          1,
          1,
          1,
          1,
          1,
          1,
          1,
          1,
          1,
          1,
          1,
          1,
          1,
          1,
          1,
          1,
          1,
          1,
          1,
          1,
          1,
          1,
          1,
          1,
          1,
          1,
          1,
          1,
          1,
          1,
          1,
          1,
          1,
          1,
          1,
          1,
          1,
          1,
          1,
          1,
          1,
          1,
          1,
          1,
          1,
          1,
          1,
          1,
          1,
          1,
          1,
          1,
          1,
          1,
          1,
          1,
          1,
          1,
          1,
          1,
          1,
          1,
          1,
          1,
          1,
          1,
          1,
          1,
          1,
          1,
          1,
          1,
          1,
          1,
          1,
          1,
          1,
          1,
          1,
          1,
          1,
          1,
          1,
          1,
          1,
          1,
          1,
          1,
          1,
          1,
          1,
          1,
          1,
          1,
          1
         ],
         "yaxis": "y"
        }
       ],
       "layout": {
        "barmode": "relative",
        "legend": {
         "tracegroupgap": 0
        },
        "template": {
         "data": {
          "bar": [
           {
            "error_x": {
             "color": "#2a3f5f"
            },
            "error_y": {
             "color": "#2a3f5f"
            },
            "marker": {
             "line": {
              "color": "#E5ECF6",
              "width": 0.5
             }
            },
            "type": "bar"
           }
          ],
          "barpolar": [
           {
            "marker": {
             "line": {
              "color": "#E5ECF6",
              "width": 0.5
             }
            },
            "type": "barpolar"
           }
          ],
          "carpet": [
           {
            "aaxis": {
             "endlinecolor": "#2a3f5f",
             "gridcolor": "white",
             "linecolor": "white",
             "minorgridcolor": "white",
             "startlinecolor": "#2a3f5f"
            },
            "baxis": {
             "endlinecolor": "#2a3f5f",
             "gridcolor": "white",
             "linecolor": "white",
             "minorgridcolor": "white",
             "startlinecolor": "#2a3f5f"
            },
            "type": "carpet"
           }
          ],
          "choropleth": [
           {
            "colorbar": {
             "outlinewidth": 0,
             "ticks": ""
            },
            "type": "choropleth"
           }
          ],
          "contour": [
           {
            "colorbar": {
             "outlinewidth": 0,
             "ticks": ""
            },
            "colorscale": [
             [
              0,
              "#0d0887"
             ],
             [
              0.1111111111111111,
              "#46039f"
             ],
             [
              0.2222222222222222,
              "#7201a8"
             ],
             [
              0.3333333333333333,
              "#9c179e"
             ],
             [
              0.4444444444444444,
              "#bd3786"
             ],
             [
              0.5555555555555556,
              "#d8576b"
             ],
             [
              0.6666666666666666,
              "#ed7953"
             ],
             [
              0.7777777777777778,
              "#fb9f3a"
             ],
             [
              0.8888888888888888,
              "#fdca26"
             ],
             [
              1,
              "#f0f921"
             ]
            ],
            "type": "contour"
           }
          ],
          "contourcarpet": [
           {
            "colorbar": {
             "outlinewidth": 0,
             "ticks": ""
            },
            "type": "contourcarpet"
           }
          ],
          "heatmap": [
           {
            "colorbar": {
             "outlinewidth": 0,
             "ticks": ""
            },
            "colorscale": [
             [
              0,
              "#0d0887"
             ],
             [
              0.1111111111111111,
              "#46039f"
             ],
             [
              0.2222222222222222,
              "#7201a8"
             ],
             [
              0.3333333333333333,
              "#9c179e"
             ],
             [
              0.4444444444444444,
              "#bd3786"
             ],
             [
              0.5555555555555556,
              "#d8576b"
             ],
             [
              0.6666666666666666,
              "#ed7953"
             ],
             [
              0.7777777777777778,
              "#fb9f3a"
             ],
             [
              0.8888888888888888,
              "#fdca26"
             ],
             [
              1,
              "#f0f921"
             ]
            ],
            "type": "heatmap"
           }
          ],
          "heatmapgl": [
           {
            "colorbar": {
             "outlinewidth": 0,
             "ticks": ""
            },
            "colorscale": [
             [
              0,
              "#0d0887"
             ],
             [
              0.1111111111111111,
              "#46039f"
             ],
             [
              0.2222222222222222,
              "#7201a8"
             ],
             [
              0.3333333333333333,
              "#9c179e"
             ],
             [
              0.4444444444444444,
              "#bd3786"
             ],
             [
              0.5555555555555556,
              "#d8576b"
             ],
             [
              0.6666666666666666,
              "#ed7953"
             ],
             [
              0.7777777777777778,
              "#fb9f3a"
             ],
             [
              0.8888888888888888,
              "#fdca26"
             ],
             [
              1,
              "#f0f921"
             ]
            ],
            "type": "heatmapgl"
           }
          ],
          "histogram": [
           {
            "marker": {
             "colorbar": {
              "outlinewidth": 0,
              "ticks": ""
             }
            },
            "type": "histogram"
           }
          ],
          "histogram2d": [
           {
            "colorbar": {
             "outlinewidth": 0,
             "ticks": ""
            },
            "colorscale": [
             [
              0,
              "#0d0887"
             ],
             [
              0.1111111111111111,
              "#46039f"
             ],
             [
              0.2222222222222222,
              "#7201a8"
             ],
             [
              0.3333333333333333,
              "#9c179e"
             ],
             [
              0.4444444444444444,
              "#bd3786"
             ],
             [
              0.5555555555555556,
              "#d8576b"
             ],
             [
              0.6666666666666666,
              "#ed7953"
             ],
             [
              0.7777777777777778,
              "#fb9f3a"
             ],
             [
              0.8888888888888888,
              "#fdca26"
             ],
             [
              1,
              "#f0f921"
             ]
            ],
            "type": "histogram2d"
           }
          ],
          "histogram2dcontour": [
           {
            "colorbar": {
             "outlinewidth": 0,
             "ticks": ""
            },
            "colorscale": [
             [
              0,
              "#0d0887"
             ],
             [
              0.1111111111111111,
              "#46039f"
             ],
             [
              0.2222222222222222,
              "#7201a8"
             ],
             [
              0.3333333333333333,
              "#9c179e"
             ],
             [
              0.4444444444444444,
              "#bd3786"
             ],
             [
              0.5555555555555556,
              "#d8576b"
             ],
             [
              0.6666666666666666,
              "#ed7953"
             ],
             [
              0.7777777777777778,
              "#fb9f3a"
             ],
             [
              0.8888888888888888,
              "#fdca26"
             ],
             [
              1,
              "#f0f921"
             ]
            ],
            "type": "histogram2dcontour"
           }
          ],
          "mesh3d": [
           {
            "colorbar": {
             "outlinewidth": 0,
             "ticks": ""
            },
            "type": "mesh3d"
           }
          ],
          "parcoords": [
           {
            "line": {
             "colorbar": {
              "outlinewidth": 0,
              "ticks": ""
             }
            },
            "type": "parcoords"
           }
          ],
          "pie": [
           {
            "automargin": true,
            "type": "pie"
           }
          ],
          "scatter": [
           {
            "marker": {
             "colorbar": {
              "outlinewidth": 0,
              "ticks": ""
             }
            },
            "type": "scatter"
           }
          ],
          "scatter3d": [
           {
            "line": {
             "colorbar": {
              "outlinewidth": 0,
              "ticks": ""
             }
            },
            "marker": {
             "colorbar": {
              "outlinewidth": 0,
              "ticks": ""
             }
            },
            "type": "scatter3d"
           }
          ],
          "scattercarpet": [
           {
            "marker": {
             "colorbar": {
              "outlinewidth": 0,
              "ticks": ""
             }
            },
            "type": "scattercarpet"
           }
          ],
          "scattergeo": [
           {
            "marker": {
             "colorbar": {
              "outlinewidth": 0,
              "ticks": ""
             }
            },
            "type": "scattergeo"
           }
          ],
          "scattergl": [
           {
            "marker": {
             "colorbar": {
              "outlinewidth": 0,
              "ticks": ""
             }
            },
            "type": "scattergl"
           }
          ],
          "scattermapbox": [
           {
            "marker": {
             "colorbar": {
              "outlinewidth": 0,
              "ticks": ""
             }
            },
            "type": "scattermapbox"
           }
          ],
          "scatterpolar": [
           {
            "marker": {
             "colorbar": {
              "outlinewidth": 0,
              "ticks": ""
             }
            },
            "type": "scatterpolar"
           }
          ],
          "scatterpolargl": [
           {
            "marker": {
             "colorbar": {
              "outlinewidth": 0,
              "ticks": ""
             }
            },
            "type": "scatterpolargl"
           }
          ],
          "scatterternary": [
           {
            "marker": {
             "colorbar": {
              "outlinewidth": 0,
              "ticks": ""
             }
            },
            "type": "scatterternary"
           }
          ],
          "surface": [
           {
            "colorbar": {
             "outlinewidth": 0,
             "ticks": ""
            },
            "colorscale": [
             [
              0,
              "#0d0887"
             ],
             [
              0.1111111111111111,
              "#46039f"
             ],
             [
              0.2222222222222222,
              "#7201a8"
             ],
             [
              0.3333333333333333,
              "#9c179e"
             ],
             [
              0.4444444444444444,
              "#bd3786"
             ],
             [
              0.5555555555555556,
              "#d8576b"
             ],
             [
              0.6666666666666666,
              "#ed7953"
             ],
             [
              0.7777777777777778,
              "#fb9f3a"
             ],
             [
              0.8888888888888888,
              "#fdca26"
             ],
             [
              1,
              "#f0f921"
             ]
            ],
            "type": "surface"
           }
          ],
          "table": [
           {
            "cells": {
             "fill": {
              "color": "#EBF0F8"
             },
             "line": {
              "color": "white"
             }
            },
            "header": {
             "fill": {
              "color": "#C8D4E3"
             },
             "line": {
              "color": "white"
             }
            },
            "type": "table"
           }
          ]
         },
         "layout": {
          "annotationdefaults": {
           "arrowcolor": "#2a3f5f",
           "arrowhead": 0,
           "arrowwidth": 1
          },
          "coloraxis": {
           "colorbar": {
            "outlinewidth": 0,
            "ticks": ""
           }
          },
          "colorscale": {
           "diverging": [
            [
             0,
             "#8e0152"
            ],
            [
             0.1,
             "#c51b7d"
            ],
            [
             0.2,
             "#de77ae"
            ],
            [
             0.3,
             "#f1b6da"
            ],
            [
             0.4,
             "#fde0ef"
            ],
            [
             0.5,
             "#f7f7f7"
            ],
            [
             0.6,
             "#e6f5d0"
            ],
            [
             0.7,
             "#b8e186"
            ],
            [
             0.8,
             "#7fbc41"
            ],
            [
             0.9,
             "#4d9221"
            ],
            [
             1,
             "#276419"
            ]
           ],
           "sequential": [
            [
             0,
             "#0d0887"
            ],
            [
             0.1111111111111111,
             "#46039f"
            ],
            [
             0.2222222222222222,
             "#7201a8"
            ],
            [
             0.3333333333333333,
             "#9c179e"
            ],
            [
             0.4444444444444444,
             "#bd3786"
            ],
            [
             0.5555555555555556,
             "#d8576b"
            ],
            [
             0.6666666666666666,
             "#ed7953"
            ],
            [
             0.7777777777777778,
             "#fb9f3a"
            ],
            [
             0.8888888888888888,
             "#fdca26"
            ],
            [
             1,
             "#f0f921"
            ]
           ],
           "sequentialminus": [
            [
             0,
             "#0d0887"
            ],
            [
             0.1111111111111111,
             "#46039f"
            ],
            [
             0.2222222222222222,
             "#7201a8"
            ],
            [
             0.3333333333333333,
             "#9c179e"
            ],
            [
             0.4444444444444444,
             "#bd3786"
            ],
            [
             0.5555555555555556,
             "#d8576b"
            ],
            [
             0.6666666666666666,
             "#ed7953"
            ],
            [
             0.7777777777777778,
             "#fb9f3a"
            ],
            [
             0.8888888888888888,
             "#fdca26"
            ],
            [
             1,
             "#f0f921"
            ]
           ]
          },
          "colorway": [
           "#636efa",
           "#EF553B",
           "#00cc96",
           "#ab63fa",
           "#FFA15A",
           "#19d3f3",
           "#FF6692",
           "#B6E880",
           "#FF97FF",
           "#FECB52"
          ],
          "font": {
           "color": "#2a3f5f"
          },
          "geo": {
           "bgcolor": "white",
           "lakecolor": "white",
           "landcolor": "#E5ECF6",
           "showlakes": true,
           "showland": true,
           "subunitcolor": "white"
          },
          "hoverlabel": {
           "align": "left"
          },
          "hovermode": "closest",
          "mapbox": {
           "style": "light"
          },
          "paper_bgcolor": "white",
          "plot_bgcolor": "#E5ECF6",
          "polar": {
           "angularaxis": {
            "gridcolor": "white",
            "linecolor": "white",
            "ticks": ""
           },
           "bgcolor": "#E5ECF6",
           "radialaxis": {
            "gridcolor": "white",
            "linecolor": "white",
            "ticks": ""
           }
          },
          "scene": {
           "xaxis": {
            "backgroundcolor": "#E5ECF6",
            "gridcolor": "white",
            "gridwidth": 2,
            "linecolor": "white",
            "showbackground": true,
            "ticks": "",
            "zerolinecolor": "white"
           },
           "yaxis": {
            "backgroundcolor": "#E5ECF6",
            "gridcolor": "white",
            "gridwidth": 2,
            "linecolor": "white",
            "showbackground": true,
            "ticks": "",
            "zerolinecolor": "white"
           },
           "zaxis": {
            "backgroundcolor": "#E5ECF6",
            "gridcolor": "white",
            "gridwidth": 2,
            "linecolor": "white",
            "showbackground": true,
            "ticks": "",
            "zerolinecolor": "white"
           }
          },
          "shapedefaults": {
           "line": {
            "color": "#2a3f5f"
           }
          },
          "ternary": {
           "aaxis": {
            "gridcolor": "white",
            "linecolor": "white",
            "ticks": ""
           },
           "baxis": {
            "gridcolor": "white",
            "linecolor": "white",
            "ticks": ""
           },
           "bgcolor": "#E5ECF6",
           "caxis": {
            "gridcolor": "white",
            "linecolor": "white",
            "ticks": ""
           }
          },
          "title": {
           "x": 0.05
          },
          "xaxis": {
           "automargin": true,
           "gridcolor": "white",
           "linecolor": "white",
           "ticks": "",
           "title": {
            "standoff": 15
           },
           "zerolinecolor": "white",
           "zerolinewidth": 2
          },
          "yaxis": {
           "automargin": true,
           "gridcolor": "white",
           "linecolor": "white",
           "ticks": "",
           "title": {
            "standoff": 15
           },
           "zerolinecolor": "white",
           "zerolinewidth": 2
          }
         }
        },
        "title": {
         "text": "HCIDLA Affordable Projects by Community in the City of Los Angeles"
        },
        "xaxis": {
         "anchor": "y",
         "domain": [
          0,
          1
         ],
         "title": {
          "text": "SITE COMMUNITY"
         }
        },
        "yaxis": {
         "anchor": "x",
         "domain": [
          0,
          1
         ],
         "title": {
          "text": "count"
         }
        }
       }
      },
      "text/html": [
       "<div>                            <div id=\"9a4d9c8b-6bbe-4160-be0b-e5a20e86e4b3\" class=\"plotly-graph-div\" style=\"height:525px; width:100%;\"></div>            <script type=\"text/javascript\">                require([\"plotly\"], function(Plotly) {                    window.PLOTLYENV=window.PLOTLYENV || {};                                    if (document.getElementById(\"9a4d9c8b-6bbe-4160-be0b-e5a20e86e4b3\")) {                    Plotly.newPlot(                        \"9a4d9c8b-6bbe-4160-be0b-e5a20e86e4b3\",                        [{\"alignmentgroup\": \"True\", \"hovertemplate\": \"SITE COMMUNITY=%{x}<br>count=%{y}<extra></extra>\", \"legendgroup\": \"\", \"marker\": {\"color\": \"#636efa\"}, \"name\": \"\", \"offsetgroup\": \"\", \"orientation\": \"v\", \"showlegend\": false, \"textposition\": \"auto\", \"type\": \"bar\", \"x\": [\"CENTRAL\", \"ST ELMO VILLAGE\", \"VERNON CENTRAL\", \"WEST ADAMS\", \"VAN NUYS\", \"UNIVERSITY PARK\", \"HIGHLAND PARK\", \"HIGHLAND PARK\", \"EXPOSITION PARK\", \"SUN VALLEY\", \"SYLMAR\", \"WEST VERNON\", \"HOLLYWOOD\", \"SOUTH PARK\", \"WILSHIRE CENTER\", \"MELROSE\", \"WEST ADAMS\", \"KOREATOWN\", \"HARBOR GATEWAY\", \"DOWNTOWN\", \"HOLLYWOOD\", \"CENTURY PALMS/COVE\", \"UNIVERSITY PARK\", \"ATWATER VILLAGE\", \"EXPOSITION PARK\", \"WHOLESALE DISTRICT\", \"VAN NUYS\", \"UNIVERSITY PARK\", \"HOLLYWOOD\", \"BOYLE HEIGHTS\", \"VERNON CENTRAL\", \"WILSHIRE CENTER\", \"EAST HOLLYWOOD\", \"NORTH HOLLYWOOD\", \"VERMONT VISTA\", \"WHOLESALE DISTRICT\", \"WATTS\", \"MELROSE\", \"CHINATOWN\", \"CENTURY PALMS/COVE\", \"HYDE PARK\", \"WEST ADAMS\", \"TEMPLE-BEAUDRY\", \"WESTLAKE\", \"HOLLYWOOD\", \"NORTH HILLS\", \"SOUTH PARK\", \"VENICE\", \"WESTLAKE\", \"VAN NUYS\", \"HARBOR GATEWAY\", \"WHOLESALE DISTRICT\", \"TEMPLE-BEAUDRY\", \"DOWNTOWN\", \"SOUTH PARK\", \"DEL REY\", \"ATWATER VILLAGE\", \"VERMONT VISTA\", \"WILSHIRE CENTER\", \"ADAMS-NORMANDIE\", \"WATTS\", \"WHOLESALE DISTRICT\", \"SILVERLAKE\", \"VERMONT SQUARE\", \"UNIVERSITY PARK\", \"WESTLAKE\", \"ANGELINO HEIGHTS\", \"NORTH HILLS\", \"ATWATER VILLAGE\", \"TEMPLE-BEAUDRY\", \"LINCOLN HEIGHTS\", \"PICO-UNION\", \"TEMPLE-BEAUDRY\", \"KOREATOWN\", \"GLASSELL PARK\", \"PANORAMA CITY\", \"FLORENCE-FIRESTONE\", \"KOREATOWN\", \"GLASSELL PARK\", \"VERMONT VISTA\", \"SOUTH PARK\", \"CRENSHAW DISTRICT\", \"UNIVERSITY PARK\", \"HARVARD PARK\", \"LINCOLN HEIGHTS\", \"MT. WASHINGTON\", \"CRENSHAW DISTRICT\", \"WESTLAKE\", \"VAN NUYS\", \"CENTURY PALMS/COVE\", \"THAI TOWN\", \"SILVERLAKE\", \"VENICE\", \"UNIVERSITY PARK\", \"WEST ADAMS\", \"KOREATOWN\", \"HOLLYWOOD\", \"UNIVERSITY PARK\", \"EXPOSITION PARK\", \"EXPOSITION\", \"LAKEVIEW TERRACE\", \"COUNTRY CLUB PARK\", \"MELROSE\", \"HOLLYWOOD\", \"CENTRAL\", \"VICTORIA PARK\", \"VICTORIA PARK\", \"EXPOSITION PARK\", \"HOLLYWOOD\", \"CENTURY PALMS/COVE\", \"LOS FELIZ\", \"VERMONT VISTA\", \"PACOIMA\", \"WESTLAKE\", \"WEST LOS ANGELES\", \"EAST HOLLYWOOD\", \"WELLINGTON SQUARE\", \"PICO-UNION\", \"WEST VERNON\", \"EXPOSITION PARK\", \"RESEDA\", \"PANORAMA CITY\", \"DEL REY\", \"HARVARD HEIGHTS\", \"HARBOR GATEWAY\", \"CHINATOWN\", \"FLORENCE-FIRESTONE\", \"ECHO PARK\", \"COUNTRY CLUB PARK\", \"LINCOLN HEIGHTS\", \"WHOLESALE DISTRICT\", \"PICO-UNION\", \"NORTH HOLLYWOOD\", \"HOLLYWOOD\", \"TUJUNGA\", \"WEST ADAMS\", \"SILVERLAKE\", \"RESEDA\", \"EL SERENO\", \"VALLEY GLEN\", \"HISTORIC FILIPINOTOWN\", \"WHOLESALE DISTRICT\", \"MELROSE\", \"WESTLAKE\", \"SYLMAR\", \"WEST VERNON\", \"HOLLYWOOD\", \"CENTRAL\", \"SOUTH PARK\", \"MELROSE\", \"PICO-UNION\", \"EXPOSITION PARK\", \"EXPOSITION PARK\", \"HOLLYWOOD HILLS\", \"DEL REY\", \"WHOLESALE DISTRICT\", \"TEMPLE-BEAUDRY\", \"WHOLESALE DISTRICT\", \"CENTRAL\", \"ATWATER VILLAGE\", \"VERNON CENTRAL\", \"PANORAMA CITY\", \"CHINATOWN\", \"WHOLESALE DISTRICT\", \"KOREATOWN\", \"CENTRAL\", \"WEST ADAMS\", \"MELROSE\", \"TEMPLE-BEAUDRY\", \"HYDE PARK\", \"LINCOLN HEIGHTS\", \"WATTS\", \"CRESTVIEW\", \"WHOLESALE DISTRICT\", \"VERMONT VISTA\", \"VERMONT VISTA\", \"LAKEVIEW TERRACE\", \"WHOLESALE DISTRICT\", \"SYLMAR\", \"LITTLE TOKYO\", \"MELROSE\", \"ALSACE\", \"CENTRAL\", \"WATTS\", \"BOYLE HEIGHTS\", \"SOUTH PARK\", \"WEST ADAMS\", \"SUN VALLEY\", \"BOYLE HEIGHTS\", \"WESTLAKE\", \"LINCOLN HEIGHTS\", \"CENTRAL\", \"VAN NUYS\", \"EXPOSITION PARK\", \"RESEDA\", \"VALLEY GLEN\", \"NORTH HILLS\", \"CENTRAL\", \"CENTRAL\", \"PANORAMA CITY\", \"CRENSHAW DISTRICT\", \"WEST VERNON\", \"DOWNTOWN\", \"BOYLE HEIGHTS\", \"KOREATOWN\", \"PICO-UNION\", \"WATTS\", \"SYLMAR\", \"CENTRAL\", \"LINCOLN HEIGHTS\", \"FLORENCE-FIRESTONE\", \"HYDE PARK\", \"HISTORIC FILIPINOTOWN\", \"HANCOCK PARK\", \"SAN PEDRO\", \"HARVARD HEIGHTS\", \"VALLEY GLEN\", \"EAST HOLLYWOOD\", \"MELROSE\", \"KOREATOWN\", \"SAN PEDRO\", \"CENTRAL\", \"VERNON CENTRAL\", \"EXPOSITION PARK\", \"ATWATER VILLAGE\", \"EAST HOLLYWOOD\", \"WESTLAKE\", \"HARBOR GATEWAY\", \"WESTLAKE\", \"HARVARD HEIGHTS\", \"VERMONT VISTA\", \"HISTORIC FILIPINOTOWN\", \"WHOLESALE DISTRICT\", \"WESTLAKE\", \"WILSHIRE CENTER\", \"KOREATOWN\", \"CENTURY PALMS/COVE\", \"PICO-UNION\", \"WESTLAKE\", \"VALLEY GLEN\", \"WEST ADAMS\", \"SILVERLAKE\", \"FLORENCE-FIRESTONE\", \"MELROSE\", \"MELROSE\", \"HARVARD PARK\", \"CANOGA PARK\", \"EXPOSITION PARK\", \"HOLLYWOOD\", \"JEFFERSON PARK\", \"MELROSE\", \"HISTORIC FILIPINOTOWN\", \"PACOIMA\", \"THAI TOWN\", \"VERNON CENTRAL\", \"WILSHIRE CENTER\", \"WILSHIRE CENTER\", \"MAR VISTA\", \"EL SERENO\", \"HARBOR CITY\", \"RANCHO PARK\", \"GLASSELL PARK\", \"KOREATOWN\", \"CANOGA PARK\", \"PICO-UNION\", \"SYLMAR\", \"WEST ADAMS\", \"TEMPLE-BEAUDRY\", \"TEMPLE-BEAUDRY\", \"PICO-UNION\", \"WESTLAKE\", \"HARBOR GATEWAY\", \"CRENSHAW DISTRICT\", \"WESTLAKE\", \"SOUTH PARK\", \"WESTLAKE\", \"WHOLESALE DISTRICT\", \"WEST VERNON\", \"NORTH HILLS\", \"ECHO PARK\", \"VAN NUYS\", \"VERMONT KNOLLS\", \"WESTLAKE\", \"THAI TOWN\", \"CENTRAL\", \"GREEN MEADOWS\", \"WESTLAKE\", \"HISTORIC FILIPINOTOWN\", \"UNIVERSITY PARK\", \"RESEDA\", \"CENTRAL\", \"VALLEY GLEN\", \"WILMINGTON\", \"NORTH HILLS\", \"VERNON CENTRAL\", \"HOLLYWOOD\", \"WESTLAKE\", \"WESTLAKE\", \"WESTLAKE\", \"GLASSELL PARK\", \"SUN VALLEY\", \"EXPOSITION PARK\", \"BOYLE HEIGHTS\", null, \"VAN NUYS\", \"DOWNTOWN\", \"EAGLE ROCK\", \"WHOLESALE DISTRICT\", \"WHOLESALE DISTRICT\", \"EXPOSITION PARK\", \"SUN VALLEY\", \"SILVERLAKE\", \"WILMINGTON\", \"EXPOSITION PARK\", \"SILVERLAKE\", \"EAST HOLLYWOOD\", \"VERMONT KNOLLS\", \"WESTLAKE\", \"DOWNTOWN\", \"SOUTH PARK\", \"HOLLYWOOD\", \"CENTRAL\", \"WATTS\", \"BOYLE HEIGHTS\", \"SHERMAN OAKS\", \"UNIVERSITY PARK\", \"HARBOR GATEWAY\", \"UNIVERSITY PARK\", \"MELROSE\", \"WATTS\", \"TEMPLE-BEAUDRY\", \"VICTORIA PARK\", \"TEMPLE-BEAUDRY\", \"UNIVERSITY PARK\", \"EXPOSITION PARK\", \"EAST HOLLYWOOD\", \"HARVARD HEIGHTS\", \"EXPOSITION PARK\", \"CHATSWORTH\", \"VERMONT VISTA\", \"SUN VALLEY\", \"CENTURY PALMS/COVE\", \"PICO-UNION\", \"NORTH HILLS\", \"GRAMERCY PLACE\", \"WESTLAKE\", \"CENTRAL\", \"HOLLYWOOD\", \"WESTLAKE\", \"NORTH HILLS\", \"VICTORIA PARK\", \"THAI TOWN\", \"TEMPLE-BEAUDRY\", \"LITTLE TOKYO\", \"ATWATER VILLAGE\", \"LINCOLN HEIGHTS\", \"PICO-UNION\", \"SILVERLAKE\", \"TEMPLE-BEAUDRY\", \"WHOLESALE DISTRICT\", \"BALDWIN HILLS\", \"WILSHIRE CENTER\", \"CENTURY PALMS/COVE\", \"WEST VERNON\", \"WESTLAKE\", \"TEMPLE-BEAUDRY\", \"WATTS\", \"KOREATOWN\", \"THAI TOWN\", \"FIGUEROA PARK SQUARE\", \"WESTLAKE\", \"MELROSE\", \"CENTURY PALMS/COVE\", \"NORTH HILLS\", \"BOYLE HEIGHTS\", \"WEST ADAMS\", \"BALDWIN HILLS\", \"PANORAMA CITY\", \"WESTLAKE\", \"WEST VERNON\", \"ADAMS-NORMANDIE\", \"BOYLE HEIGHTS\", \"WHOLESALE DISTRICT\", \"TEMPLE-BEAUDRY\", \"HARVARD HEIGHTS\", \"HOLLYWOOD\", \"CRENSHAW DISTRICT\", \"VERNON CENTRAL\", \"PACOIMA\", \"SUN VALLEY\", \"WESTLAKE\", \"SUNLAND\", \"EXPOSITION PARK\", \"CRENSHAW DISTRICT\", \"VERMONT KNOLLS\", \"WILMINGTON\", \"BOYLE HEIGHTS\", \"PICO-UNION\", \"HOLLYWOOD\", \"PANORAMA CITY\", \"CENTRAL\", \"UNIVERSITY PARK\", \"NORTH HOLLYWOOD\", \"VENICE\", \"HARBOR GATEWAY\", \"SYLMAR\", \"WESTLAKE\", \"RESEDA\", \"WEST VERNON\", \"WESTLAKE\", \"HOLLYWOOD\", \"WHOLESALE DISTRICT\", \"WESTLAKE\", \"WEST VERNON\", \"SOUTH PARK\", \"EAST HOLLYWOOD\", \"UNIVERSITY PARK\", \"VERMONT VISTA\", \"PICO-UNION\", \"CENTRAL\", \"WESTLAKE\", \"WHOLESALE DISTRICT\", \"DOWNTOWN\", \"HARVARD HEIGHTS\", \"WESTLAKE\", \"NORTH HOLLYWOOD\", \"WATTS\", \"WILMINGTON\", \"WESTLAKE\", \"VERMONT VISTA\", \"FLORENCE-FIRESTONE\", \"KOREATOWN\", \"ELYSIAN VALLEY\", \"FLORENCE-FIRESTONE\", \"FLORENCE-FIRESTONE\", \"KOREATOWN\", \"NORTH HILLS\", \"GREEN MEADOWS\", \"WEST VERNON\", \"EAST HOLLYWOOD\", \"WHOLESALE DISTRICT\", \"LINCOLN HEIGHTS\", \"WHOLESALE DISTRICT\", \"WHOLESALE DISTRICT\", \"CENTRAL\", \"HARBOR CITY\", \"PANORAMA CITY\", \"WHOLESALE DISTRICT\", \"PICO-UNION\", \"DOWNTOWN\", \"BOYLE HEIGHTS\", \"SOUTH PARK\", \"CANOGA PARK\", \"WILMINGTON\", \"WEST VERNON\", \"VERMONT VISTA\", \"TEMPLE-BEAUDRY\", \"WEST VERNON\", \"WESTLAKE\", \"SUN VALLEY\", \"WATTS\", \"WATTS\", \"UNIVERSITY PARK\", \"WEST VERNON\", \"MELROSE\", \"WILSHIRE CENTER\", \"HOLLYWOOD\", \"PANORAMA CITY\", \"HARVARD HEIGHTS\", \"WESTLAKE\", \"PICO-UNION\", \"CENTURY PALMS/COVE\", \"CENTRAL\", \"PACOIMA\", \"KOREATOWN\", \"WEST VERNON\"], \"xaxis\": \"x\", \"y\": [1, 1, 1, 1, 1, 1, 1, 1, 1, 1, 1, 1, 1, 1, 1, 1, 1, 1, 1, 1, 1, 1, 1, 1, 1, 1, 1, 1, 1, 1, 1, 1, 1, 1, 1, 1, 1, 1, 1, 1, 1, 1, 1, 1, 1, 1, 1, 1, 1, 1, 1, 1, 1, 1, 1, 1, 1, 1, 1, 1, 1, 1, 1, 1, 1, 1, 1, 1, 1, 1, 1, 1, 1, 1, 1, 1, 1, 1, 1, 1, 1, 1, 1, 1, 1, 1, 1, 1, 1, 1, 1, 1, 1, 1, 1, 1, 1, 1, 1, 1, 1, 1, 1, 1, 1, 1, 1, 1, 1, 1, 1, 1, 1, 1, 1, 1, 1, 1, 1, 1, 1, 1, 1, 1, 1, 1, 1, 1, 1, 1, 1, 1, 1, 1, 1, 1, 1, 1, 1, 1, 1, 1, 1, 1, 1, 1, 1, 1, 1, 1, 1, 1, 1, 1, 1, 1, 1, 1, 1, 1, 1, 1, 1, 1, 1, 1, 1, 1, 1, 1, 1, 1, 1, 1, 1, 1, 1, 1, 1, 1, 1, 1, 1, 1, 1, 1, 1, 1, 1, 1, 1, 1, 1, 1, 1, 1, 1, 1, 1, 1, 1, 1, 1, 1, 1, 1, 1, 1, 1, 1, 1, 1, 1, 1, 1, 1, 1, 1, 1, 1, 1, 1, 1, 1, 1, 1, 1, 1, 1, 1, 1, 1, 1, 1, 1, 1, 1, 1, 1, 1, 1, 1, 1, 1, 1, 1, 1, 1, 1, 1, 1, 1, 1, 1, 1, 1, 1, 1, 1, 1, 1, 1, 1, 1, 1, 1, 1, 1, 1, 1, 1, 1, 1, 1, 1, 1, 1, 1, 1, 1, 1, 1, 1, 1, 1, 1, 1, 1, 1, 1, 1, 1, 1, 1, 1, 1, 1, 1, 1, 1, 1, 1, 1, 1, 1, 1, 1, 1, 1, 1, 1, 1, 1, 1, 1, 1, 1, 1, 1, 1, 1, 1, 1, 1, 1, 1, 1, 1, 1, 1, 1, 1, 1, 1, 1, 1, 1, 1, 1, 1, 1, 1, 1, 1, 1, 1, 1, 1, 1, 1, 1, 1, 1, 1, 1, 1, 1, 1, 1, 1, 1, 1, 1, 1, 1, 1, 1, 1, 1, 1, 1, 1, 1, 1, 1, 1, 1, 1, 1, 1, 1, 1, 1, 1, 1, 1, 1, 1, 1, 1, 1, 1, 1, 1, 1, 1, 1, 1, 1, 1, 1, 1, 1, 1, 1, 1, 1, 1, 1, 1, 1, 1, 1, 1, 1, 1, 1, 1, 1, 1, 1, 1, 1, 1, 1, 1, 1, 1, 1, 1, 1, 1, 1, 1, 1, 1, 1, 1, 1, 1, 1, 1, 1, 1, 1, 1, 1, 1, 1, 1, 1, 1, 1, 1, 1, 1, 1, 1, 1, 1, 1, 1, 1, 1, 1, 1, 1, 1, 1, 1, 1, 1, 1, 1, 1, 1], \"yaxis\": \"y\"}],                        {\"barmode\": \"relative\", \"legend\": {\"tracegroupgap\": 0}, \"template\": {\"data\": {\"bar\": [{\"error_x\": {\"color\": \"#2a3f5f\"}, \"error_y\": {\"color\": \"#2a3f5f\"}, \"marker\": {\"line\": {\"color\": \"#E5ECF6\", \"width\": 0.5}}, \"type\": \"bar\"}], \"barpolar\": [{\"marker\": {\"line\": {\"color\": \"#E5ECF6\", \"width\": 0.5}}, \"type\": \"barpolar\"}], \"carpet\": [{\"aaxis\": {\"endlinecolor\": \"#2a3f5f\", \"gridcolor\": \"white\", \"linecolor\": \"white\", \"minorgridcolor\": \"white\", \"startlinecolor\": \"#2a3f5f\"}, \"baxis\": {\"endlinecolor\": \"#2a3f5f\", \"gridcolor\": \"white\", \"linecolor\": \"white\", \"minorgridcolor\": \"white\", \"startlinecolor\": \"#2a3f5f\"}, \"type\": \"carpet\"}], \"choropleth\": [{\"colorbar\": {\"outlinewidth\": 0, \"ticks\": \"\"}, \"type\": \"choropleth\"}], \"contour\": [{\"colorbar\": {\"outlinewidth\": 0, \"ticks\": \"\"}, \"colorscale\": [[0.0, \"#0d0887\"], [0.1111111111111111, \"#46039f\"], [0.2222222222222222, \"#7201a8\"], [0.3333333333333333, \"#9c179e\"], [0.4444444444444444, \"#bd3786\"], [0.5555555555555556, \"#d8576b\"], [0.6666666666666666, \"#ed7953\"], [0.7777777777777778, \"#fb9f3a\"], [0.8888888888888888, \"#fdca26\"], [1.0, \"#f0f921\"]], \"type\": \"contour\"}], \"contourcarpet\": [{\"colorbar\": {\"outlinewidth\": 0, \"ticks\": \"\"}, \"type\": \"contourcarpet\"}], \"heatmap\": [{\"colorbar\": {\"outlinewidth\": 0, \"ticks\": \"\"}, \"colorscale\": [[0.0, \"#0d0887\"], [0.1111111111111111, \"#46039f\"], [0.2222222222222222, \"#7201a8\"], [0.3333333333333333, \"#9c179e\"], [0.4444444444444444, \"#bd3786\"], [0.5555555555555556, \"#d8576b\"], [0.6666666666666666, \"#ed7953\"], [0.7777777777777778, \"#fb9f3a\"], [0.8888888888888888, \"#fdca26\"], [1.0, \"#f0f921\"]], \"type\": \"heatmap\"}], \"heatmapgl\": [{\"colorbar\": {\"outlinewidth\": 0, \"ticks\": \"\"}, \"colorscale\": [[0.0, \"#0d0887\"], [0.1111111111111111, \"#46039f\"], [0.2222222222222222, \"#7201a8\"], [0.3333333333333333, \"#9c179e\"], [0.4444444444444444, \"#bd3786\"], [0.5555555555555556, \"#d8576b\"], [0.6666666666666666, \"#ed7953\"], [0.7777777777777778, \"#fb9f3a\"], [0.8888888888888888, \"#fdca26\"], [1.0, \"#f0f921\"]], \"type\": \"heatmapgl\"}], \"histogram\": [{\"marker\": {\"colorbar\": {\"outlinewidth\": 0, \"ticks\": \"\"}}, \"type\": \"histogram\"}], \"histogram2d\": [{\"colorbar\": {\"outlinewidth\": 0, \"ticks\": \"\"}, \"colorscale\": [[0.0, \"#0d0887\"], [0.1111111111111111, \"#46039f\"], [0.2222222222222222, \"#7201a8\"], [0.3333333333333333, \"#9c179e\"], [0.4444444444444444, \"#bd3786\"], [0.5555555555555556, \"#d8576b\"], [0.6666666666666666, \"#ed7953\"], [0.7777777777777778, \"#fb9f3a\"], [0.8888888888888888, \"#fdca26\"], [1.0, \"#f0f921\"]], \"type\": \"histogram2d\"}], \"histogram2dcontour\": [{\"colorbar\": {\"outlinewidth\": 0, \"ticks\": \"\"}, \"colorscale\": [[0.0, \"#0d0887\"], [0.1111111111111111, \"#46039f\"], [0.2222222222222222, \"#7201a8\"], [0.3333333333333333, \"#9c179e\"], [0.4444444444444444, \"#bd3786\"], [0.5555555555555556, \"#d8576b\"], [0.6666666666666666, \"#ed7953\"], [0.7777777777777778, \"#fb9f3a\"], [0.8888888888888888, \"#fdca26\"], [1.0, \"#f0f921\"]], \"type\": \"histogram2dcontour\"}], \"mesh3d\": [{\"colorbar\": {\"outlinewidth\": 0, \"ticks\": \"\"}, \"type\": \"mesh3d\"}], \"parcoords\": [{\"line\": {\"colorbar\": {\"outlinewidth\": 0, \"ticks\": \"\"}}, \"type\": \"parcoords\"}], \"pie\": [{\"automargin\": true, \"type\": \"pie\"}], \"scatter\": [{\"marker\": {\"colorbar\": {\"outlinewidth\": 0, \"ticks\": \"\"}}, \"type\": \"scatter\"}], \"scatter3d\": [{\"line\": {\"colorbar\": {\"outlinewidth\": 0, \"ticks\": \"\"}}, \"marker\": {\"colorbar\": {\"outlinewidth\": 0, \"ticks\": \"\"}}, \"type\": \"scatter3d\"}], \"scattercarpet\": [{\"marker\": {\"colorbar\": {\"outlinewidth\": 0, \"ticks\": \"\"}}, \"type\": \"scattercarpet\"}], \"scattergeo\": [{\"marker\": {\"colorbar\": {\"outlinewidth\": 0, \"ticks\": \"\"}}, \"type\": \"scattergeo\"}], \"scattergl\": [{\"marker\": {\"colorbar\": {\"outlinewidth\": 0, \"ticks\": \"\"}}, \"type\": \"scattergl\"}], \"scattermapbox\": [{\"marker\": {\"colorbar\": {\"outlinewidth\": 0, \"ticks\": \"\"}}, \"type\": \"scattermapbox\"}], \"scatterpolar\": [{\"marker\": {\"colorbar\": {\"outlinewidth\": 0, \"ticks\": \"\"}}, \"type\": \"scatterpolar\"}], \"scatterpolargl\": [{\"marker\": {\"colorbar\": {\"outlinewidth\": 0, \"ticks\": \"\"}}, \"type\": \"scatterpolargl\"}], \"scatterternary\": [{\"marker\": {\"colorbar\": {\"outlinewidth\": 0, \"ticks\": \"\"}}, \"type\": \"scatterternary\"}], \"surface\": [{\"colorbar\": {\"outlinewidth\": 0, \"ticks\": \"\"}, \"colorscale\": [[0.0, \"#0d0887\"], [0.1111111111111111, \"#46039f\"], [0.2222222222222222, \"#7201a8\"], [0.3333333333333333, \"#9c179e\"], [0.4444444444444444, \"#bd3786\"], [0.5555555555555556, \"#d8576b\"], [0.6666666666666666, \"#ed7953\"], [0.7777777777777778, \"#fb9f3a\"], [0.8888888888888888, \"#fdca26\"], [1.0, \"#f0f921\"]], \"type\": \"surface\"}], \"table\": [{\"cells\": {\"fill\": {\"color\": \"#EBF0F8\"}, \"line\": {\"color\": \"white\"}}, \"header\": {\"fill\": {\"color\": \"#C8D4E3\"}, \"line\": {\"color\": \"white\"}}, \"type\": \"table\"}]}, \"layout\": {\"annotationdefaults\": {\"arrowcolor\": \"#2a3f5f\", \"arrowhead\": 0, \"arrowwidth\": 1}, \"coloraxis\": {\"colorbar\": {\"outlinewidth\": 0, \"ticks\": \"\"}}, \"colorscale\": {\"diverging\": [[0, \"#8e0152\"], [0.1, \"#c51b7d\"], [0.2, \"#de77ae\"], [0.3, \"#f1b6da\"], [0.4, \"#fde0ef\"], [0.5, \"#f7f7f7\"], [0.6, \"#e6f5d0\"], [0.7, \"#b8e186\"], [0.8, \"#7fbc41\"], [0.9, \"#4d9221\"], [1, \"#276419\"]], \"sequential\": [[0.0, \"#0d0887\"], [0.1111111111111111, \"#46039f\"], [0.2222222222222222, \"#7201a8\"], [0.3333333333333333, \"#9c179e\"], [0.4444444444444444, \"#bd3786\"], [0.5555555555555556, \"#d8576b\"], [0.6666666666666666, \"#ed7953\"], [0.7777777777777778, \"#fb9f3a\"], [0.8888888888888888, \"#fdca26\"], [1.0, \"#f0f921\"]], \"sequentialminus\": [[0.0, \"#0d0887\"], [0.1111111111111111, \"#46039f\"], [0.2222222222222222, \"#7201a8\"], [0.3333333333333333, \"#9c179e\"], [0.4444444444444444, \"#bd3786\"], [0.5555555555555556, \"#d8576b\"], [0.6666666666666666, \"#ed7953\"], [0.7777777777777778, \"#fb9f3a\"], [0.8888888888888888, \"#fdca26\"], [1.0, \"#f0f921\"]]}, \"colorway\": [\"#636efa\", \"#EF553B\", \"#00cc96\", \"#ab63fa\", \"#FFA15A\", \"#19d3f3\", \"#FF6692\", \"#B6E880\", \"#FF97FF\", \"#FECB52\"], \"font\": {\"color\": \"#2a3f5f\"}, \"geo\": {\"bgcolor\": \"white\", \"lakecolor\": \"white\", \"landcolor\": \"#E5ECF6\", \"showlakes\": true, \"showland\": true, \"subunitcolor\": \"white\"}, \"hoverlabel\": {\"align\": \"left\"}, \"hovermode\": \"closest\", \"mapbox\": {\"style\": \"light\"}, \"paper_bgcolor\": \"white\", \"plot_bgcolor\": \"#E5ECF6\", \"polar\": {\"angularaxis\": {\"gridcolor\": \"white\", \"linecolor\": \"white\", \"ticks\": \"\"}, \"bgcolor\": \"#E5ECF6\", \"radialaxis\": {\"gridcolor\": \"white\", \"linecolor\": \"white\", \"ticks\": \"\"}}, \"scene\": {\"xaxis\": {\"backgroundcolor\": \"#E5ECF6\", \"gridcolor\": \"white\", \"gridwidth\": 2, \"linecolor\": \"white\", \"showbackground\": true, \"ticks\": \"\", \"zerolinecolor\": \"white\"}, \"yaxis\": {\"backgroundcolor\": \"#E5ECF6\", \"gridcolor\": \"white\", \"gridwidth\": 2, \"linecolor\": \"white\", \"showbackground\": true, \"ticks\": \"\", \"zerolinecolor\": \"white\"}, \"zaxis\": {\"backgroundcolor\": \"#E5ECF6\", \"gridcolor\": \"white\", \"gridwidth\": 2, \"linecolor\": \"white\", \"showbackground\": true, \"ticks\": \"\", \"zerolinecolor\": \"white\"}}, \"shapedefaults\": {\"line\": {\"color\": \"#2a3f5f\"}}, \"ternary\": {\"aaxis\": {\"gridcolor\": \"white\", \"linecolor\": \"white\", \"ticks\": \"\"}, \"baxis\": {\"gridcolor\": \"white\", \"linecolor\": \"white\", \"ticks\": \"\"}, \"bgcolor\": \"#E5ECF6\", \"caxis\": {\"gridcolor\": \"white\", \"linecolor\": \"white\", \"ticks\": \"\"}}, \"title\": {\"x\": 0.05}, \"xaxis\": {\"automargin\": true, \"gridcolor\": \"white\", \"linecolor\": \"white\", \"ticks\": \"\", \"title\": {\"standoff\": 15}, \"zerolinecolor\": \"white\", \"zerolinewidth\": 2}, \"yaxis\": {\"automargin\": true, \"gridcolor\": \"white\", \"linecolor\": \"white\", \"ticks\": \"\", \"title\": {\"standoff\": 15}, \"zerolinecolor\": \"white\", \"zerolinewidth\": 2}}}, \"title\": {\"text\": \"HCIDLA Affordable Projects by Community in the City of Los Angeles\"}, \"xaxis\": {\"anchor\": \"y\", \"domain\": [0.0, 1.0], \"title\": {\"text\": \"SITE COMMUNITY\"}}, \"yaxis\": {\"anchor\": \"x\", \"domain\": [0.0, 1.0], \"title\": {\"text\": \"count\"}}},                        {\"responsive\": true}                    ).then(function(){\n",
       "                            \n",
       "var gd = document.getElementById('9a4d9c8b-6bbe-4160-be0b-e5a20e86e4b3');\n",
       "var x = new MutationObserver(function (mutations, observer) {{\n",
       "        var display = window.getComputedStyle(gd).display;\n",
       "        if (!display || display === 'none') {{\n",
       "            console.log([gd, 'removed!']);\n",
       "            Plotly.purge(gd);\n",
       "            observer.disconnect();\n",
       "        }}\n",
       "}});\n",
       "\n",
       "// Listen for the removal of the full notebook cells\n",
       "var notebookContainer = gd.closest('#notebook-container');\n",
       "if (notebookContainer) {{\n",
       "    x.observe(notebookContainer, {childList: true});\n",
       "}}\n",
       "\n",
       "// Listen for the clearing of the current output cell\n",
       "var outputEl = gd.closest('.output');\n",
       "if (outputEl) {{\n",
       "    x.observe(outputEl, {childList: true});\n",
       "}}\n",
       "\n",
       "                        })                };                });            </script>        </div>"
      ]
     },
     "metadata": {},
     "output_type": "display_data"
    }
   ],
   "source": [
    "px.bar(hcid,\n",
    "       x='SITE COMMUNITY',\n",
    "       title='HCIDLA Affordable Projects by Community in the City of Los Angeles'\n",
    "      )\n"
   ]
  },
  {
   "cell_type": "markdown",
   "metadata": {},
   "source": [
    "This is cool, but it's a little hard to read in this orientation, and there are so many community names that you can't see all the names associated with each bar. I also don't like how each graph is made up of a bunch of little boxes instead of one large bar. \n",
    "\n",
    "So let's start by looking at it in a table and see which site communities have the most projects"
   ]
  },
  {
   "cell_type": "code",
   "execution_count": 30,
   "metadata": {
    "scrolled": true
   },
   "outputs": [
    {
     "data": {
      "text/html": [
       "<div>\n",
       "<style scoped>\n",
       "    .dataframe tbody tr th:only-of-type {\n",
       "        vertical-align: middle;\n",
       "    }\n",
       "\n",
       "    .dataframe tbody tr th {\n",
       "        vertical-align: top;\n",
       "    }\n",
       "\n",
       "    .dataframe thead th {\n",
       "        text-align: right;\n",
       "    }\n",
       "</style>\n",
       "<table border=\"1\" class=\"dataframe\">\n",
       "  <thead>\n",
       "    <tr style=\"text-align: right;\">\n",
       "      <th></th>\n",
       "      <th>Site Community</th>\n",
       "      <th>Count</th>\n",
       "    </tr>\n",
       "  </thead>\n",
       "  <tbody>\n",
       "    <tr>\n",
       "      <th>0</th>\n",
       "      <td>WESTLAKE</td>\n",
       "      <td>34</td>\n",
       "    </tr>\n",
       "    <tr>\n",
       "      <th>1</th>\n",
       "      <td>WHOLESALE DISTRICT</td>\n",
       "      <td>23</td>\n",
       "    </tr>\n",
       "    <tr>\n",
       "      <th>2</th>\n",
       "      <td>CENTRAL</td>\n",
       "      <td>19</td>\n",
       "    </tr>\n",
       "    <tr>\n",
       "      <th>3</th>\n",
       "      <td>HOLLYWOOD</td>\n",
       "      <td>17</td>\n",
       "    </tr>\n",
       "    <tr>\n",
       "      <th>4</th>\n",
       "      <td>EXPOSITION PARK</td>\n",
       "      <td>16</td>\n",
       "    </tr>\n",
       "    <tr>\n",
       "      <th>5</th>\n",
       "      <td>TEMPLE-BEAUDRY</td>\n",
       "      <td>15</td>\n",
       "    </tr>\n",
       "    <tr>\n",
       "      <th>6</th>\n",
       "      <td>MELROSE</td>\n",
       "      <td>14</td>\n",
       "    </tr>\n",
       "    <tr>\n",
       "      <th>7</th>\n",
       "      <td>PICO-UNION</td>\n",
       "      <td>14</td>\n",
       "    </tr>\n",
       "    <tr>\n",
       "      <th>8</th>\n",
       "      <td>WEST VERNON</td>\n",
       "      <td>14</td>\n",
       "    </tr>\n",
       "    <tr>\n",
       "      <th>9</th>\n",
       "      <td>UNIVERSITY PARK</td>\n",
       "      <td>14</td>\n",
       "    </tr>\n",
       "    <tr>\n",
       "      <th>10</th>\n",
       "      <td>KOREATOWN</td>\n",
       "      <td>13</td>\n",
       "    </tr>\n",
       "    <tr>\n",
       "      <th>11</th>\n",
       "      <td>VERMONT VISTA</td>\n",
       "      <td>11</td>\n",
       "    </tr>\n",
       "    <tr>\n",
       "      <th>12</th>\n",
       "      <td>WATTS</td>\n",
       "      <td>11</td>\n",
       "    </tr>\n",
       "    <tr>\n",
       "      <th>13</th>\n",
       "      <td>BOYLE HEIGHTS</td>\n",
       "      <td>10</td>\n",
       "    </tr>\n",
       "    <tr>\n",
       "      <th>14</th>\n",
       "      <td>WEST ADAMS</td>\n",
       "      <td>10</td>\n",
       "    </tr>\n",
       "    <tr>\n",
       "      <th>15</th>\n",
       "      <td>SOUTH PARK</td>\n",
       "      <td>10</td>\n",
       "    </tr>\n",
       "    <tr>\n",
       "      <th>16</th>\n",
       "      <td>CENTURY PALMS/COVE</td>\n",
       "      <td>9</td>\n",
       "    </tr>\n",
       "    <tr>\n",
       "      <th>17</th>\n",
       "      <td>NORTH HILLS</td>\n",
       "      <td>9</td>\n",
       "    </tr>\n",
       "    <tr>\n",
       "      <th>18</th>\n",
       "      <td>EAST HOLLYWOOD</td>\n",
       "      <td>8</td>\n",
       "    </tr>\n",
       "    <tr>\n",
       "      <th>19</th>\n",
       "      <td>LINCOLN HEIGHTS</td>\n",
       "      <td>8</td>\n",
       "    </tr>\n",
       "    <tr>\n",
       "      <th>20</th>\n",
       "      <td>WILSHIRE CENTER</td>\n",
       "      <td>8</td>\n",
       "    </tr>\n",
       "    <tr>\n",
       "      <th>21</th>\n",
       "      <td>PANORAMA CITY</td>\n",
       "      <td>8</td>\n",
       "    </tr>\n",
       "    <tr>\n",
       "      <th>22</th>\n",
       "      <td>VAN NUYS</td>\n",
       "      <td>7</td>\n",
       "    </tr>\n",
       "    <tr>\n",
       "      <th>23</th>\n",
       "      <td>SUN VALLEY</td>\n",
       "      <td>7</td>\n",
       "    </tr>\n",
       "    <tr>\n",
       "      <th>24</th>\n",
       "      <td>HARBOR GATEWAY</td>\n",
       "      <td>7</td>\n",
       "    </tr>\n",
       "    <tr>\n",
       "      <th>25</th>\n",
       "      <td>SILVERLAKE</td>\n",
       "      <td>7</td>\n",
       "    </tr>\n",
       "    <tr>\n",
       "      <th>26</th>\n",
       "      <td>FLORENCE-FIRESTONE</td>\n",
       "      <td>7</td>\n",
       "    </tr>\n",
       "    <tr>\n",
       "      <th>27</th>\n",
       "      <td>HARVARD HEIGHTS</td>\n",
       "      <td>7</td>\n",
       "    </tr>\n",
       "    <tr>\n",
       "      <th>28</th>\n",
       "      <td>DOWNTOWN</td>\n",
       "      <td>7</td>\n",
       "    </tr>\n",
       "    <tr>\n",
       "      <th>29</th>\n",
       "      <td>VERNON CENTRAL</td>\n",
       "      <td>7</td>\n",
       "    </tr>\n",
       "    <tr>\n",
       "      <th>30</th>\n",
       "      <td>SYLMAR</td>\n",
       "      <td>6</td>\n",
       "    </tr>\n",
       "    <tr>\n",
       "      <th>31</th>\n",
       "      <td>CRENSHAW DISTRICT</td>\n",
       "      <td>6</td>\n",
       "    </tr>\n",
       "    <tr>\n",
       "      <th>32</th>\n",
       "      <td>ATWATER VILLAGE</td>\n",
       "      <td>6</td>\n",
       "    </tr>\n",
       "    <tr>\n",
       "      <th>33</th>\n",
       "      <td>VALLEY GLEN</td>\n",
       "      <td>5</td>\n",
       "    </tr>\n",
       "    <tr>\n",
       "      <th>34</th>\n",
       "      <td>RESEDA</td>\n",
       "      <td>5</td>\n",
       "    </tr>\n",
       "    <tr>\n",
       "      <th>35</th>\n",
       "      <td>HISTORIC FILIPINOTOWN</td>\n",
       "      <td>5</td>\n",
       "    </tr>\n",
       "    <tr>\n",
       "      <th>36</th>\n",
       "      <td>THAI TOWN</td>\n",
       "      <td>5</td>\n",
       "    </tr>\n",
       "    <tr>\n",
       "      <th>37</th>\n",
       "      <td>WILMINGTON</td>\n",
       "      <td>5</td>\n",
       "    </tr>\n",
       "    <tr>\n",
       "      <th>38</th>\n",
       "      <td>VICTORIA PARK</td>\n",
       "      <td>4</td>\n",
       "    </tr>\n",
       "    <tr>\n",
       "      <th>39</th>\n",
       "      <td>GLASSELL PARK</td>\n",
       "      <td>4</td>\n",
       "    </tr>\n",
       "    <tr>\n",
       "      <th>40</th>\n",
       "      <td>NORTH HOLLYWOOD</td>\n",
       "      <td>4</td>\n",
       "    </tr>\n",
       "    <tr>\n",
       "      <th>41</th>\n",
       "      <td>PACOIMA</td>\n",
       "      <td>4</td>\n",
       "    </tr>\n",
       "    <tr>\n",
       "      <th>42</th>\n",
       "      <td>VENICE</td>\n",
       "      <td>3</td>\n",
       "    </tr>\n",
       "    <tr>\n",
       "      <th>43</th>\n",
       "      <td>VERMONT KNOLLS</td>\n",
       "      <td>3</td>\n",
       "    </tr>\n",
       "    <tr>\n",
       "      <th>44</th>\n",
       "      <td>HYDE PARK</td>\n",
       "      <td>3</td>\n",
       "    </tr>\n",
       "    <tr>\n",
       "      <th>45</th>\n",
       "      <td>CANOGA PARK</td>\n",
       "      <td>3</td>\n",
       "    </tr>\n",
       "    <tr>\n",
       "      <th>46</th>\n",
       "      <td>DEL REY</td>\n",
       "      <td>3</td>\n",
       "    </tr>\n",
       "    <tr>\n",
       "      <th>47</th>\n",
       "      <td>CHINATOWN</td>\n",
       "      <td>3</td>\n",
       "    </tr>\n",
       "    <tr>\n",
       "      <th>48</th>\n",
       "      <td>HARVARD PARK</td>\n",
       "      <td>2</td>\n",
       "    </tr>\n",
       "    <tr>\n",
       "      <th>49</th>\n",
       "      <td>HIGHLAND PARK</td>\n",
       "      <td>2</td>\n",
       "    </tr>\n",
       "  </tbody>\n",
       "</table>\n",
       "</div>"
      ],
      "text/plain": [
       "           Site Community  Count\n",
       "0                WESTLAKE     34\n",
       "1      WHOLESALE DISTRICT     23\n",
       "2                 CENTRAL     19\n",
       "3               HOLLYWOOD     17\n",
       "4         EXPOSITION PARK     16\n",
       "5          TEMPLE-BEAUDRY     15\n",
       "6                 MELROSE     14\n",
       "7              PICO-UNION     14\n",
       "8             WEST VERNON     14\n",
       "9         UNIVERSITY PARK     14\n",
       "10              KOREATOWN     13\n",
       "11          VERMONT VISTA     11\n",
       "12                  WATTS     11\n",
       "13          BOYLE HEIGHTS     10\n",
       "14             WEST ADAMS     10\n",
       "15             SOUTH PARK     10\n",
       "16     CENTURY PALMS/COVE      9\n",
       "17            NORTH HILLS      9\n",
       "18         EAST HOLLYWOOD      8\n",
       "19        LINCOLN HEIGHTS      8\n",
       "20        WILSHIRE CENTER      8\n",
       "21          PANORAMA CITY      8\n",
       "22               VAN NUYS      7\n",
       "23             SUN VALLEY      7\n",
       "24         HARBOR GATEWAY      7\n",
       "25             SILVERLAKE      7\n",
       "26     FLORENCE-FIRESTONE      7\n",
       "27        HARVARD HEIGHTS      7\n",
       "28               DOWNTOWN      7\n",
       "29         VERNON CENTRAL      7\n",
       "30                 SYLMAR      6\n",
       "31      CRENSHAW DISTRICT      6\n",
       "32        ATWATER VILLAGE      6\n",
       "33            VALLEY GLEN      5\n",
       "34                 RESEDA      5\n",
       "35  HISTORIC FILIPINOTOWN      5\n",
       "36              THAI TOWN      5\n",
       "37             WILMINGTON      5\n",
       "38          VICTORIA PARK      4\n",
       "39          GLASSELL PARK      4\n",
       "40        NORTH HOLLYWOOD      4\n",
       "41                PACOIMA      4\n",
       "42                 VENICE      3\n",
       "43         VERMONT KNOLLS      3\n",
       "44              HYDE PARK      3\n",
       "45            CANOGA PARK      3\n",
       "46                DEL REY      3\n",
       "47              CHINATOWN      3\n",
       "48           HARVARD PARK      2\n",
       "49          HIGHLAND PARK      2"
      ]
     },
     "execution_count": 30,
     "metadata": {},
     "output_type": "execute_result"
    }
   ],
   "source": [
    "# Now make a data frame that summarizes the number of projects in each community\n",
    "hcid_community = hcid['SITE COMMUNITY'].value_counts().reset_index()\n",
    "\n",
    "# Adjust the column headers so the names match the values below\n",
    "hcid_community.columns = ['Site Community', 'Count']\n",
    "\n",
    "# Show me the top 20\n",
    "hcid_community.head(50)"
   ]
  },
  {
   "cell_type": "markdown",
   "metadata": {},
   "source": [
    "Looks like there's a pretty clear trend here with Westlake coming out as the winner. To make our chart a little easier to digest let's limit it to the top 30, which appears to be communities with more than 6 projects."
   ]
  },
  {
   "cell_type": "code",
   "execution_count": 31,
   "metadata": {},
   "outputs": [
    {
     "data": {
      "application/vnd.plotly.v1+json": {
       "config": {
        "plotlyServerURL": "https://plot.ly"
       },
       "data": [
        {
         "alignmentgroup": "True",
         "hovertemplate": "Site Community=%{x}<br>Count=%{y}<extra></extra>",
         "legendgroup": "",
         "marker": {
          "color": "#636efa"
         },
         "name": "",
         "offsetgroup": "",
         "orientation": "v",
         "showlegend": false,
         "textposition": "auto",
         "type": "bar",
         "x": [
          "WESTLAKE",
          "WHOLESALE DISTRICT",
          "CENTRAL",
          "HOLLYWOOD",
          "EXPOSITION PARK",
          "TEMPLE-BEAUDRY",
          "MELROSE",
          "PICO-UNION",
          "WEST VERNON",
          "UNIVERSITY PARK",
          "KOREATOWN",
          "VERMONT VISTA",
          "WATTS",
          "BOYLE HEIGHTS",
          "WEST ADAMS",
          "SOUTH PARK",
          "CENTURY PALMS/COVE",
          "NORTH HILLS",
          "EAST HOLLYWOOD",
          "LINCOLN HEIGHTS",
          "WILSHIRE CENTER",
          "PANORAMA CITY",
          "VAN NUYS",
          "SUN VALLEY",
          "HARBOR GATEWAY",
          "SILVERLAKE",
          "FLORENCE-FIRESTONE",
          "HARVARD HEIGHTS",
          "DOWNTOWN",
          "VERNON CENTRAL"
         ],
         "xaxis": "x",
         "y": [
          34,
          23,
          19,
          17,
          16,
          15,
          14,
          14,
          14,
          14,
          13,
          11,
          11,
          10,
          10,
          10,
          9,
          9,
          8,
          8,
          8,
          8,
          7,
          7,
          7,
          7,
          7,
          7,
          7,
          7
         ],
         "yaxis": "y"
        }
       ],
       "layout": {
        "barmode": "relative",
        "legend": {
         "tracegroupgap": 0
        },
        "template": {
         "data": {
          "bar": [
           {
            "error_x": {
             "color": "#2a3f5f"
            },
            "error_y": {
             "color": "#2a3f5f"
            },
            "marker": {
             "line": {
              "color": "#E5ECF6",
              "width": 0.5
             }
            },
            "type": "bar"
           }
          ],
          "barpolar": [
           {
            "marker": {
             "line": {
              "color": "#E5ECF6",
              "width": 0.5
             }
            },
            "type": "barpolar"
           }
          ],
          "carpet": [
           {
            "aaxis": {
             "endlinecolor": "#2a3f5f",
             "gridcolor": "white",
             "linecolor": "white",
             "minorgridcolor": "white",
             "startlinecolor": "#2a3f5f"
            },
            "baxis": {
             "endlinecolor": "#2a3f5f",
             "gridcolor": "white",
             "linecolor": "white",
             "minorgridcolor": "white",
             "startlinecolor": "#2a3f5f"
            },
            "type": "carpet"
           }
          ],
          "choropleth": [
           {
            "colorbar": {
             "outlinewidth": 0,
             "ticks": ""
            },
            "type": "choropleth"
           }
          ],
          "contour": [
           {
            "colorbar": {
             "outlinewidth": 0,
             "ticks": ""
            },
            "colorscale": [
             [
              0,
              "#0d0887"
             ],
             [
              0.1111111111111111,
              "#46039f"
             ],
             [
              0.2222222222222222,
              "#7201a8"
             ],
             [
              0.3333333333333333,
              "#9c179e"
             ],
             [
              0.4444444444444444,
              "#bd3786"
             ],
             [
              0.5555555555555556,
              "#d8576b"
             ],
             [
              0.6666666666666666,
              "#ed7953"
             ],
             [
              0.7777777777777778,
              "#fb9f3a"
             ],
             [
              0.8888888888888888,
              "#fdca26"
             ],
             [
              1,
              "#f0f921"
             ]
            ],
            "type": "contour"
           }
          ],
          "contourcarpet": [
           {
            "colorbar": {
             "outlinewidth": 0,
             "ticks": ""
            },
            "type": "contourcarpet"
           }
          ],
          "heatmap": [
           {
            "colorbar": {
             "outlinewidth": 0,
             "ticks": ""
            },
            "colorscale": [
             [
              0,
              "#0d0887"
             ],
             [
              0.1111111111111111,
              "#46039f"
             ],
             [
              0.2222222222222222,
              "#7201a8"
             ],
             [
              0.3333333333333333,
              "#9c179e"
             ],
             [
              0.4444444444444444,
              "#bd3786"
             ],
             [
              0.5555555555555556,
              "#d8576b"
             ],
             [
              0.6666666666666666,
              "#ed7953"
             ],
             [
              0.7777777777777778,
              "#fb9f3a"
             ],
             [
              0.8888888888888888,
              "#fdca26"
             ],
             [
              1,
              "#f0f921"
             ]
            ],
            "type": "heatmap"
           }
          ],
          "heatmapgl": [
           {
            "colorbar": {
             "outlinewidth": 0,
             "ticks": ""
            },
            "colorscale": [
             [
              0,
              "#0d0887"
             ],
             [
              0.1111111111111111,
              "#46039f"
             ],
             [
              0.2222222222222222,
              "#7201a8"
             ],
             [
              0.3333333333333333,
              "#9c179e"
             ],
             [
              0.4444444444444444,
              "#bd3786"
             ],
             [
              0.5555555555555556,
              "#d8576b"
             ],
             [
              0.6666666666666666,
              "#ed7953"
             ],
             [
              0.7777777777777778,
              "#fb9f3a"
             ],
             [
              0.8888888888888888,
              "#fdca26"
             ],
             [
              1,
              "#f0f921"
             ]
            ],
            "type": "heatmapgl"
           }
          ],
          "histogram": [
           {
            "marker": {
             "colorbar": {
              "outlinewidth": 0,
              "ticks": ""
             }
            },
            "type": "histogram"
           }
          ],
          "histogram2d": [
           {
            "colorbar": {
             "outlinewidth": 0,
             "ticks": ""
            },
            "colorscale": [
             [
              0,
              "#0d0887"
             ],
             [
              0.1111111111111111,
              "#46039f"
             ],
             [
              0.2222222222222222,
              "#7201a8"
             ],
             [
              0.3333333333333333,
              "#9c179e"
             ],
             [
              0.4444444444444444,
              "#bd3786"
             ],
             [
              0.5555555555555556,
              "#d8576b"
             ],
             [
              0.6666666666666666,
              "#ed7953"
             ],
             [
              0.7777777777777778,
              "#fb9f3a"
             ],
             [
              0.8888888888888888,
              "#fdca26"
             ],
             [
              1,
              "#f0f921"
             ]
            ],
            "type": "histogram2d"
           }
          ],
          "histogram2dcontour": [
           {
            "colorbar": {
             "outlinewidth": 0,
             "ticks": ""
            },
            "colorscale": [
             [
              0,
              "#0d0887"
             ],
             [
              0.1111111111111111,
              "#46039f"
             ],
             [
              0.2222222222222222,
              "#7201a8"
             ],
             [
              0.3333333333333333,
              "#9c179e"
             ],
             [
              0.4444444444444444,
              "#bd3786"
             ],
             [
              0.5555555555555556,
              "#d8576b"
             ],
             [
              0.6666666666666666,
              "#ed7953"
             ],
             [
              0.7777777777777778,
              "#fb9f3a"
             ],
             [
              0.8888888888888888,
              "#fdca26"
             ],
             [
              1,
              "#f0f921"
             ]
            ],
            "type": "histogram2dcontour"
           }
          ],
          "mesh3d": [
           {
            "colorbar": {
             "outlinewidth": 0,
             "ticks": ""
            },
            "type": "mesh3d"
           }
          ],
          "parcoords": [
           {
            "line": {
             "colorbar": {
              "outlinewidth": 0,
              "ticks": ""
             }
            },
            "type": "parcoords"
           }
          ],
          "pie": [
           {
            "automargin": true,
            "type": "pie"
           }
          ],
          "scatter": [
           {
            "marker": {
             "colorbar": {
              "outlinewidth": 0,
              "ticks": ""
             }
            },
            "type": "scatter"
           }
          ],
          "scatter3d": [
           {
            "line": {
             "colorbar": {
              "outlinewidth": 0,
              "ticks": ""
             }
            },
            "marker": {
             "colorbar": {
              "outlinewidth": 0,
              "ticks": ""
             }
            },
            "type": "scatter3d"
           }
          ],
          "scattercarpet": [
           {
            "marker": {
             "colorbar": {
              "outlinewidth": 0,
              "ticks": ""
             }
            },
            "type": "scattercarpet"
           }
          ],
          "scattergeo": [
           {
            "marker": {
             "colorbar": {
              "outlinewidth": 0,
              "ticks": ""
             }
            },
            "type": "scattergeo"
           }
          ],
          "scattergl": [
           {
            "marker": {
             "colorbar": {
              "outlinewidth": 0,
              "ticks": ""
             }
            },
            "type": "scattergl"
           }
          ],
          "scattermapbox": [
           {
            "marker": {
             "colorbar": {
              "outlinewidth": 0,
              "ticks": ""
             }
            },
            "type": "scattermapbox"
           }
          ],
          "scatterpolar": [
           {
            "marker": {
             "colorbar": {
              "outlinewidth": 0,
              "ticks": ""
             }
            },
            "type": "scatterpolar"
           }
          ],
          "scatterpolargl": [
           {
            "marker": {
             "colorbar": {
              "outlinewidth": 0,
              "ticks": ""
             }
            },
            "type": "scatterpolargl"
           }
          ],
          "scatterternary": [
           {
            "marker": {
             "colorbar": {
              "outlinewidth": 0,
              "ticks": ""
             }
            },
            "type": "scatterternary"
           }
          ],
          "surface": [
           {
            "colorbar": {
             "outlinewidth": 0,
             "ticks": ""
            },
            "colorscale": [
             [
              0,
              "#0d0887"
             ],
             [
              0.1111111111111111,
              "#46039f"
             ],
             [
              0.2222222222222222,
              "#7201a8"
             ],
             [
              0.3333333333333333,
              "#9c179e"
             ],
             [
              0.4444444444444444,
              "#bd3786"
             ],
             [
              0.5555555555555556,
              "#d8576b"
             ],
             [
              0.6666666666666666,
              "#ed7953"
             ],
             [
              0.7777777777777778,
              "#fb9f3a"
             ],
             [
              0.8888888888888888,
              "#fdca26"
             ],
             [
              1,
              "#f0f921"
             ]
            ],
            "type": "surface"
           }
          ],
          "table": [
           {
            "cells": {
             "fill": {
              "color": "#EBF0F8"
             },
             "line": {
              "color": "white"
             }
            },
            "header": {
             "fill": {
              "color": "#C8D4E3"
             },
             "line": {
              "color": "white"
             }
            },
            "type": "table"
           }
          ]
         },
         "layout": {
          "annotationdefaults": {
           "arrowcolor": "#2a3f5f",
           "arrowhead": 0,
           "arrowwidth": 1
          },
          "coloraxis": {
           "colorbar": {
            "outlinewidth": 0,
            "ticks": ""
           }
          },
          "colorscale": {
           "diverging": [
            [
             0,
             "#8e0152"
            ],
            [
             0.1,
             "#c51b7d"
            ],
            [
             0.2,
             "#de77ae"
            ],
            [
             0.3,
             "#f1b6da"
            ],
            [
             0.4,
             "#fde0ef"
            ],
            [
             0.5,
             "#f7f7f7"
            ],
            [
             0.6,
             "#e6f5d0"
            ],
            [
             0.7,
             "#b8e186"
            ],
            [
             0.8,
             "#7fbc41"
            ],
            [
             0.9,
             "#4d9221"
            ],
            [
             1,
             "#276419"
            ]
           ],
           "sequential": [
            [
             0,
             "#0d0887"
            ],
            [
             0.1111111111111111,
             "#46039f"
            ],
            [
             0.2222222222222222,
             "#7201a8"
            ],
            [
             0.3333333333333333,
             "#9c179e"
            ],
            [
             0.4444444444444444,
             "#bd3786"
            ],
            [
             0.5555555555555556,
             "#d8576b"
            ],
            [
             0.6666666666666666,
             "#ed7953"
            ],
            [
             0.7777777777777778,
             "#fb9f3a"
            ],
            [
             0.8888888888888888,
             "#fdca26"
            ],
            [
             1,
             "#f0f921"
            ]
           ],
           "sequentialminus": [
            [
             0,
             "#0d0887"
            ],
            [
             0.1111111111111111,
             "#46039f"
            ],
            [
             0.2222222222222222,
             "#7201a8"
            ],
            [
             0.3333333333333333,
             "#9c179e"
            ],
            [
             0.4444444444444444,
             "#bd3786"
            ],
            [
             0.5555555555555556,
             "#d8576b"
            ],
            [
             0.6666666666666666,
             "#ed7953"
            ],
            [
             0.7777777777777778,
             "#fb9f3a"
            ],
            [
             0.8888888888888888,
             "#fdca26"
            ],
            [
             1,
             "#f0f921"
            ]
           ]
          },
          "colorway": [
           "#636efa",
           "#EF553B",
           "#00cc96",
           "#ab63fa",
           "#FFA15A",
           "#19d3f3",
           "#FF6692",
           "#B6E880",
           "#FF97FF",
           "#FECB52"
          ],
          "font": {
           "color": "#2a3f5f"
          },
          "geo": {
           "bgcolor": "white",
           "lakecolor": "white",
           "landcolor": "#E5ECF6",
           "showlakes": true,
           "showland": true,
           "subunitcolor": "white"
          },
          "hoverlabel": {
           "align": "left"
          },
          "hovermode": "closest",
          "mapbox": {
           "style": "light"
          },
          "paper_bgcolor": "white",
          "plot_bgcolor": "#E5ECF6",
          "polar": {
           "angularaxis": {
            "gridcolor": "white",
            "linecolor": "white",
            "ticks": ""
           },
           "bgcolor": "#E5ECF6",
           "radialaxis": {
            "gridcolor": "white",
            "linecolor": "white",
            "ticks": ""
           }
          },
          "scene": {
           "xaxis": {
            "backgroundcolor": "#E5ECF6",
            "gridcolor": "white",
            "gridwidth": 2,
            "linecolor": "white",
            "showbackground": true,
            "ticks": "",
            "zerolinecolor": "white"
           },
           "yaxis": {
            "backgroundcolor": "#E5ECF6",
            "gridcolor": "white",
            "gridwidth": 2,
            "linecolor": "white",
            "showbackground": true,
            "ticks": "",
            "zerolinecolor": "white"
           },
           "zaxis": {
            "backgroundcolor": "#E5ECF6",
            "gridcolor": "white",
            "gridwidth": 2,
            "linecolor": "white",
            "showbackground": true,
            "ticks": "",
            "zerolinecolor": "white"
           }
          },
          "shapedefaults": {
           "line": {
            "color": "#2a3f5f"
           }
          },
          "ternary": {
           "aaxis": {
            "gridcolor": "white",
            "linecolor": "white",
            "ticks": ""
           },
           "baxis": {
            "gridcolor": "white",
            "linecolor": "white",
            "ticks": ""
           },
           "bgcolor": "#E5ECF6",
           "caxis": {
            "gridcolor": "white",
            "linecolor": "white",
            "ticks": ""
           }
          },
          "title": {
           "x": 0.05
          },
          "xaxis": {
           "automargin": true,
           "gridcolor": "white",
           "linecolor": "white",
           "ticks": "",
           "title": {
            "standoff": 15
           },
           "zerolinecolor": "white",
           "zerolinewidth": 2
          },
          "yaxis": {
           "automargin": true,
           "gridcolor": "white",
           "linecolor": "white",
           "ticks": "",
           "title": {
            "standoff": 15
           },
           "zerolinecolor": "white",
           "zerolinewidth": 2
          }
         }
        },
        "title": {
         "text": "Top 30 communitities in the City of LA with HCIDLA Affordable Housing Projects"
        },
        "xaxis": {
         "anchor": "y",
         "domain": [
          0,
          1
         ],
         "title": {
          "text": "Site Community"
         }
        },
        "yaxis": {
         "anchor": "x",
         "domain": [
          0,
          1
         ],
         "title": {
          "text": "Count"
         }
        }
       }
      },
      "text/html": [
       "<div>                            <div id=\"ca2a1a3f-72d8-4e60-ae15-c09c37863f97\" class=\"plotly-graph-div\" style=\"height:525px; width:100%;\"></div>            <script type=\"text/javascript\">                require([\"plotly\"], function(Plotly) {                    window.PLOTLYENV=window.PLOTLYENV || {};                                    if (document.getElementById(\"ca2a1a3f-72d8-4e60-ae15-c09c37863f97\")) {                    Plotly.newPlot(                        \"ca2a1a3f-72d8-4e60-ae15-c09c37863f97\",                        [{\"alignmentgroup\": \"True\", \"hovertemplate\": \"Site Community=%{x}<br>Count=%{y}<extra></extra>\", \"legendgroup\": \"\", \"marker\": {\"color\": \"#636efa\"}, \"name\": \"\", \"offsetgroup\": \"\", \"orientation\": \"v\", \"showlegend\": false, \"textposition\": \"auto\", \"type\": \"bar\", \"x\": [\"WESTLAKE\", \"WHOLESALE DISTRICT\", \"CENTRAL\", \"HOLLYWOOD\", \"EXPOSITION PARK\", \"TEMPLE-BEAUDRY\", \"MELROSE\", \"PICO-UNION\", \"WEST VERNON\", \"UNIVERSITY PARK\", \"KOREATOWN\", \"VERMONT VISTA\", \"WATTS\", \"BOYLE HEIGHTS\", \"WEST ADAMS\", \"SOUTH PARK\", \"CENTURY PALMS/COVE\", \"NORTH HILLS\", \"EAST HOLLYWOOD\", \"LINCOLN HEIGHTS\", \"WILSHIRE CENTER\", \"PANORAMA CITY\", \"VAN NUYS\", \"SUN VALLEY\", \"HARBOR GATEWAY\", \"SILVERLAKE\", \"FLORENCE-FIRESTONE\", \"HARVARD HEIGHTS\", \"DOWNTOWN\", \"VERNON CENTRAL\"], \"xaxis\": \"x\", \"y\": [34, 23, 19, 17, 16, 15, 14, 14, 14, 14, 13, 11, 11, 10, 10, 10, 9, 9, 8, 8, 8, 8, 7, 7, 7, 7, 7, 7, 7, 7], \"yaxis\": \"y\"}],                        {\"barmode\": \"relative\", \"legend\": {\"tracegroupgap\": 0}, \"template\": {\"data\": {\"bar\": [{\"error_x\": {\"color\": \"#2a3f5f\"}, \"error_y\": {\"color\": \"#2a3f5f\"}, \"marker\": {\"line\": {\"color\": \"#E5ECF6\", \"width\": 0.5}}, \"type\": \"bar\"}], \"barpolar\": [{\"marker\": {\"line\": {\"color\": \"#E5ECF6\", \"width\": 0.5}}, \"type\": \"barpolar\"}], \"carpet\": [{\"aaxis\": {\"endlinecolor\": \"#2a3f5f\", \"gridcolor\": \"white\", \"linecolor\": \"white\", \"minorgridcolor\": \"white\", \"startlinecolor\": \"#2a3f5f\"}, \"baxis\": {\"endlinecolor\": \"#2a3f5f\", \"gridcolor\": \"white\", \"linecolor\": \"white\", \"minorgridcolor\": \"white\", \"startlinecolor\": \"#2a3f5f\"}, \"type\": \"carpet\"}], \"choropleth\": [{\"colorbar\": {\"outlinewidth\": 0, \"ticks\": \"\"}, \"type\": \"choropleth\"}], \"contour\": [{\"colorbar\": {\"outlinewidth\": 0, \"ticks\": \"\"}, \"colorscale\": [[0.0, \"#0d0887\"], [0.1111111111111111, \"#46039f\"], [0.2222222222222222, \"#7201a8\"], [0.3333333333333333, \"#9c179e\"], [0.4444444444444444, \"#bd3786\"], [0.5555555555555556, \"#d8576b\"], [0.6666666666666666, \"#ed7953\"], [0.7777777777777778, \"#fb9f3a\"], [0.8888888888888888, \"#fdca26\"], [1.0, \"#f0f921\"]], \"type\": \"contour\"}], \"contourcarpet\": [{\"colorbar\": {\"outlinewidth\": 0, \"ticks\": \"\"}, \"type\": \"contourcarpet\"}], \"heatmap\": [{\"colorbar\": {\"outlinewidth\": 0, \"ticks\": \"\"}, \"colorscale\": [[0.0, \"#0d0887\"], [0.1111111111111111, \"#46039f\"], [0.2222222222222222, \"#7201a8\"], [0.3333333333333333, \"#9c179e\"], [0.4444444444444444, \"#bd3786\"], [0.5555555555555556, \"#d8576b\"], [0.6666666666666666, \"#ed7953\"], [0.7777777777777778, \"#fb9f3a\"], [0.8888888888888888, \"#fdca26\"], [1.0, \"#f0f921\"]], \"type\": \"heatmap\"}], \"heatmapgl\": [{\"colorbar\": {\"outlinewidth\": 0, \"ticks\": \"\"}, \"colorscale\": [[0.0, \"#0d0887\"], [0.1111111111111111, \"#46039f\"], [0.2222222222222222, \"#7201a8\"], [0.3333333333333333, \"#9c179e\"], [0.4444444444444444, \"#bd3786\"], [0.5555555555555556, \"#d8576b\"], [0.6666666666666666, \"#ed7953\"], [0.7777777777777778, \"#fb9f3a\"], [0.8888888888888888, \"#fdca26\"], [1.0, \"#f0f921\"]], \"type\": \"heatmapgl\"}], \"histogram\": [{\"marker\": {\"colorbar\": {\"outlinewidth\": 0, \"ticks\": \"\"}}, \"type\": \"histogram\"}], \"histogram2d\": [{\"colorbar\": {\"outlinewidth\": 0, \"ticks\": \"\"}, \"colorscale\": [[0.0, \"#0d0887\"], [0.1111111111111111, \"#46039f\"], [0.2222222222222222, \"#7201a8\"], [0.3333333333333333, \"#9c179e\"], [0.4444444444444444, \"#bd3786\"], [0.5555555555555556, \"#d8576b\"], [0.6666666666666666, \"#ed7953\"], [0.7777777777777778, \"#fb9f3a\"], [0.8888888888888888, \"#fdca26\"], [1.0, \"#f0f921\"]], \"type\": \"histogram2d\"}], \"histogram2dcontour\": [{\"colorbar\": {\"outlinewidth\": 0, \"ticks\": \"\"}, \"colorscale\": [[0.0, \"#0d0887\"], [0.1111111111111111, \"#46039f\"], [0.2222222222222222, \"#7201a8\"], [0.3333333333333333, \"#9c179e\"], [0.4444444444444444, \"#bd3786\"], [0.5555555555555556, \"#d8576b\"], [0.6666666666666666, \"#ed7953\"], [0.7777777777777778, \"#fb9f3a\"], [0.8888888888888888, \"#fdca26\"], [1.0, \"#f0f921\"]], \"type\": \"histogram2dcontour\"}], \"mesh3d\": [{\"colorbar\": {\"outlinewidth\": 0, \"ticks\": \"\"}, \"type\": \"mesh3d\"}], \"parcoords\": [{\"line\": {\"colorbar\": {\"outlinewidth\": 0, \"ticks\": \"\"}}, \"type\": \"parcoords\"}], \"pie\": [{\"automargin\": true, \"type\": \"pie\"}], \"scatter\": [{\"marker\": {\"colorbar\": {\"outlinewidth\": 0, \"ticks\": \"\"}}, \"type\": \"scatter\"}], \"scatter3d\": [{\"line\": {\"colorbar\": {\"outlinewidth\": 0, \"ticks\": \"\"}}, \"marker\": {\"colorbar\": {\"outlinewidth\": 0, \"ticks\": \"\"}}, \"type\": \"scatter3d\"}], \"scattercarpet\": [{\"marker\": {\"colorbar\": {\"outlinewidth\": 0, \"ticks\": \"\"}}, \"type\": \"scattercarpet\"}], \"scattergeo\": [{\"marker\": {\"colorbar\": {\"outlinewidth\": 0, \"ticks\": \"\"}}, \"type\": \"scattergeo\"}], \"scattergl\": [{\"marker\": {\"colorbar\": {\"outlinewidth\": 0, \"ticks\": \"\"}}, \"type\": \"scattergl\"}], \"scattermapbox\": [{\"marker\": {\"colorbar\": {\"outlinewidth\": 0, \"ticks\": \"\"}}, \"type\": \"scattermapbox\"}], \"scatterpolar\": [{\"marker\": {\"colorbar\": {\"outlinewidth\": 0, \"ticks\": \"\"}}, \"type\": \"scatterpolar\"}], \"scatterpolargl\": [{\"marker\": {\"colorbar\": {\"outlinewidth\": 0, \"ticks\": \"\"}}, \"type\": \"scatterpolargl\"}], \"scatterternary\": [{\"marker\": {\"colorbar\": {\"outlinewidth\": 0, \"ticks\": \"\"}}, \"type\": \"scatterternary\"}], \"surface\": [{\"colorbar\": {\"outlinewidth\": 0, \"ticks\": \"\"}, \"colorscale\": [[0.0, \"#0d0887\"], [0.1111111111111111, \"#46039f\"], [0.2222222222222222, \"#7201a8\"], [0.3333333333333333, \"#9c179e\"], [0.4444444444444444, \"#bd3786\"], [0.5555555555555556, \"#d8576b\"], [0.6666666666666666, \"#ed7953\"], [0.7777777777777778, \"#fb9f3a\"], [0.8888888888888888, \"#fdca26\"], [1.0, \"#f0f921\"]], \"type\": \"surface\"}], \"table\": [{\"cells\": {\"fill\": {\"color\": \"#EBF0F8\"}, \"line\": {\"color\": \"white\"}}, \"header\": {\"fill\": {\"color\": \"#C8D4E3\"}, \"line\": {\"color\": \"white\"}}, \"type\": \"table\"}]}, \"layout\": {\"annotationdefaults\": {\"arrowcolor\": \"#2a3f5f\", \"arrowhead\": 0, \"arrowwidth\": 1}, \"coloraxis\": {\"colorbar\": {\"outlinewidth\": 0, \"ticks\": \"\"}}, \"colorscale\": {\"diverging\": [[0, \"#8e0152\"], [0.1, \"#c51b7d\"], [0.2, \"#de77ae\"], [0.3, \"#f1b6da\"], [0.4, \"#fde0ef\"], [0.5, \"#f7f7f7\"], [0.6, \"#e6f5d0\"], [0.7, \"#b8e186\"], [0.8, \"#7fbc41\"], [0.9, \"#4d9221\"], [1, \"#276419\"]], \"sequential\": [[0.0, \"#0d0887\"], [0.1111111111111111, \"#46039f\"], [0.2222222222222222, \"#7201a8\"], [0.3333333333333333, \"#9c179e\"], [0.4444444444444444, \"#bd3786\"], [0.5555555555555556, \"#d8576b\"], [0.6666666666666666, \"#ed7953\"], [0.7777777777777778, \"#fb9f3a\"], [0.8888888888888888, \"#fdca26\"], [1.0, \"#f0f921\"]], \"sequentialminus\": [[0.0, \"#0d0887\"], [0.1111111111111111, \"#46039f\"], [0.2222222222222222, \"#7201a8\"], [0.3333333333333333, \"#9c179e\"], [0.4444444444444444, \"#bd3786\"], [0.5555555555555556, \"#d8576b\"], [0.6666666666666666, \"#ed7953\"], [0.7777777777777778, \"#fb9f3a\"], [0.8888888888888888, \"#fdca26\"], [1.0, \"#f0f921\"]]}, \"colorway\": [\"#636efa\", \"#EF553B\", \"#00cc96\", \"#ab63fa\", \"#FFA15A\", \"#19d3f3\", \"#FF6692\", \"#B6E880\", \"#FF97FF\", \"#FECB52\"], \"font\": {\"color\": \"#2a3f5f\"}, \"geo\": {\"bgcolor\": \"white\", \"lakecolor\": \"white\", \"landcolor\": \"#E5ECF6\", \"showlakes\": true, \"showland\": true, \"subunitcolor\": \"white\"}, \"hoverlabel\": {\"align\": \"left\"}, \"hovermode\": \"closest\", \"mapbox\": {\"style\": \"light\"}, \"paper_bgcolor\": \"white\", \"plot_bgcolor\": \"#E5ECF6\", \"polar\": {\"angularaxis\": {\"gridcolor\": \"white\", \"linecolor\": \"white\", \"ticks\": \"\"}, \"bgcolor\": \"#E5ECF6\", \"radialaxis\": {\"gridcolor\": \"white\", \"linecolor\": \"white\", \"ticks\": \"\"}}, \"scene\": {\"xaxis\": {\"backgroundcolor\": \"#E5ECF6\", \"gridcolor\": \"white\", \"gridwidth\": 2, \"linecolor\": \"white\", \"showbackground\": true, \"ticks\": \"\", \"zerolinecolor\": \"white\"}, \"yaxis\": {\"backgroundcolor\": \"#E5ECF6\", \"gridcolor\": \"white\", \"gridwidth\": 2, \"linecolor\": \"white\", \"showbackground\": true, \"ticks\": \"\", \"zerolinecolor\": \"white\"}, \"zaxis\": {\"backgroundcolor\": \"#E5ECF6\", \"gridcolor\": \"white\", \"gridwidth\": 2, \"linecolor\": \"white\", \"showbackground\": true, \"ticks\": \"\", \"zerolinecolor\": \"white\"}}, \"shapedefaults\": {\"line\": {\"color\": \"#2a3f5f\"}}, \"ternary\": {\"aaxis\": {\"gridcolor\": \"white\", \"linecolor\": \"white\", \"ticks\": \"\"}, \"baxis\": {\"gridcolor\": \"white\", \"linecolor\": \"white\", \"ticks\": \"\"}, \"bgcolor\": \"#E5ECF6\", \"caxis\": {\"gridcolor\": \"white\", \"linecolor\": \"white\", \"ticks\": \"\"}}, \"title\": {\"x\": 0.05}, \"xaxis\": {\"automargin\": true, \"gridcolor\": \"white\", \"linecolor\": \"white\", \"ticks\": \"\", \"title\": {\"standoff\": 15}, \"zerolinecolor\": \"white\", \"zerolinewidth\": 2}, \"yaxis\": {\"automargin\": true, \"gridcolor\": \"white\", \"linecolor\": \"white\", \"ticks\": \"\", \"title\": {\"standoff\": 15}, \"zerolinecolor\": \"white\", \"zerolinewidth\": 2}}}, \"title\": {\"text\": \"Top 30 communitities in the City of LA with HCIDLA Affordable Housing Projects\"}, \"xaxis\": {\"anchor\": \"y\", \"domain\": [0.0, 1.0], \"title\": {\"text\": \"Site Community\"}}, \"yaxis\": {\"anchor\": \"x\", \"domain\": [0.0, 1.0], \"title\": {\"text\": \"Count\"}}},                        {\"responsive\": true}                    ).then(function(){\n",
       "                            \n",
       "var gd = document.getElementById('ca2a1a3f-72d8-4e60-ae15-c09c37863f97');\n",
       "var x = new MutationObserver(function (mutations, observer) {{\n",
       "        var display = window.getComputedStyle(gd).display;\n",
       "        if (!display || display === 'none') {{\n",
       "            console.log([gd, 'removed!']);\n",
       "            Plotly.purge(gd);\n",
       "            observer.disconnect();\n",
       "        }}\n",
       "}});\n",
       "\n",
       "// Listen for the removal of the full notebook cells\n",
       "var notebookContainer = gd.closest('#notebook-container');\n",
       "if (notebookContainer) {{\n",
       "    x.observe(notebookContainer, {childList: true});\n",
       "}}\n",
       "\n",
       "// Listen for the clearing of the current output cell\n",
       "var outputEl = gd.closest('.output');\n",
       "if (outputEl) {{\n",
       "    x.observe(outputEl, {childList: true});\n",
       "}}\n",
       "\n",
       "                        })                };                });            </script>        </div>"
      ]
     },
     "metadata": {},
     "output_type": "display_data"
    }
   ],
   "source": [
    "# Make a bar graph of communities with more than 6 projects\n",
    "px.bar(hcid_community[hcid_community['Count'] > 6],\n",
    "       x='Site Community',\n",
    "       y='Count',\n",
    "       title='Top 30 communitities in the City of LA with HCIDLA Affordable Housing Projects',\n",
    "      )"
   ]
  },
  {
   "cell_type": "markdown",
   "metadata": {},
   "source": [
    "## Housing Type in Westlake\n",
    "Let's see what type of affordable housing is being built in Westlake specifically"
   ]
  },
  {
   "cell_type": "code",
   "execution_count": 51,
   "metadata": {},
   "outputs": [
    {
     "data": {
      "application/vnd.plotly.v1+json": {
       "config": {
        "plotlyServerURL": "https://plot.ly"
       },
       "data": [
        {
         "alignmentgroup": "True",
         "hovertemplate": "HOUSING TYPE=%{x}<br>count=%{y}<extra></extra>",
         "legendgroup": "",
         "marker": {
          "color": "#636efa"
         },
         "name": "",
         "offsetgroup": "",
         "orientation": "v",
         "showlegend": false,
         "textposition": "auto",
         "type": "bar",
         "x": [
          "FAMILY",
          "FAMILY",
          "FAMILY",
          "LARGE FAMILY / WAIVER REQUIRED",
          null,
          "FAMILY",
          "SPECIAL NEEDS",
          "SPECIAL NEEDS",
          "SPECIAL NEEDS",
          "FAMILY",
          "FAMILY",
          "SENIORS",
          "FAMILY",
          "FAMILY",
          "SENIORS",
          "FAMILY",
          "SENIORS",
          "FAMILY",
          "SPECIAL NEEDS",
          "FAMILY",
          "FAMILY",
          "SPECIAL NEEDS",
          "FAMILY",
          "FAMILY",
          "SPECIAL NEEDS",
          "SPECIAL NEEDS",
          "SPECIAL NEEDS",
          "FAMILY",
          "FAMILY",
          "SPECIAL NEEDS",
          "FAMILY",
          "SENIORS",
          "FAMILY",
          "FAMILY"
         ],
         "xaxis": "x",
         "y": [
          1,
          1,
          1,
          1,
          1,
          1,
          1,
          1,
          1,
          1,
          1,
          1,
          1,
          1,
          1,
          1,
          1,
          1,
          1,
          1,
          1,
          1,
          1,
          1,
          1,
          1,
          1,
          1,
          1,
          1,
          1,
          1,
          1,
          1
         ],
         "yaxis": "y"
        }
       ],
       "layout": {
        "barmode": "relative",
        "legend": {
         "tracegroupgap": 0
        },
        "template": {
         "data": {
          "bar": [
           {
            "error_x": {
             "color": "#2a3f5f"
            },
            "error_y": {
             "color": "#2a3f5f"
            },
            "marker": {
             "line": {
              "color": "#E5ECF6",
              "width": 0.5
             }
            },
            "type": "bar"
           }
          ],
          "barpolar": [
           {
            "marker": {
             "line": {
              "color": "#E5ECF6",
              "width": 0.5
             }
            },
            "type": "barpolar"
           }
          ],
          "carpet": [
           {
            "aaxis": {
             "endlinecolor": "#2a3f5f",
             "gridcolor": "white",
             "linecolor": "white",
             "minorgridcolor": "white",
             "startlinecolor": "#2a3f5f"
            },
            "baxis": {
             "endlinecolor": "#2a3f5f",
             "gridcolor": "white",
             "linecolor": "white",
             "minorgridcolor": "white",
             "startlinecolor": "#2a3f5f"
            },
            "type": "carpet"
           }
          ],
          "choropleth": [
           {
            "colorbar": {
             "outlinewidth": 0,
             "ticks": ""
            },
            "type": "choropleth"
           }
          ],
          "contour": [
           {
            "colorbar": {
             "outlinewidth": 0,
             "ticks": ""
            },
            "colorscale": [
             [
              0,
              "#0d0887"
             ],
             [
              0.1111111111111111,
              "#46039f"
             ],
             [
              0.2222222222222222,
              "#7201a8"
             ],
             [
              0.3333333333333333,
              "#9c179e"
             ],
             [
              0.4444444444444444,
              "#bd3786"
             ],
             [
              0.5555555555555556,
              "#d8576b"
             ],
             [
              0.6666666666666666,
              "#ed7953"
             ],
             [
              0.7777777777777778,
              "#fb9f3a"
             ],
             [
              0.8888888888888888,
              "#fdca26"
             ],
             [
              1,
              "#f0f921"
             ]
            ],
            "type": "contour"
           }
          ],
          "contourcarpet": [
           {
            "colorbar": {
             "outlinewidth": 0,
             "ticks": ""
            },
            "type": "contourcarpet"
           }
          ],
          "heatmap": [
           {
            "colorbar": {
             "outlinewidth": 0,
             "ticks": ""
            },
            "colorscale": [
             [
              0,
              "#0d0887"
             ],
             [
              0.1111111111111111,
              "#46039f"
             ],
             [
              0.2222222222222222,
              "#7201a8"
             ],
             [
              0.3333333333333333,
              "#9c179e"
             ],
             [
              0.4444444444444444,
              "#bd3786"
             ],
             [
              0.5555555555555556,
              "#d8576b"
             ],
             [
              0.6666666666666666,
              "#ed7953"
             ],
             [
              0.7777777777777778,
              "#fb9f3a"
             ],
             [
              0.8888888888888888,
              "#fdca26"
             ],
             [
              1,
              "#f0f921"
             ]
            ],
            "type": "heatmap"
           }
          ],
          "heatmapgl": [
           {
            "colorbar": {
             "outlinewidth": 0,
             "ticks": ""
            },
            "colorscale": [
             [
              0,
              "#0d0887"
             ],
             [
              0.1111111111111111,
              "#46039f"
             ],
             [
              0.2222222222222222,
              "#7201a8"
             ],
             [
              0.3333333333333333,
              "#9c179e"
             ],
             [
              0.4444444444444444,
              "#bd3786"
             ],
             [
              0.5555555555555556,
              "#d8576b"
             ],
             [
              0.6666666666666666,
              "#ed7953"
             ],
             [
              0.7777777777777778,
              "#fb9f3a"
             ],
             [
              0.8888888888888888,
              "#fdca26"
             ],
             [
              1,
              "#f0f921"
             ]
            ],
            "type": "heatmapgl"
           }
          ],
          "histogram": [
           {
            "marker": {
             "colorbar": {
              "outlinewidth": 0,
              "ticks": ""
             }
            },
            "type": "histogram"
           }
          ],
          "histogram2d": [
           {
            "colorbar": {
             "outlinewidth": 0,
             "ticks": ""
            },
            "colorscale": [
             [
              0,
              "#0d0887"
             ],
             [
              0.1111111111111111,
              "#46039f"
             ],
             [
              0.2222222222222222,
              "#7201a8"
             ],
             [
              0.3333333333333333,
              "#9c179e"
             ],
             [
              0.4444444444444444,
              "#bd3786"
             ],
             [
              0.5555555555555556,
              "#d8576b"
             ],
             [
              0.6666666666666666,
              "#ed7953"
             ],
             [
              0.7777777777777778,
              "#fb9f3a"
             ],
             [
              0.8888888888888888,
              "#fdca26"
             ],
             [
              1,
              "#f0f921"
             ]
            ],
            "type": "histogram2d"
           }
          ],
          "histogram2dcontour": [
           {
            "colorbar": {
             "outlinewidth": 0,
             "ticks": ""
            },
            "colorscale": [
             [
              0,
              "#0d0887"
             ],
             [
              0.1111111111111111,
              "#46039f"
             ],
             [
              0.2222222222222222,
              "#7201a8"
             ],
             [
              0.3333333333333333,
              "#9c179e"
             ],
             [
              0.4444444444444444,
              "#bd3786"
             ],
             [
              0.5555555555555556,
              "#d8576b"
             ],
             [
              0.6666666666666666,
              "#ed7953"
             ],
             [
              0.7777777777777778,
              "#fb9f3a"
             ],
             [
              0.8888888888888888,
              "#fdca26"
             ],
             [
              1,
              "#f0f921"
             ]
            ],
            "type": "histogram2dcontour"
           }
          ],
          "mesh3d": [
           {
            "colorbar": {
             "outlinewidth": 0,
             "ticks": ""
            },
            "type": "mesh3d"
           }
          ],
          "parcoords": [
           {
            "line": {
             "colorbar": {
              "outlinewidth": 0,
              "ticks": ""
             }
            },
            "type": "parcoords"
           }
          ],
          "pie": [
           {
            "automargin": true,
            "type": "pie"
           }
          ],
          "scatter": [
           {
            "marker": {
             "colorbar": {
              "outlinewidth": 0,
              "ticks": ""
             }
            },
            "type": "scatter"
           }
          ],
          "scatter3d": [
           {
            "line": {
             "colorbar": {
              "outlinewidth": 0,
              "ticks": ""
             }
            },
            "marker": {
             "colorbar": {
              "outlinewidth": 0,
              "ticks": ""
             }
            },
            "type": "scatter3d"
           }
          ],
          "scattercarpet": [
           {
            "marker": {
             "colorbar": {
              "outlinewidth": 0,
              "ticks": ""
             }
            },
            "type": "scattercarpet"
           }
          ],
          "scattergeo": [
           {
            "marker": {
             "colorbar": {
              "outlinewidth": 0,
              "ticks": ""
             }
            },
            "type": "scattergeo"
           }
          ],
          "scattergl": [
           {
            "marker": {
             "colorbar": {
              "outlinewidth": 0,
              "ticks": ""
             }
            },
            "type": "scattergl"
           }
          ],
          "scattermapbox": [
           {
            "marker": {
             "colorbar": {
              "outlinewidth": 0,
              "ticks": ""
             }
            },
            "type": "scattermapbox"
           }
          ],
          "scatterpolar": [
           {
            "marker": {
             "colorbar": {
              "outlinewidth": 0,
              "ticks": ""
             }
            },
            "type": "scatterpolar"
           }
          ],
          "scatterpolargl": [
           {
            "marker": {
             "colorbar": {
              "outlinewidth": 0,
              "ticks": ""
             }
            },
            "type": "scatterpolargl"
           }
          ],
          "scatterternary": [
           {
            "marker": {
             "colorbar": {
              "outlinewidth": 0,
              "ticks": ""
             }
            },
            "type": "scatterternary"
           }
          ],
          "surface": [
           {
            "colorbar": {
             "outlinewidth": 0,
             "ticks": ""
            },
            "colorscale": [
             [
              0,
              "#0d0887"
             ],
             [
              0.1111111111111111,
              "#46039f"
             ],
             [
              0.2222222222222222,
              "#7201a8"
             ],
             [
              0.3333333333333333,
              "#9c179e"
             ],
             [
              0.4444444444444444,
              "#bd3786"
             ],
             [
              0.5555555555555556,
              "#d8576b"
             ],
             [
              0.6666666666666666,
              "#ed7953"
             ],
             [
              0.7777777777777778,
              "#fb9f3a"
             ],
             [
              0.8888888888888888,
              "#fdca26"
             ],
             [
              1,
              "#f0f921"
             ]
            ],
            "type": "surface"
           }
          ],
          "table": [
           {
            "cells": {
             "fill": {
              "color": "#EBF0F8"
             },
             "line": {
              "color": "white"
             }
            },
            "header": {
             "fill": {
              "color": "#C8D4E3"
             },
             "line": {
              "color": "white"
             }
            },
            "type": "table"
           }
          ]
         },
         "layout": {
          "annotationdefaults": {
           "arrowcolor": "#2a3f5f",
           "arrowhead": 0,
           "arrowwidth": 1
          },
          "coloraxis": {
           "colorbar": {
            "outlinewidth": 0,
            "ticks": ""
           }
          },
          "colorscale": {
           "diverging": [
            [
             0,
             "#8e0152"
            ],
            [
             0.1,
             "#c51b7d"
            ],
            [
             0.2,
             "#de77ae"
            ],
            [
             0.3,
             "#f1b6da"
            ],
            [
             0.4,
             "#fde0ef"
            ],
            [
             0.5,
             "#f7f7f7"
            ],
            [
             0.6,
             "#e6f5d0"
            ],
            [
             0.7,
             "#b8e186"
            ],
            [
             0.8,
             "#7fbc41"
            ],
            [
             0.9,
             "#4d9221"
            ],
            [
             1,
             "#276419"
            ]
           ],
           "sequential": [
            [
             0,
             "#0d0887"
            ],
            [
             0.1111111111111111,
             "#46039f"
            ],
            [
             0.2222222222222222,
             "#7201a8"
            ],
            [
             0.3333333333333333,
             "#9c179e"
            ],
            [
             0.4444444444444444,
             "#bd3786"
            ],
            [
             0.5555555555555556,
             "#d8576b"
            ],
            [
             0.6666666666666666,
             "#ed7953"
            ],
            [
             0.7777777777777778,
             "#fb9f3a"
            ],
            [
             0.8888888888888888,
             "#fdca26"
            ],
            [
             1,
             "#f0f921"
            ]
           ],
           "sequentialminus": [
            [
             0,
             "#0d0887"
            ],
            [
             0.1111111111111111,
             "#46039f"
            ],
            [
             0.2222222222222222,
             "#7201a8"
            ],
            [
             0.3333333333333333,
             "#9c179e"
            ],
            [
             0.4444444444444444,
             "#bd3786"
            ],
            [
             0.5555555555555556,
             "#d8576b"
            ],
            [
             0.6666666666666666,
             "#ed7953"
            ],
            [
             0.7777777777777778,
             "#fb9f3a"
            ],
            [
             0.8888888888888888,
             "#fdca26"
            ],
            [
             1,
             "#f0f921"
            ]
           ]
          },
          "colorway": [
           "#636efa",
           "#EF553B",
           "#00cc96",
           "#ab63fa",
           "#FFA15A",
           "#19d3f3",
           "#FF6692",
           "#B6E880",
           "#FF97FF",
           "#FECB52"
          ],
          "font": {
           "color": "#2a3f5f"
          },
          "geo": {
           "bgcolor": "white",
           "lakecolor": "white",
           "landcolor": "#E5ECF6",
           "showlakes": true,
           "showland": true,
           "subunitcolor": "white"
          },
          "hoverlabel": {
           "align": "left"
          },
          "hovermode": "closest",
          "mapbox": {
           "style": "light"
          },
          "paper_bgcolor": "white",
          "plot_bgcolor": "#E5ECF6",
          "polar": {
           "angularaxis": {
            "gridcolor": "white",
            "linecolor": "white",
            "ticks": ""
           },
           "bgcolor": "#E5ECF6",
           "radialaxis": {
            "gridcolor": "white",
            "linecolor": "white",
            "ticks": ""
           }
          },
          "scene": {
           "xaxis": {
            "backgroundcolor": "#E5ECF6",
            "gridcolor": "white",
            "gridwidth": 2,
            "linecolor": "white",
            "showbackground": true,
            "ticks": "",
            "zerolinecolor": "white"
           },
           "yaxis": {
            "backgroundcolor": "#E5ECF6",
            "gridcolor": "white",
            "gridwidth": 2,
            "linecolor": "white",
            "showbackground": true,
            "ticks": "",
            "zerolinecolor": "white"
           },
           "zaxis": {
            "backgroundcolor": "#E5ECF6",
            "gridcolor": "white",
            "gridwidth": 2,
            "linecolor": "white",
            "showbackground": true,
            "ticks": "",
            "zerolinecolor": "white"
           }
          },
          "shapedefaults": {
           "line": {
            "color": "#2a3f5f"
           }
          },
          "ternary": {
           "aaxis": {
            "gridcolor": "white",
            "linecolor": "white",
            "ticks": ""
           },
           "baxis": {
            "gridcolor": "white",
            "linecolor": "white",
            "ticks": ""
           },
           "bgcolor": "#E5ECF6",
           "caxis": {
            "gridcolor": "white",
            "linecolor": "white",
            "ticks": ""
           }
          },
          "title": {
           "x": 0.05
          },
          "xaxis": {
           "automargin": true,
           "gridcolor": "white",
           "linecolor": "white",
           "ticks": "",
           "title": {
            "standoff": 15
           },
           "zerolinecolor": "white",
           "zerolinewidth": 2
          },
          "yaxis": {
           "automargin": true,
           "gridcolor": "white",
           "linecolor": "white",
           "ticks": "",
           "title": {
            "standoff": 15
           },
           "zerolinecolor": "white",
           "zerolinewidth": 2
          }
         }
        },
        "title": {
         "text": "HCIDLA Affordable Projects by Housing Type in Westlake"
        },
        "xaxis": {
         "anchor": "y",
         "domain": [
          0,
          1
         ],
         "title": {
          "text": "HOUSING TYPE"
         }
        },
        "yaxis": {
         "anchor": "x",
         "domain": [
          0,
          1
         ],
         "title": {
          "text": "count"
         }
        }
       }
      },
      "text/html": [
       "<div>                            <div id=\"5cb74a37-53d8-463d-9443-3bbabaaacaea\" class=\"plotly-graph-div\" style=\"height:525px; width:100%;\"></div>            <script type=\"text/javascript\">                require([\"plotly\"], function(Plotly) {                    window.PLOTLYENV=window.PLOTLYENV || {};                                    if (document.getElementById(\"5cb74a37-53d8-463d-9443-3bbabaaacaea\")) {                    Plotly.newPlot(                        \"5cb74a37-53d8-463d-9443-3bbabaaacaea\",                        [{\"alignmentgroup\": \"True\", \"hovertemplate\": \"HOUSING TYPE=%{x}<br>count=%{y}<extra></extra>\", \"legendgroup\": \"\", \"marker\": {\"color\": \"#636efa\"}, \"name\": \"\", \"offsetgroup\": \"\", \"orientation\": \"v\", \"showlegend\": false, \"textposition\": \"auto\", \"type\": \"bar\", \"x\": [\"FAMILY\", \"FAMILY\", \"FAMILY\", \"LARGE FAMILY / WAIVER REQUIRED\", null, \"FAMILY\", \"SPECIAL NEEDS\", \"SPECIAL NEEDS\", \"SPECIAL NEEDS\", \"FAMILY\", \"FAMILY\", \"SENIORS\", \"FAMILY\", \"FAMILY\", \"SENIORS\", \"FAMILY\", \"SENIORS\", \"FAMILY\", \"SPECIAL NEEDS\", \"FAMILY\", \"FAMILY\", \"SPECIAL NEEDS\", \"FAMILY\", \"FAMILY\", \"SPECIAL NEEDS\", \"SPECIAL NEEDS\", \"SPECIAL NEEDS\", \"FAMILY\", \"FAMILY\", \"SPECIAL NEEDS\", \"FAMILY\", \"SENIORS\", \"FAMILY\", \"FAMILY\"], \"xaxis\": \"x\", \"y\": [1, 1, 1, 1, 1, 1, 1, 1, 1, 1, 1, 1, 1, 1, 1, 1, 1, 1, 1, 1, 1, 1, 1, 1, 1, 1, 1, 1, 1, 1, 1, 1, 1, 1], \"yaxis\": \"y\"}],                        {\"barmode\": \"relative\", \"legend\": {\"tracegroupgap\": 0}, \"template\": {\"data\": {\"bar\": [{\"error_x\": {\"color\": \"#2a3f5f\"}, \"error_y\": {\"color\": \"#2a3f5f\"}, \"marker\": {\"line\": {\"color\": \"#E5ECF6\", \"width\": 0.5}}, \"type\": \"bar\"}], \"barpolar\": [{\"marker\": {\"line\": {\"color\": \"#E5ECF6\", \"width\": 0.5}}, \"type\": \"barpolar\"}], \"carpet\": [{\"aaxis\": {\"endlinecolor\": \"#2a3f5f\", \"gridcolor\": \"white\", \"linecolor\": \"white\", \"minorgridcolor\": \"white\", \"startlinecolor\": \"#2a3f5f\"}, \"baxis\": {\"endlinecolor\": \"#2a3f5f\", \"gridcolor\": \"white\", \"linecolor\": \"white\", \"minorgridcolor\": \"white\", \"startlinecolor\": \"#2a3f5f\"}, \"type\": \"carpet\"}], \"choropleth\": [{\"colorbar\": {\"outlinewidth\": 0, \"ticks\": \"\"}, \"type\": \"choropleth\"}], \"contour\": [{\"colorbar\": {\"outlinewidth\": 0, \"ticks\": \"\"}, \"colorscale\": [[0.0, \"#0d0887\"], [0.1111111111111111, \"#46039f\"], [0.2222222222222222, \"#7201a8\"], [0.3333333333333333, \"#9c179e\"], [0.4444444444444444, \"#bd3786\"], [0.5555555555555556, \"#d8576b\"], [0.6666666666666666, \"#ed7953\"], [0.7777777777777778, \"#fb9f3a\"], [0.8888888888888888, \"#fdca26\"], [1.0, \"#f0f921\"]], \"type\": \"contour\"}], \"contourcarpet\": [{\"colorbar\": {\"outlinewidth\": 0, \"ticks\": \"\"}, \"type\": \"contourcarpet\"}], \"heatmap\": [{\"colorbar\": {\"outlinewidth\": 0, \"ticks\": \"\"}, \"colorscale\": [[0.0, \"#0d0887\"], [0.1111111111111111, \"#46039f\"], [0.2222222222222222, \"#7201a8\"], [0.3333333333333333, \"#9c179e\"], [0.4444444444444444, \"#bd3786\"], [0.5555555555555556, \"#d8576b\"], [0.6666666666666666, \"#ed7953\"], [0.7777777777777778, \"#fb9f3a\"], [0.8888888888888888, \"#fdca26\"], [1.0, \"#f0f921\"]], \"type\": \"heatmap\"}], \"heatmapgl\": [{\"colorbar\": {\"outlinewidth\": 0, \"ticks\": \"\"}, \"colorscale\": [[0.0, \"#0d0887\"], [0.1111111111111111, \"#46039f\"], [0.2222222222222222, \"#7201a8\"], [0.3333333333333333, \"#9c179e\"], [0.4444444444444444, \"#bd3786\"], [0.5555555555555556, \"#d8576b\"], [0.6666666666666666, \"#ed7953\"], [0.7777777777777778, \"#fb9f3a\"], [0.8888888888888888, \"#fdca26\"], [1.0, \"#f0f921\"]], \"type\": \"heatmapgl\"}], \"histogram\": [{\"marker\": {\"colorbar\": {\"outlinewidth\": 0, \"ticks\": \"\"}}, \"type\": \"histogram\"}], \"histogram2d\": [{\"colorbar\": {\"outlinewidth\": 0, \"ticks\": \"\"}, \"colorscale\": [[0.0, \"#0d0887\"], [0.1111111111111111, \"#46039f\"], [0.2222222222222222, \"#7201a8\"], [0.3333333333333333, \"#9c179e\"], [0.4444444444444444, \"#bd3786\"], [0.5555555555555556, \"#d8576b\"], [0.6666666666666666, \"#ed7953\"], [0.7777777777777778, \"#fb9f3a\"], [0.8888888888888888, \"#fdca26\"], [1.0, \"#f0f921\"]], \"type\": \"histogram2d\"}], \"histogram2dcontour\": [{\"colorbar\": {\"outlinewidth\": 0, \"ticks\": \"\"}, \"colorscale\": [[0.0, \"#0d0887\"], [0.1111111111111111, \"#46039f\"], [0.2222222222222222, \"#7201a8\"], [0.3333333333333333, \"#9c179e\"], [0.4444444444444444, \"#bd3786\"], [0.5555555555555556, \"#d8576b\"], [0.6666666666666666, \"#ed7953\"], [0.7777777777777778, \"#fb9f3a\"], [0.8888888888888888, \"#fdca26\"], [1.0, \"#f0f921\"]], \"type\": \"histogram2dcontour\"}], \"mesh3d\": [{\"colorbar\": {\"outlinewidth\": 0, \"ticks\": \"\"}, \"type\": \"mesh3d\"}], \"parcoords\": [{\"line\": {\"colorbar\": {\"outlinewidth\": 0, \"ticks\": \"\"}}, \"type\": \"parcoords\"}], \"pie\": [{\"automargin\": true, \"type\": \"pie\"}], \"scatter\": [{\"marker\": {\"colorbar\": {\"outlinewidth\": 0, \"ticks\": \"\"}}, \"type\": \"scatter\"}], \"scatter3d\": [{\"line\": {\"colorbar\": {\"outlinewidth\": 0, \"ticks\": \"\"}}, \"marker\": {\"colorbar\": {\"outlinewidth\": 0, \"ticks\": \"\"}}, \"type\": \"scatter3d\"}], \"scattercarpet\": [{\"marker\": {\"colorbar\": {\"outlinewidth\": 0, \"ticks\": \"\"}}, \"type\": \"scattercarpet\"}], \"scattergeo\": [{\"marker\": {\"colorbar\": {\"outlinewidth\": 0, \"ticks\": \"\"}}, \"type\": \"scattergeo\"}], \"scattergl\": [{\"marker\": {\"colorbar\": {\"outlinewidth\": 0, \"ticks\": \"\"}}, \"type\": \"scattergl\"}], \"scattermapbox\": [{\"marker\": {\"colorbar\": {\"outlinewidth\": 0, \"ticks\": \"\"}}, \"type\": \"scattermapbox\"}], \"scatterpolar\": [{\"marker\": {\"colorbar\": {\"outlinewidth\": 0, \"ticks\": \"\"}}, \"type\": \"scatterpolar\"}], \"scatterpolargl\": [{\"marker\": {\"colorbar\": {\"outlinewidth\": 0, \"ticks\": \"\"}}, \"type\": \"scatterpolargl\"}], \"scatterternary\": [{\"marker\": {\"colorbar\": {\"outlinewidth\": 0, \"ticks\": \"\"}}, \"type\": \"scatterternary\"}], \"surface\": [{\"colorbar\": {\"outlinewidth\": 0, \"ticks\": \"\"}, \"colorscale\": [[0.0, \"#0d0887\"], [0.1111111111111111, \"#46039f\"], [0.2222222222222222, \"#7201a8\"], [0.3333333333333333, \"#9c179e\"], [0.4444444444444444, \"#bd3786\"], [0.5555555555555556, \"#d8576b\"], [0.6666666666666666, \"#ed7953\"], [0.7777777777777778, \"#fb9f3a\"], [0.8888888888888888, \"#fdca26\"], [1.0, \"#f0f921\"]], \"type\": \"surface\"}], \"table\": [{\"cells\": {\"fill\": {\"color\": \"#EBF0F8\"}, \"line\": {\"color\": \"white\"}}, \"header\": {\"fill\": {\"color\": \"#C8D4E3\"}, \"line\": {\"color\": \"white\"}}, \"type\": \"table\"}]}, \"layout\": {\"annotationdefaults\": {\"arrowcolor\": \"#2a3f5f\", \"arrowhead\": 0, \"arrowwidth\": 1}, \"coloraxis\": {\"colorbar\": {\"outlinewidth\": 0, \"ticks\": \"\"}}, \"colorscale\": {\"diverging\": [[0, \"#8e0152\"], [0.1, \"#c51b7d\"], [0.2, \"#de77ae\"], [0.3, \"#f1b6da\"], [0.4, \"#fde0ef\"], [0.5, \"#f7f7f7\"], [0.6, \"#e6f5d0\"], [0.7, \"#b8e186\"], [0.8, \"#7fbc41\"], [0.9, \"#4d9221\"], [1, \"#276419\"]], \"sequential\": [[0.0, \"#0d0887\"], [0.1111111111111111, \"#46039f\"], [0.2222222222222222, \"#7201a8\"], [0.3333333333333333, \"#9c179e\"], [0.4444444444444444, \"#bd3786\"], [0.5555555555555556, \"#d8576b\"], [0.6666666666666666, \"#ed7953\"], [0.7777777777777778, \"#fb9f3a\"], [0.8888888888888888, \"#fdca26\"], [1.0, \"#f0f921\"]], \"sequentialminus\": [[0.0, \"#0d0887\"], [0.1111111111111111, \"#46039f\"], [0.2222222222222222, \"#7201a8\"], [0.3333333333333333, \"#9c179e\"], [0.4444444444444444, \"#bd3786\"], [0.5555555555555556, \"#d8576b\"], [0.6666666666666666, \"#ed7953\"], [0.7777777777777778, \"#fb9f3a\"], [0.8888888888888888, \"#fdca26\"], [1.0, \"#f0f921\"]]}, \"colorway\": [\"#636efa\", \"#EF553B\", \"#00cc96\", \"#ab63fa\", \"#FFA15A\", \"#19d3f3\", \"#FF6692\", \"#B6E880\", \"#FF97FF\", \"#FECB52\"], \"font\": {\"color\": \"#2a3f5f\"}, \"geo\": {\"bgcolor\": \"white\", \"lakecolor\": \"white\", \"landcolor\": \"#E5ECF6\", \"showlakes\": true, \"showland\": true, \"subunitcolor\": \"white\"}, \"hoverlabel\": {\"align\": \"left\"}, \"hovermode\": \"closest\", \"mapbox\": {\"style\": \"light\"}, \"paper_bgcolor\": \"white\", \"plot_bgcolor\": \"#E5ECF6\", \"polar\": {\"angularaxis\": {\"gridcolor\": \"white\", \"linecolor\": \"white\", \"ticks\": \"\"}, \"bgcolor\": \"#E5ECF6\", \"radialaxis\": {\"gridcolor\": \"white\", \"linecolor\": \"white\", \"ticks\": \"\"}}, \"scene\": {\"xaxis\": {\"backgroundcolor\": \"#E5ECF6\", \"gridcolor\": \"white\", \"gridwidth\": 2, \"linecolor\": \"white\", \"showbackground\": true, \"ticks\": \"\", \"zerolinecolor\": \"white\"}, \"yaxis\": {\"backgroundcolor\": \"#E5ECF6\", \"gridcolor\": \"white\", \"gridwidth\": 2, \"linecolor\": \"white\", \"showbackground\": true, \"ticks\": \"\", \"zerolinecolor\": \"white\"}, \"zaxis\": {\"backgroundcolor\": \"#E5ECF6\", \"gridcolor\": \"white\", \"gridwidth\": 2, \"linecolor\": \"white\", \"showbackground\": true, \"ticks\": \"\", \"zerolinecolor\": \"white\"}}, \"shapedefaults\": {\"line\": {\"color\": \"#2a3f5f\"}}, \"ternary\": {\"aaxis\": {\"gridcolor\": \"white\", \"linecolor\": \"white\", \"ticks\": \"\"}, \"baxis\": {\"gridcolor\": \"white\", \"linecolor\": \"white\", \"ticks\": \"\"}, \"bgcolor\": \"#E5ECF6\", \"caxis\": {\"gridcolor\": \"white\", \"linecolor\": \"white\", \"ticks\": \"\"}}, \"title\": {\"x\": 0.05}, \"xaxis\": {\"automargin\": true, \"gridcolor\": \"white\", \"linecolor\": \"white\", \"ticks\": \"\", \"title\": {\"standoff\": 15}, \"zerolinecolor\": \"white\", \"zerolinewidth\": 2}, \"yaxis\": {\"automargin\": true, \"gridcolor\": \"white\", \"linecolor\": \"white\", \"ticks\": \"\", \"title\": {\"standoff\": 15}, \"zerolinecolor\": \"white\", \"zerolinewidth\": 2}}}, \"title\": {\"text\": \"HCIDLA Affordable Projects by Housing Type in Westlake\"}, \"xaxis\": {\"anchor\": \"y\", \"domain\": [0.0, 1.0], \"title\": {\"text\": \"HOUSING TYPE\"}}, \"yaxis\": {\"anchor\": \"x\", \"domain\": [0.0, 1.0], \"title\": {\"text\": \"count\"}}},                        {\"responsive\": true}                    ).then(function(){\n",
       "                            \n",
       "var gd = document.getElementById('5cb74a37-53d8-463d-9443-3bbabaaacaea');\n",
       "var x = new MutationObserver(function (mutations, observer) {{\n",
       "        var display = window.getComputedStyle(gd).display;\n",
       "        if (!display || display === 'none') {{\n",
       "            console.log([gd, 'removed!']);\n",
       "            Plotly.purge(gd);\n",
       "            observer.disconnect();\n",
       "        }}\n",
       "}});\n",
       "\n",
       "// Listen for the removal of the full notebook cells\n",
       "var notebookContainer = gd.closest('#notebook-container');\n",
       "if (notebookContainer) {{\n",
       "    x.observe(notebookContainer, {childList: true});\n",
       "}}\n",
       "\n",
       "// Listen for the clearing of the current output cell\n",
       "var outputEl = gd.closest('.output');\n",
       "if (outputEl) {{\n",
       "    x.observe(outputEl, {childList: true});\n",
       "}}\n",
       "\n",
       "                        })                };                });            </script>        </div>"
      ]
     },
     "metadata": {},
     "output_type": "display_data"
    }
   ],
   "source": [
    "px.bar(hcid[hcid['SITE COMMUNITY'] == 'WESTLAKE'],\n",
    "       x='HOUSING TYPE',\n",
    "       title='HCIDLA Affordable Projects by Housing Type in Westlake',\n",
    "      )"
   ]
  },
  {
   "cell_type": "markdown",
   "metadata": {},
   "source": [
    "## Combining \n",
    "\n",
    "Let's go back to the main data set to see what type of housing is being built in each of the different communitites."
   ]
  },
  {
   "cell_type": "code",
   "execution_count": 76,
   "metadata": {},
   "outputs": [
    {
     "data": {
      "text/html": [
       "<div>\n",
       "<style scoped>\n",
       "    .dataframe tbody tr th:only-of-type {\n",
       "        vertical-align: middle;\n",
       "    }\n",
       "\n",
       "    .dataframe tbody tr th {\n",
       "        vertical-align: top;\n",
       "    }\n",
       "\n",
       "    .dataframe thead th {\n",
       "        text-align: right;\n",
       "    }\n",
       "</style>\n",
       "<table border=\"1\" class=\"dataframe\">\n",
       "  <thead>\n",
       "    <tr style=\"text-align: right;\">\n",
       "      <th></th>\n",
       "      <th></th>\n",
       "      <th>NAME</th>\n",
       "    </tr>\n",
       "    <tr>\n",
       "      <th>SITE COMMUNITY</th>\n",
       "      <th>HOUSING TYPE</th>\n",
       "      <th></th>\n",
       "    </tr>\n",
       "  </thead>\n",
       "  <tbody>\n",
       "    <tr>\n",
       "      <th rowspan=\"2\" valign=\"top\">ADAMS-NORMANDIE</th>\n",
       "      <th>FAMILY</th>\n",
       "      <td>1</td>\n",
       "    </tr>\n",
       "    <tr>\n",
       "      <th>SENIORS</th>\n",
       "      <td>1</td>\n",
       "    </tr>\n",
       "    <tr>\n",
       "      <th>ALSACE</th>\n",
       "      <th>FAMILY</th>\n",
       "      <td>1</td>\n",
       "    </tr>\n",
       "    <tr>\n",
       "      <th>ANGELINO HEIGHTS</th>\n",
       "      <th>FAMILY</th>\n",
       "      <td>1</td>\n",
       "    </tr>\n",
       "    <tr>\n",
       "      <th>ATWATER VILLAGE</th>\n",
       "      <th>FAMILY</th>\n",
       "      <td>5</td>\n",
       "    </tr>\n",
       "  </tbody>\n",
       "</table>\n",
       "</div>"
      ],
      "text/plain": [
       "                               NAME\n",
       "SITE COMMUNITY   HOUSING TYPE      \n",
       "ADAMS-NORMANDIE  FAMILY           1\n",
       "                 SENIORS          1\n",
       "ALSACE           FAMILY           1\n",
       "ANGELINO HEIGHTS FAMILY           1\n",
       "ATWATER VILLAGE  FAMILY           5"
      ]
     },
     "execution_count": 76,
     "metadata": {},
     "output_type": "execute_result"
    }
   ],
   "source": [
    "hcid_comm_type = hcid[[\n",
    " 'NAME',\n",
    " 'SITE COMMUNITY',\n",
    " 'HOUSING TYPE',\n",
    "]]\n",
    "\n",
    "# group by site community and housing type, and let's get a count for each\n",
    "hcid_grouped=hcid_comm_type.groupby(['SITE COMMUNITY','HOUSING TYPE']).count()[['NAME']]\n",
    "hcid_grouped.head()"
   ]
  },
  {
   "cell_type": "code",
   "execution_count": 68,
   "metadata": {},
   "outputs": [
    {
     "data": {
      "text/html": [
       "<div>\n",
       "<style scoped>\n",
       "    .dataframe tbody tr th:only-of-type {\n",
       "        vertical-align: middle;\n",
       "    }\n",
       "\n",
       "    .dataframe tbody tr th {\n",
       "        vertical-align: top;\n",
       "    }\n",
       "\n",
       "    .dataframe thead th {\n",
       "        text-align: right;\n",
       "    }\n",
       "</style>\n",
       "<table border=\"1\" class=\"dataframe\">\n",
       "  <thead>\n",
       "    <tr style=\"text-align: right;\">\n",
       "      <th></th>\n",
       "      <th>SITE COMMUNITY</th>\n",
       "      <th>HOUSING TYPE</th>\n",
       "      <th>NAME</th>\n",
       "    </tr>\n",
       "  </thead>\n",
       "  <tbody>\n",
       "    <tr>\n",
       "      <th>0</th>\n",
       "      <td>ADAMS-NORMANDIE</td>\n",
       "      <td>FAMILY</td>\n",
       "      <td>1</td>\n",
       "    </tr>\n",
       "    <tr>\n",
       "      <th>1</th>\n",
       "      <td>ADAMS-NORMANDIE</td>\n",
       "      <td>SENIORS</td>\n",
       "      <td>1</td>\n",
       "    </tr>\n",
       "    <tr>\n",
       "      <th>2</th>\n",
       "      <td>ALSACE</td>\n",
       "      <td>FAMILY</td>\n",
       "      <td>1</td>\n",
       "    </tr>\n",
       "    <tr>\n",
       "      <th>3</th>\n",
       "      <td>ANGELINO HEIGHTS</td>\n",
       "      <td>FAMILY</td>\n",
       "      <td>1</td>\n",
       "    </tr>\n",
       "    <tr>\n",
       "      <th>4</th>\n",
       "      <td>ATWATER VILLAGE</td>\n",
       "      <td>FAMILY</td>\n",
       "      <td>5</td>\n",
       "    </tr>\n",
       "    <tr>\n",
       "      <th>...</th>\n",
       "      <td>...</td>\n",
       "      <td>...</td>\n",
       "      <td>...</td>\n",
       "    </tr>\n",
       "    <tr>\n",
       "      <th>167</th>\n",
       "      <td>WHOLESALE DISTRICT</td>\n",
       "      <td>SPECIAL NEEDS</td>\n",
       "      <td>17</td>\n",
       "    </tr>\n",
       "    <tr>\n",
       "      <th>168</th>\n",
       "      <td>WILMINGTON</td>\n",
       "      <td>FAMILY</td>\n",
       "      <td>3</td>\n",
       "    </tr>\n",
       "    <tr>\n",
       "      <th>169</th>\n",
       "      <td>WILMINGTON</td>\n",
       "      <td>SENIORS</td>\n",
       "      <td>2</td>\n",
       "    </tr>\n",
       "    <tr>\n",
       "      <th>170</th>\n",
       "      <td>WILSHIRE CENTER</td>\n",
       "      <td>FAMILY</td>\n",
       "      <td>3</td>\n",
       "    </tr>\n",
       "    <tr>\n",
       "      <th>171</th>\n",
       "      <td>WILSHIRE CENTER</td>\n",
       "      <td>SPECIAL NEEDS</td>\n",
       "      <td>5</td>\n",
       "    </tr>\n",
       "  </tbody>\n",
       "</table>\n",
       "<p>172 rows × 3 columns</p>\n",
       "</div>"
      ],
      "text/plain": [
       "         SITE COMMUNITY   HOUSING TYPE  NAME\n",
       "0       ADAMS-NORMANDIE         FAMILY     1\n",
       "1       ADAMS-NORMANDIE        SENIORS     1\n",
       "2                ALSACE         FAMILY     1\n",
       "3      ANGELINO HEIGHTS         FAMILY     1\n",
       "4       ATWATER VILLAGE         FAMILY     5\n",
       "..                  ...            ...   ...\n",
       "167  WHOLESALE DISTRICT  SPECIAL NEEDS    17\n",
       "168          WILMINGTON         FAMILY     3\n",
       "169          WILMINGTON        SENIORS     2\n",
       "170     WILSHIRE CENTER         FAMILY     3\n",
       "171     WILSHIRE CENTER  SPECIAL NEEDS     5\n",
       "\n",
       "[172 rows x 3 columns]"
      ]
     },
     "execution_count": 68,
     "metadata": {},
     "output_type": "execute_result"
    }
   ],
   "source": [
    "# flatten the multi-indexed dataframe\n",
    "hcid_flat = hcid_grouped.reset_index()\n",
    "hcid_flat"
   ]
  },
  {
   "cell_type": "code",
   "execution_count": 85,
   "metadata": {},
   "outputs": [
    {
     "data": {
      "application/vnd.plotly.v1+json": {
       "config": {
        "plotlyServerURL": "https://plot.ly"
       },
       "data": [
        {
         "alignmentgroup": "True",
         "hovertemplate": "HOUSING TYPE=FAMILY<br>SITE COMMUNITY=%{x}<br>NAME=%{y}<extra></extra>",
         "legendgroup": "FAMILY",
         "marker": {
          "color": "#636efa"
         },
         "name": "FAMILY",
         "offsetgroup": "FAMILY",
         "orientation": "v",
         "showlegend": true,
         "textposition": "auto",
         "type": "bar",
         "x": [
          "ADAMS-NORMANDIE",
          "ALSACE",
          "ANGELINO HEIGHTS",
          "ATWATER VILLAGE",
          "BOYLE HEIGHTS",
          "CENTRAL",
          "CENTURY PALMS/COVE",
          "CHINATOWN",
          "COUNTRY CLUB PARK",
          "CRENSHAW DISTRICT",
          "DOWNTOWN",
          "EAST HOLLYWOOD",
          "ECHO PARK",
          "EL SERENO",
          "ELYSIAN VALLEY",
          "EXPOSITION PARK",
          "FIGUEROA PARK SQUARE",
          "FLORENCE-FIRESTONE",
          "GLASSELL PARK",
          "GREEN MEADOWS",
          "HARBOR CITY",
          "HARBOR GATEWAY",
          "HARVARD HEIGHTS",
          "HARVARD PARK",
          "HIGHLAND PARK",
          "HISTORIC FILIPINOTOWN",
          "HOLLYWOOD",
          "HOLLYWOOD HILLS",
          "JEFFERSON PARK",
          "KOREATOWN",
          "LAKEVIEW TERRACE",
          "LINCOLN HEIGHTS",
          "LOS FELIZ",
          "MAR VISTA",
          "MELROSE",
          "MT. WASHINGTON",
          "NORTH HILLS",
          "NORTH HOLLYWOOD",
          "PACOIMA",
          "PANORAMA CITY",
          "PICO-UNION",
          "RESEDA",
          "SAN PEDRO",
          "SHERMAN OAKS",
          "SILVERLAKE",
          "SOUTH PARK",
          "ST ELMO VILLAGE",
          "SUN VALLEY",
          "SYLMAR",
          "TEMPLE-BEAUDRY",
          "THAI TOWN",
          "UNIVERSITY PARK",
          "VALLEY GLEN",
          "VAN NUYS",
          "VERMONT KNOLLS",
          "VERMONT SQUARE",
          "VERMONT VISTA",
          "VERNON CENTRAL",
          "VICTORIA PARK",
          "WATTS",
          "WEST ADAMS",
          "WEST VERNON",
          "WESTLAKE",
          "WHOLESALE DISTRICT",
          "WILMINGTON",
          "WILSHIRE CENTER"
         ],
         "xaxis": "x",
         "y": [
          1,
          1,
          1,
          5,
          5,
          8,
          6,
          1,
          1,
          4,
          2,
          4,
          1,
          1,
          1,
          9,
          1,
          5,
          1,
          2,
          1,
          5,
          3,
          2,
          1,
          1,
          5,
          1,
          1,
          7,
          1,
          6,
          1,
          1,
          5,
          1,
          3,
          2,
          1,
          2,
          10,
          4,
          1,
          1,
          1,
          4,
          1,
          2,
          5,
          8,
          5,
          10,
          2,
          2,
          1,
          1,
          6,
          5,
          1,
          9,
          7,
          8,
          19,
          6,
          3,
          3
         ],
         "yaxis": "y"
        },
        {
         "alignmentgroup": "True",
         "hovertemplate": "HOUSING TYPE=SENIORS<br>SITE COMMUNITY=%{x}<br>NAME=%{y}<extra></extra>",
         "legendgroup": "SENIORS",
         "marker": {
          "color": "#EF553B"
         },
         "name": "SENIORS",
         "offsetgroup": "SENIORS",
         "orientation": "v",
         "showlegend": true,
         "textposition": "auto",
         "type": "bar",
         "x": [
          "ADAMS-NORMANDIE",
          "ATWATER VILLAGE",
          "BALDWIN HILLS",
          "BOYLE HEIGHTS",
          "CANOGA PARK",
          "CENTRAL",
          "CHATSWORTH",
          "CHINATOWN",
          "COUNTRY CLUB PARK",
          "CRENSHAW DISTRICT",
          "CRESTVIEW",
          "DEL REY",
          "EXPOSITION PARK",
          "GLASSELL PARK",
          "HANCOCK PARK",
          "HIGHLAND PARK",
          "HOLLYWOOD",
          "HYDE PARK",
          "KOREATOWN",
          "LINCOLN HEIGHTS",
          "MELROSE",
          "NORTH HILLS",
          "NORTH HOLLYWOOD",
          "PANORAMA CITY",
          "PICO-UNION",
          "RANCHO PARK",
          "RESEDA",
          "SAN PEDRO",
          "SILVERLAKE",
          "SOUTH PARK",
          "SUN VALLEY",
          "SUNLAND",
          "TEMPLE-BEAUDRY",
          "UNIVERSITY PARK",
          "VAN NUYS",
          "VERMONT KNOLLS",
          "VERMONT VISTA",
          "VERNON CENTRAL",
          "VICTORIA PARK",
          "WELLINGTON SQUARE",
          "WEST VERNON",
          "WESTLAKE",
          "WILMINGTON"
         ],
         "xaxis": "x",
         "y": [
          1,
          1,
          2,
          3,
          1,
          3,
          1,
          1,
          1,
          1,
          1,
          1,
          1,
          1,
          1,
          1,
          9,
          2,
          3,
          1,
          6,
          3,
          2,
          6,
          3,
          1,
          1,
          1,
          1,
          1,
          1,
          1,
          1,
          2,
          3,
          1,
          3,
          2,
          1,
          1,
          3,
          4,
          2
         ],
         "yaxis": "y"
        },
        {
         "alignmentgroup": "True",
         "hovertemplate": "HOUSING TYPE=SPECIAL NEEDS<br>SITE COMMUNITY=%{x}<br>NAME=%{y}<extra></extra>",
         "legendgroup": "SPECIAL NEEDS",
         "marker": {
          "color": "#00cc96"
         },
         "name": "SPECIAL NEEDS",
         "offsetgroup": "SPECIAL NEEDS",
         "orientation": "v",
         "showlegend": true,
         "textposition": "auto",
         "type": "bar",
         "x": [
          "BOYLE HEIGHTS",
          "CENTRAL",
          "CENTURY PALMS/COVE",
          "DEL REY",
          "DOWNTOWN",
          "EAGLE ROCK",
          "ECHO PARK",
          "EL SERENO",
          "EXPOSITION",
          "EXPOSITION PARK",
          "FLORENCE-FIRESTONE",
          "GLASSELL PARK",
          "HARBOR CITY",
          "HARBOR GATEWAY",
          "HARVARD HEIGHTS",
          "HISTORIC FILIPINOTOWN",
          "HOLLYWOOD",
          "HYDE PARK",
          "KOREATOWN",
          "LAKEVIEW TERRACE",
          "LINCOLN HEIGHTS",
          "LITTLE TOKYO",
          "MELROSE",
          "NORTH HILLS",
          "PACOIMA",
          "PICO-UNION",
          "SILVERLAKE",
          "SOUTH PARK",
          "SUN VALLEY",
          "SYLMAR",
          "TEMPLE-BEAUDRY",
          "TUJUNGA",
          "UNIVERSITY PARK",
          "VALLEY GLEN",
          "VAN NUYS",
          "VENICE",
          "VERMONT KNOLLS",
          "VERMONT VISTA",
          "VICTORIA PARK",
          "WATTS",
          "WEST LOS ANGELES",
          "WESTLAKE",
          "WHOLESALE DISTRICT",
          "WILSHIRE CENTER"
         ],
         "xaxis": "x",
         "y": [
          1,
          7,
          1,
          2,
          4,
          1,
          1,
          1,
          1,
          3,
          2,
          2,
          1,
          2,
          1,
          2,
          2,
          1,
          1,
          1,
          1,
          2,
          3,
          3,
          2,
          1,
          4,
          4,
          4,
          1,
          4,
          1,
          1,
          2,
          1,
          3,
          1,
          1,
          1,
          2,
          1,
          9,
          17,
          5
         ],
         "yaxis": "y"
        },
        {
         "alignmentgroup": "True",
         "hovertemplate": "HOUSING TYPE=LARGE FAMILY / WAIVER REQUIRED<br>SITE COMMUNITY=%{x}<br>NAME=%{y}<extra></extra>",
         "legendgroup": "LARGE FAMILY / WAIVER REQUIRED",
         "marker": {
          "color": "#ab63fa"
         },
         "name": "LARGE FAMILY / WAIVER REQUIRED",
         "offsetgroup": "LARGE FAMILY / WAIVER REQUIRED",
         "orientation": "v",
         "showlegend": true,
         "textposition": "auto",
         "type": "bar",
         "x": [
          "CANOGA PARK",
          "CENTURY PALMS/COVE",
          "CHINATOWN",
          "EAST HOLLYWOOD",
          "EXPOSITION PARK",
          "HARVARD HEIGHTS",
          "HISTORIC FILIPINOTOWN",
          "HOLLYWOOD",
          "KOREATOWN",
          "PACOIMA",
          "TEMPLE-BEAUDRY",
          "VALLEY GLEN",
          "VAN NUYS",
          "VERMONT VISTA",
          "WEST ADAMS",
          "WESTLAKE"
         ],
         "xaxis": "x",
         "y": [
          2,
          1,
          1,
          2,
          2,
          3,
          2,
          1,
          1,
          1,
          1,
          1,
          1,
          1,
          2,
          1
         ],
         "yaxis": "y"
        },
        {
         "alignmentgroup": "True",
         "hovertemplate": "HOUSING TYPE=SRO<br>SITE COMMUNITY=%{x}<br>NAME=%{y}<extra></extra>",
         "legendgroup": "SRO",
         "marker": {
          "color": "#FFA15A"
         },
         "name": "SRO",
         "offsetgroup": "SRO",
         "orientation": "v",
         "showlegend": true,
         "textposition": "auto",
         "type": "bar",
         "x": [
          "CENTRAL"
         ],
         "xaxis": "x",
         "y": [
          1
         ],
         "yaxis": "y"
        },
        {
         "alignmentgroup": "True",
         "hovertemplate": "HOUSING TYPE=AT-RISK<br>SITE COMMUNITY=%{x}<br>NAME=%{y}<extra></extra>",
         "legendgroup": "AT-RISK",
         "marker": {
          "color": "#19d3f3"
         },
         "name": "AT-RISK",
         "offsetgroup": "AT-RISK",
         "orientation": "v",
         "showlegend": true,
         "textposition": "auto",
         "type": "bar",
         "x": [
          "DOWNTOWN",
          "UNIVERSITY PARK"
         ],
         "xaxis": "x",
         "y": [
          1,
          1
         ],
         "yaxis": "y"
        }
       ],
       "layout": {
        "barmode": "relative",
        "legend": {
         "title": {
          "text": "HOUSING TYPE"
         },
         "tracegroupgap": 0
        },
        "template": {
         "data": {
          "bar": [
           {
            "error_x": {
             "color": "#2a3f5f"
            },
            "error_y": {
             "color": "#2a3f5f"
            },
            "marker": {
             "line": {
              "color": "#E5ECF6",
              "width": 0.5
             }
            },
            "type": "bar"
           }
          ],
          "barpolar": [
           {
            "marker": {
             "line": {
              "color": "#E5ECF6",
              "width": 0.5
             }
            },
            "type": "barpolar"
           }
          ],
          "carpet": [
           {
            "aaxis": {
             "endlinecolor": "#2a3f5f",
             "gridcolor": "white",
             "linecolor": "white",
             "minorgridcolor": "white",
             "startlinecolor": "#2a3f5f"
            },
            "baxis": {
             "endlinecolor": "#2a3f5f",
             "gridcolor": "white",
             "linecolor": "white",
             "minorgridcolor": "white",
             "startlinecolor": "#2a3f5f"
            },
            "type": "carpet"
           }
          ],
          "choropleth": [
           {
            "colorbar": {
             "outlinewidth": 0,
             "ticks": ""
            },
            "type": "choropleth"
           }
          ],
          "contour": [
           {
            "colorbar": {
             "outlinewidth": 0,
             "ticks": ""
            },
            "colorscale": [
             [
              0,
              "#0d0887"
             ],
             [
              0.1111111111111111,
              "#46039f"
             ],
             [
              0.2222222222222222,
              "#7201a8"
             ],
             [
              0.3333333333333333,
              "#9c179e"
             ],
             [
              0.4444444444444444,
              "#bd3786"
             ],
             [
              0.5555555555555556,
              "#d8576b"
             ],
             [
              0.6666666666666666,
              "#ed7953"
             ],
             [
              0.7777777777777778,
              "#fb9f3a"
             ],
             [
              0.8888888888888888,
              "#fdca26"
             ],
             [
              1,
              "#f0f921"
             ]
            ],
            "type": "contour"
           }
          ],
          "contourcarpet": [
           {
            "colorbar": {
             "outlinewidth": 0,
             "ticks": ""
            },
            "type": "contourcarpet"
           }
          ],
          "heatmap": [
           {
            "colorbar": {
             "outlinewidth": 0,
             "ticks": ""
            },
            "colorscale": [
             [
              0,
              "#0d0887"
             ],
             [
              0.1111111111111111,
              "#46039f"
             ],
             [
              0.2222222222222222,
              "#7201a8"
             ],
             [
              0.3333333333333333,
              "#9c179e"
             ],
             [
              0.4444444444444444,
              "#bd3786"
             ],
             [
              0.5555555555555556,
              "#d8576b"
             ],
             [
              0.6666666666666666,
              "#ed7953"
             ],
             [
              0.7777777777777778,
              "#fb9f3a"
             ],
             [
              0.8888888888888888,
              "#fdca26"
             ],
             [
              1,
              "#f0f921"
             ]
            ],
            "type": "heatmap"
           }
          ],
          "heatmapgl": [
           {
            "colorbar": {
             "outlinewidth": 0,
             "ticks": ""
            },
            "colorscale": [
             [
              0,
              "#0d0887"
             ],
             [
              0.1111111111111111,
              "#46039f"
             ],
             [
              0.2222222222222222,
              "#7201a8"
             ],
             [
              0.3333333333333333,
              "#9c179e"
             ],
             [
              0.4444444444444444,
              "#bd3786"
             ],
             [
              0.5555555555555556,
              "#d8576b"
             ],
             [
              0.6666666666666666,
              "#ed7953"
             ],
             [
              0.7777777777777778,
              "#fb9f3a"
             ],
             [
              0.8888888888888888,
              "#fdca26"
             ],
             [
              1,
              "#f0f921"
             ]
            ],
            "type": "heatmapgl"
           }
          ],
          "histogram": [
           {
            "marker": {
             "colorbar": {
              "outlinewidth": 0,
              "ticks": ""
             }
            },
            "type": "histogram"
           }
          ],
          "histogram2d": [
           {
            "colorbar": {
             "outlinewidth": 0,
             "ticks": ""
            },
            "colorscale": [
             [
              0,
              "#0d0887"
             ],
             [
              0.1111111111111111,
              "#46039f"
             ],
             [
              0.2222222222222222,
              "#7201a8"
             ],
             [
              0.3333333333333333,
              "#9c179e"
             ],
             [
              0.4444444444444444,
              "#bd3786"
             ],
             [
              0.5555555555555556,
              "#d8576b"
             ],
             [
              0.6666666666666666,
              "#ed7953"
             ],
             [
              0.7777777777777778,
              "#fb9f3a"
             ],
             [
              0.8888888888888888,
              "#fdca26"
             ],
             [
              1,
              "#f0f921"
             ]
            ],
            "type": "histogram2d"
           }
          ],
          "histogram2dcontour": [
           {
            "colorbar": {
             "outlinewidth": 0,
             "ticks": ""
            },
            "colorscale": [
             [
              0,
              "#0d0887"
             ],
             [
              0.1111111111111111,
              "#46039f"
             ],
             [
              0.2222222222222222,
              "#7201a8"
             ],
             [
              0.3333333333333333,
              "#9c179e"
             ],
             [
              0.4444444444444444,
              "#bd3786"
             ],
             [
              0.5555555555555556,
              "#d8576b"
             ],
             [
              0.6666666666666666,
              "#ed7953"
             ],
             [
              0.7777777777777778,
              "#fb9f3a"
             ],
             [
              0.8888888888888888,
              "#fdca26"
             ],
             [
              1,
              "#f0f921"
             ]
            ],
            "type": "histogram2dcontour"
           }
          ],
          "mesh3d": [
           {
            "colorbar": {
             "outlinewidth": 0,
             "ticks": ""
            },
            "type": "mesh3d"
           }
          ],
          "parcoords": [
           {
            "line": {
             "colorbar": {
              "outlinewidth": 0,
              "ticks": ""
             }
            },
            "type": "parcoords"
           }
          ],
          "pie": [
           {
            "automargin": true,
            "type": "pie"
           }
          ],
          "scatter": [
           {
            "marker": {
             "colorbar": {
              "outlinewidth": 0,
              "ticks": ""
             }
            },
            "type": "scatter"
           }
          ],
          "scatter3d": [
           {
            "line": {
             "colorbar": {
              "outlinewidth": 0,
              "ticks": ""
             }
            },
            "marker": {
             "colorbar": {
              "outlinewidth": 0,
              "ticks": ""
             }
            },
            "type": "scatter3d"
           }
          ],
          "scattercarpet": [
           {
            "marker": {
             "colorbar": {
              "outlinewidth": 0,
              "ticks": ""
             }
            },
            "type": "scattercarpet"
           }
          ],
          "scattergeo": [
           {
            "marker": {
             "colorbar": {
              "outlinewidth": 0,
              "ticks": ""
             }
            },
            "type": "scattergeo"
           }
          ],
          "scattergl": [
           {
            "marker": {
             "colorbar": {
              "outlinewidth": 0,
              "ticks": ""
             }
            },
            "type": "scattergl"
           }
          ],
          "scattermapbox": [
           {
            "marker": {
             "colorbar": {
              "outlinewidth": 0,
              "ticks": ""
             }
            },
            "type": "scattermapbox"
           }
          ],
          "scatterpolar": [
           {
            "marker": {
             "colorbar": {
              "outlinewidth": 0,
              "ticks": ""
             }
            },
            "type": "scatterpolar"
           }
          ],
          "scatterpolargl": [
           {
            "marker": {
             "colorbar": {
              "outlinewidth": 0,
              "ticks": ""
             }
            },
            "type": "scatterpolargl"
           }
          ],
          "scatterternary": [
           {
            "marker": {
             "colorbar": {
              "outlinewidth": 0,
              "ticks": ""
             }
            },
            "type": "scatterternary"
           }
          ],
          "surface": [
           {
            "colorbar": {
             "outlinewidth": 0,
             "ticks": ""
            },
            "colorscale": [
             [
              0,
              "#0d0887"
             ],
             [
              0.1111111111111111,
              "#46039f"
             ],
             [
              0.2222222222222222,
              "#7201a8"
             ],
             [
              0.3333333333333333,
              "#9c179e"
             ],
             [
              0.4444444444444444,
              "#bd3786"
             ],
             [
              0.5555555555555556,
              "#d8576b"
             ],
             [
              0.6666666666666666,
              "#ed7953"
             ],
             [
              0.7777777777777778,
              "#fb9f3a"
             ],
             [
              0.8888888888888888,
              "#fdca26"
             ],
             [
              1,
              "#f0f921"
             ]
            ],
            "type": "surface"
           }
          ],
          "table": [
           {
            "cells": {
             "fill": {
              "color": "#EBF0F8"
             },
             "line": {
              "color": "white"
             }
            },
            "header": {
             "fill": {
              "color": "#C8D4E3"
             },
             "line": {
              "color": "white"
             }
            },
            "type": "table"
           }
          ]
         },
         "layout": {
          "annotationdefaults": {
           "arrowcolor": "#2a3f5f",
           "arrowhead": 0,
           "arrowwidth": 1
          },
          "coloraxis": {
           "colorbar": {
            "outlinewidth": 0,
            "ticks": ""
           }
          },
          "colorscale": {
           "diverging": [
            [
             0,
             "#8e0152"
            ],
            [
             0.1,
             "#c51b7d"
            ],
            [
             0.2,
             "#de77ae"
            ],
            [
             0.3,
             "#f1b6da"
            ],
            [
             0.4,
             "#fde0ef"
            ],
            [
             0.5,
             "#f7f7f7"
            ],
            [
             0.6,
             "#e6f5d0"
            ],
            [
             0.7,
             "#b8e186"
            ],
            [
             0.8,
             "#7fbc41"
            ],
            [
             0.9,
             "#4d9221"
            ],
            [
             1,
             "#276419"
            ]
           ],
           "sequential": [
            [
             0,
             "#0d0887"
            ],
            [
             0.1111111111111111,
             "#46039f"
            ],
            [
             0.2222222222222222,
             "#7201a8"
            ],
            [
             0.3333333333333333,
             "#9c179e"
            ],
            [
             0.4444444444444444,
             "#bd3786"
            ],
            [
             0.5555555555555556,
             "#d8576b"
            ],
            [
             0.6666666666666666,
             "#ed7953"
            ],
            [
             0.7777777777777778,
             "#fb9f3a"
            ],
            [
             0.8888888888888888,
             "#fdca26"
            ],
            [
             1,
             "#f0f921"
            ]
           ],
           "sequentialminus": [
            [
             0,
             "#0d0887"
            ],
            [
             0.1111111111111111,
             "#46039f"
            ],
            [
             0.2222222222222222,
             "#7201a8"
            ],
            [
             0.3333333333333333,
             "#9c179e"
            ],
            [
             0.4444444444444444,
             "#bd3786"
            ],
            [
             0.5555555555555556,
             "#d8576b"
            ],
            [
             0.6666666666666666,
             "#ed7953"
            ],
            [
             0.7777777777777778,
             "#fb9f3a"
            ],
            [
             0.8888888888888888,
             "#fdca26"
            ],
            [
             1,
             "#f0f921"
            ]
           ]
          },
          "colorway": [
           "#636efa",
           "#EF553B",
           "#00cc96",
           "#ab63fa",
           "#FFA15A",
           "#19d3f3",
           "#FF6692",
           "#B6E880",
           "#FF97FF",
           "#FECB52"
          ],
          "font": {
           "color": "#2a3f5f"
          },
          "geo": {
           "bgcolor": "white",
           "lakecolor": "white",
           "landcolor": "#E5ECF6",
           "showlakes": true,
           "showland": true,
           "subunitcolor": "white"
          },
          "hoverlabel": {
           "align": "left"
          },
          "hovermode": "closest",
          "mapbox": {
           "style": "light"
          },
          "paper_bgcolor": "white",
          "plot_bgcolor": "#E5ECF6",
          "polar": {
           "angularaxis": {
            "gridcolor": "white",
            "linecolor": "white",
            "ticks": ""
           },
           "bgcolor": "#E5ECF6",
           "radialaxis": {
            "gridcolor": "white",
            "linecolor": "white",
            "ticks": ""
           }
          },
          "scene": {
           "xaxis": {
            "backgroundcolor": "#E5ECF6",
            "gridcolor": "white",
            "gridwidth": 2,
            "linecolor": "white",
            "showbackground": true,
            "ticks": "",
            "zerolinecolor": "white"
           },
           "yaxis": {
            "backgroundcolor": "#E5ECF6",
            "gridcolor": "white",
            "gridwidth": 2,
            "linecolor": "white",
            "showbackground": true,
            "ticks": "",
            "zerolinecolor": "white"
           },
           "zaxis": {
            "backgroundcolor": "#E5ECF6",
            "gridcolor": "white",
            "gridwidth": 2,
            "linecolor": "white",
            "showbackground": true,
            "ticks": "",
            "zerolinecolor": "white"
           }
          },
          "shapedefaults": {
           "line": {
            "color": "#2a3f5f"
           }
          },
          "ternary": {
           "aaxis": {
            "gridcolor": "white",
            "linecolor": "white",
            "ticks": ""
           },
           "baxis": {
            "gridcolor": "white",
            "linecolor": "white",
            "ticks": ""
           },
           "bgcolor": "#E5ECF6",
           "caxis": {
            "gridcolor": "white",
            "linecolor": "white",
            "ticks": ""
           }
          },
          "title": {
           "x": 0.05
          },
          "xaxis": {
           "automargin": true,
           "gridcolor": "white",
           "linecolor": "white",
           "ticks": "",
           "title": {
            "standoff": 15
           },
           "zerolinecolor": "white",
           "zerolinewidth": 2
          },
          "yaxis": {
           "automargin": true,
           "gridcolor": "white",
           "linecolor": "white",
           "ticks": "",
           "title": {
            "standoff": 15
           },
           "zerolinecolor": "white",
           "zerolinewidth": 2
          }
         }
        },
        "title": {
         "text": "HCIDLA Affordable Housing Projects by Housing Type"
        },
        "xaxis": {
         "anchor": "y",
         "domain": [
          0,
          1
         ],
         "title": {
          "text": "SITE COMMUNITY"
         }
        },
        "yaxis": {
         "anchor": "x",
         "domain": [
          0,
          1
         ],
         "title": {
          "text": "NAME"
         }
        }
       }
      },
      "text/html": [
       "<div>                            <div id=\"776b365f-8a56-4f45-bf3b-a4a856673a1b\" class=\"plotly-graph-div\" style=\"height:525px; width:100%;\"></div>            <script type=\"text/javascript\">                require([\"plotly\"], function(Plotly) {                    window.PLOTLYENV=window.PLOTLYENV || {};                                    if (document.getElementById(\"776b365f-8a56-4f45-bf3b-a4a856673a1b\")) {                    Plotly.newPlot(                        \"776b365f-8a56-4f45-bf3b-a4a856673a1b\",                        [{\"alignmentgroup\": \"True\", \"hovertemplate\": \"HOUSING TYPE=FAMILY<br>SITE COMMUNITY=%{x}<br>NAME=%{y}<extra></extra>\", \"legendgroup\": \"FAMILY\", \"marker\": {\"color\": \"#636efa\"}, \"name\": \"FAMILY\", \"offsetgroup\": \"FAMILY\", \"orientation\": \"v\", \"showlegend\": true, \"textposition\": \"auto\", \"type\": \"bar\", \"x\": [\"ADAMS-NORMANDIE\", \"ALSACE\", \"ANGELINO HEIGHTS\", \"ATWATER VILLAGE\", \"BOYLE HEIGHTS\", \"CENTRAL\", \"CENTURY PALMS/COVE\", \"CHINATOWN\", \"COUNTRY CLUB PARK\", \"CRENSHAW DISTRICT\", \"DOWNTOWN\", \"EAST HOLLYWOOD\", \"ECHO PARK\", \"EL SERENO\", \"ELYSIAN VALLEY\", \"EXPOSITION PARK\", \"FIGUEROA PARK SQUARE\", \"FLORENCE-FIRESTONE\", \"GLASSELL PARK\", \"GREEN MEADOWS\", \"HARBOR CITY\", \"HARBOR GATEWAY\", \"HARVARD HEIGHTS\", \"HARVARD PARK\", \"HIGHLAND PARK\", \"HISTORIC FILIPINOTOWN\", \"HOLLYWOOD\", \"HOLLYWOOD HILLS\", \"JEFFERSON PARK\", \"KOREATOWN\", \"LAKEVIEW TERRACE\", \"LINCOLN HEIGHTS\", \"LOS FELIZ\", \"MAR VISTA\", \"MELROSE\", \"MT. WASHINGTON\", \"NORTH HILLS\", \"NORTH HOLLYWOOD\", \"PACOIMA\", \"PANORAMA CITY\", \"PICO-UNION\", \"RESEDA\", \"SAN PEDRO\", \"SHERMAN OAKS\", \"SILVERLAKE\", \"SOUTH PARK\", \"ST ELMO VILLAGE\", \"SUN VALLEY\", \"SYLMAR\", \"TEMPLE-BEAUDRY\", \"THAI TOWN\", \"UNIVERSITY PARK\", \"VALLEY GLEN\", \"VAN NUYS\", \"VERMONT KNOLLS\", \"VERMONT SQUARE\", \"VERMONT VISTA\", \"VERNON CENTRAL\", \"VICTORIA PARK\", \"WATTS\", \"WEST ADAMS\", \"WEST VERNON\", \"WESTLAKE\", \"WHOLESALE DISTRICT\", \"WILMINGTON\", \"WILSHIRE CENTER\"], \"xaxis\": \"x\", \"y\": [1, 1, 1, 5, 5, 8, 6, 1, 1, 4, 2, 4, 1, 1, 1, 9, 1, 5, 1, 2, 1, 5, 3, 2, 1, 1, 5, 1, 1, 7, 1, 6, 1, 1, 5, 1, 3, 2, 1, 2, 10, 4, 1, 1, 1, 4, 1, 2, 5, 8, 5, 10, 2, 2, 1, 1, 6, 5, 1, 9, 7, 8, 19, 6, 3, 3], \"yaxis\": \"y\"}, {\"alignmentgroup\": \"True\", \"hovertemplate\": \"HOUSING TYPE=SENIORS<br>SITE COMMUNITY=%{x}<br>NAME=%{y}<extra></extra>\", \"legendgroup\": \"SENIORS\", \"marker\": {\"color\": \"#EF553B\"}, \"name\": \"SENIORS\", \"offsetgroup\": \"SENIORS\", \"orientation\": \"v\", \"showlegend\": true, \"textposition\": \"auto\", \"type\": \"bar\", \"x\": [\"ADAMS-NORMANDIE\", \"ATWATER VILLAGE\", \"BALDWIN HILLS\", \"BOYLE HEIGHTS\", \"CANOGA PARK\", \"CENTRAL\", \"CHATSWORTH\", \"CHINATOWN\", \"COUNTRY CLUB PARK\", \"CRENSHAW DISTRICT\", \"CRESTVIEW\", \"DEL REY\", \"EXPOSITION PARK\", \"GLASSELL PARK\", \"HANCOCK PARK\", \"HIGHLAND PARK\", \"HOLLYWOOD\", \"HYDE PARK\", \"KOREATOWN\", \"LINCOLN HEIGHTS\", \"MELROSE\", \"NORTH HILLS\", \"NORTH HOLLYWOOD\", \"PANORAMA CITY\", \"PICO-UNION\", \"RANCHO PARK\", \"RESEDA\", \"SAN PEDRO\", \"SILVERLAKE\", \"SOUTH PARK\", \"SUN VALLEY\", \"SUNLAND\", \"TEMPLE-BEAUDRY\", \"UNIVERSITY PARK\", \"VAN NUYS\", \"VERMONT KNOLLS\", \"VERMONT VISTA\", \"VERNON CENTRAL\", \"VICTORIA PARK\", \"WELLINGTON SQUARE\", \"WEST VERNON\", \"WESTLAKE\", \"WILMINGTON\"], \"xaxis\": \"x\", \"y\": [1, 1, 2, 3, 1, 3, 1, 1, 1, 1, 1, 1, 1, 1, 1, 1, 9, 2, 3, 1, 6, 3, 2, 6, 3, 1, 1, 1, 1, 1, 1, 1, 1, 2, 3, 1, 3, 2, 1, 1, 3, 4, 2], \"yaxis\": \"y\"}, {\"alignmentgroup\": \"True\", \"hovertemplate\": \"HOUSING TYPE=SPECIAL NEEDS<br>SITE COMMUNITY=%{x}<br>NAME=%{y}<extra></extra>\", \"legendgroup\": \"SPECIAL NEEDS\", \"marker\": {\"color\": \"#00cc96\"}, \"name\": \"SPECIAL NEEDS\", \"offsetgroup\": \"SPECIAL NEEDS\", \"orientation\": \"v\", \"showlegend\": true, \"textposition\": \"auto\", \"type\": \"bar\", \"x\": [\"BOYLE HEIGHTS\", \"CENTRAL\", \"CENTURY PALMS/COVE\", \"DEL REY\", \"DOWNTOWN\", \"EAGLE ROCK\", \"ECHO PARK\", \"EL SERENO\", \"EXPOSITION\", \"EXPOSITION PARK\", \"FLORENCE-FIRESTONE\", \"GLASSELL PARK\", \"HARBOR CITY\", \"HARBOR GATEWAY\", \"HARVARD HEIGHTS\", \"HISTORIC FILIPINOTOWN\", \"HOLLYWOOD\", \"HYDE PARK\", \"KOREATOWN\", \"LAKEVIEW TERRACE\", \"LINCOLN HEIGHTS\", \"LITTLE TOKYO\", \"MELROSE\", \"NORTH HILLS\", \"PACOIMA\", \"PICO-UNION\", \"SILVERLAKE\", \"SOUTH PARK\", \"SUN VALLEY\", \"SYLMAR\", \"TEMPLE-BEAUDRY\", \"TUJUNGA\", \"UNIVERSITY PARK\", \"VALLEY GLEN\", \"VAN NUYS\", \"VENICE\", \"VERMONT KNOLLS\", \"VERMONT VISTA\", \"VICTORIA PARK\", \"WATTS\", \"WEST LOS ANGELES\", \"WESTLAKE\", \"WHOLESALE DISTRICT\", \"WILSHIRE CENTER\"], \"xaxis\": \"x\", \"y\": [1, 7, 1, 2, 4, 1, 1, 1, 1, 3, 2, 2, 1, 2, 1, 2, 2, 1, 1, 1, 1, 2, 3, 3, 2, 1, 4, 4, 4, 1, 4, 1, 1, 2, 1, 3, 1, 1, 1, 2, 1, 9, 17, 5], \"yaxis\": \"y\"}, {\"alignmentgroup\": \"True\", \"hovertemplate\": \"HOUSING TYPE=LARGE FAMILY / WAIVER REQUIRED<br>SITE COMMUNITY=%{x}<br>NAME=%{y}<extra></extra>\", \"legendgroup\": \"LARGE FAMILY / WAIVER REQUIRED\", \"marker\": {\"color\": \"#ab63fa\"}, \"name\": \"LARGE FAMILY / WAIVER REQUIRED\", \"offsetgroup\": \"LARGE FAMILY / WAIVER REQUIRED\", \"orientation\": \"v\", \"showlegend\": true, \"textposition\": \"auto\", \"type\": \"bar\", \"x\": [\"CANOGA PARK\", \"CENTURY PALMS/COVE\", \"CHINATOWN\", \"EAST HOLLYWOOD\", \"EXPOSITION PARK\", \"HARVARD HEIGHTS\", \"HISTORIC FILIPINOTOWN\", \"HOLLYWOOD\", \"KOREATOWN\", \"PACOIMA\", \"TEMPLE-BEAUDRY\", \"VALLEY GLEN\", \"VAN NUYS\", \"VERMONT VISTA\", \"WEST ADAMS\", \"WESTLAKE\"], \"xaxis\": \"x\", \"y\": [2, 1, 1, 2, 2, 3, 2, 1, 1, 1, 1, 1, 1, 1, 2, 1], \"yaxis\": \"y\"}, {\"alignmentgroup\": \"True\", \"hovertemplate\": \"HOUSING TYPE=SRO<br>SITE COMMUNITY=%{x}<br>NAME=%{y}<extra></extra>\", \"legendgroup\": \"SRO\", \"marker\": {\"color\": \"#FFA15A\"}, \"name\": \"SRO\", \"offsetgroup\": \"SRO\", \"orientation\": \"v\", \"showlegend\": true, \"textposition\": \"auto\", \"type\": \"bar\", \"x\": [\"CENTRAL\"], \"xaxis\": \"x\", \"y\": [1], \"yaxis\": \"y\"}, {\"alignmentgroup\": \"True\", \"hovertemplate\": \"HOUSING TYPE=AT-RISK<br>SITE COMMUNITY=%{x}<br>NAME=%{y}<extra></extra>\", \"legendgroup\": \"AT-RISK\", \"marker\": {\"color\": \"#19d3f3\"}, \"name\": \"AT-RISK\", \"offsetgroup\": \"AT-RISK\", \"orientation\": \"v\", \"showlegend\": true, \"textposition\": \"auto\", \"type\": \"bar\", \"x\": [\"DOWNTOWN\", \"UNIVERSITY PARK\"], \"xaxis\": \"x\", \"y\": [1, 1], \"yaxis\": \"y\"}],                        {\"barmode\": \"relative\", \"legend\": {\"title\": {\"text\": \"HOUSING TYPE\"}, \"tracegroupgap\": 0}, \"template\": {\"data\": {\"bar\": [{\"error_x\": {\"color\": \"#2a3f5f\"}, \"error_y\": {\"color\": \"#2a3f5f\"}, \"marker\": {\"line\": {\"color\": \"#E5ECF6\", \"width\": 0.5}}, \"type\": \"bar\"}], \"barpolar\": [{\"marker\": {\"line\": {\"color\": \"#E5ECF6\", \"width\": 0.5}}, \"type\": \"barpolar\"}], \"carpet\": [{\"aaxis\": {\"endlinecolor\": \"#2a3f5f\", \"gridcolor\": \"white\", \"linecolor\": \"white\", \"minorgridcolor\": \"white\", \"startlinecolor\": \"#2a3f5f\"}, \"baxis\": {\"endlinecolor\": \"#2a3f5f\", \"gridcolor\": \"white\", \"linecolor\": \"white\", \"minorgridcolor\": \"white\", \"startlinecolor\": \"#2a3f5f\"}, \"type\": \"carpet\"}], \"choropleth\": [{\"colorbar\": {\"outlinewidth\": 0, \"ticks\": \"\"}, \"type\": \"choropleth\"}], \"contour\": [{\"colorbar\": {\"outlinewidth\": 0, \"ticks\": \"\"}, \"colorscale\": [[0.0, \"#0d0887\"], [0.1111111111111111, \"#46039f\"], [0.2222222222222222, \"#7201a8\"], [0.3333333333333333, \"#9c179e\"], [0.4444444444444444, \"#bd3786\"], [0.5555555555555556, \"#d8576b\"], [0.6666666666666666, \"#ed7953\"], [0.7777777777777778, \"#fb9f3a\"], [0.8888888888888888, \"#fdca26\"], [1.0, \"#f0f921\"]], \"type\": \"contour\"}], \"contourcarpet\": [{\"colorbar\": {\"outlinewidth\": 0, \"ticks\": \"\"}, \"type\": \"contourcarpet\"}], \"heatmap\": [{\"colorbar\": {\"outlinewidth\": 0, \"ticks\": \"\"}, \"colorscale\": [[0.0, \"#0d0887\"], [0.1111111111111111, \"#46039f\"], [0.2222222222222222, \"#7201a8\"], [0.3333333333333333, \"#9c179e\"], [0.4444444444444444, \"#bd3786\"], [0.5555555555555556, \"#d8576b\"], [0.6666666666666666, \"#ed7953\"], [0.7777777777777778, \"#fb9f3a\"], [0.8888888888888888, \"#fdca26\"], [1.0, \"#f0f921\"]], \"type\": \"heatmap\"}], \"heatmapgl\": [{\"colorbar\": {\"outlinewidth\": 0, \"ticks\": \"\"}, \"colorscale\": [[0.0, \"#0d0887\"], [0.1111111111111111, \"#46039f\"], [0.2222222222222222, \"#7201a8\"], [0.3333333333333333, \"#9c179e\"], [0.4444444444444444, \"#bd3786\"], [0.5555555555555556, \"#d8576b\"], [0.6666666666666666, \"#ed7953\"], [0.7777777777777778, \"#fb9f3a\"], [0.8888888888888888, \"#fdca26\"], [1.0, \"#f0f921\"]], \"type\": \"heatmapgl\"}], \"histogram\": [{\"marker\": {\"colorbar\": {\"outlinewidth\": 0, \"ticks\": \"\"}}, \"type\": \"histogram\"}], \"histogram2d\": [{\"colorbar\": {\"outlinewidth\": 0, \"ticks\": \"\"}, \"colorscale\": [[0.0, \"#0d0887\"], [0.1111111111111111, \"#46039f\"], [0.2222222222222222, \"#7201a8\"], [0.3333333333333333, \"#9c179e\"], [0.4444444444444444, \"#bd3786\"], [0.5555555555555556, \"#d8576b\"], [0.6666666666666666, \"#ed7953\"], [0.7777777777777778, \"#fb9f3a\"], [0.8888888888888888, \"#fdca26\"], [1.0, \"#f0f921\"]], \"type\": \"histogram2d\"}], \"histogram2dcontour\": [{\"colorbar\": {\"outlinewidth\": 0, \"ticks\": \"\"}, \"colorscale\": [[0.0, \"#0d0887\"], [0.1111111111111111, \"#46039f\"], [0.2222222222222222, \"#7201a8\"], [0.3333333333333333, \"#9c179e\"], [0.4444444444444444, \"#bd3786\"], [0.5555555555555556, \"#d8576b\"], [0.6666666666666666, \"#ed7953\"], [0.7777777777777778, \"#fb9f3a\"], [0.8888888888888888, \"#fdca26\"], [1.0, \"#f0f921\"]], \"type\": \"histogram2dcontour\"}], \"mesh3d\": [{\"colorbar\": {\"outlinewidth\": 0, \"ticks\": \"\"}, \"type\": \"mesh3d\"}], \"parcoords\": [{\"line\": {\"colorbar\": {\"outlinewidth\": 0, \"ticks\": \"\"}}, \"type\": \"parcoords\"}], \"pie\": [{\"automargin\": true, \"type\": \"pie\"}], \"scatter\": [{\"marker\": {\"colorbar\": {\"outlinewidth\": 0, \"ticks\": \"\"}}, \"type\": \"scatter\"}], \"scatter3d\": [{\"line\": {\"colorbar\": {\"outlinewidth\": 0, \"ticks\": \"\"}}, \"marker\": {\"colorbar\": {\"outlinewidth\": 0, \"ticks\": \"\"}}, \"type\": \"scatter3d\"}], \"scattercarpet\": [{\"marker\": {\"colorbar\": {\"outlinewidth\": 0, \"ticks\": \"\"}}, \"type\": \"scattercarpet\"}], \"scattergeo\": [{\"marker\": {\"colorbar\": {\"outlinewidth\": 0, \"ticks\": \"\"}}, \"type\": \"scattergeo\"}], \"scattergl\": [{\"marker\": {\"colorbar\": {\"outlinewidth\": 0, \"ticks\": \"\"}}, \"type\": \"scattergl\"}], \"scattermapbox\": [{\"marker\": {\"colorbar\": {\"outlinewidth\": 0, \"ticks\": \"\"}}, \"type\": \"scattermapbox\"}], \"scatterpolar\": [{\"marker\": {\"colorbar\": {\"outlinewidth\": 0, \"ticks\": \"\"}}, \"type\": \"scatterpolar\"}], \"scatterpolargl\": [{\"marker\": {\"colorbar\": {\"outlinewidth\": 0, \"ticks\": \"\"}}, \"type\": \"scatterpolargl\"}], \"scatterternary\": [{\"marker\": {\"colorbar\": {\"outlinewidth\": 0, \"ticks\": \"\"}}, \"type\": \"scatterternary\"}], \"surface\": [{\"colorbar\": {\"outlinewidth\": 0, \"ticks\": \"\"}, \"colorscale\": [[0.0, \"#0d0887\"], [0.1111111111111111, \"#46039f\"], [0.2222222222222222, \"#7201a8\"], [0.3333333333333333, \"#9c179e\"], [0.4444444444444444, \"#bd3786\"], [0.5555555555555556, \"#d8576b\"], [0.6666666666666666, \"#ed7953\"], [0.7777777777777778, \"#fb9f3a\"], [0.8888888888888888, \"#fdca26\"], [1.0, \"#f0f921\"]], \"type\": \"surface\"}], \"table\": [{\"cells\": {\"fill\": {\"color\": \"#EBF0F8\"}, \"line\": {\"color\": \"white\"}}, \"header\": {\"fill\": {\"color\": \"#C8D4E3\"}, \"line\": {\"color\": \"white\"}}, \"type\": \"table\"}]}, \"layout\": {\"annotationdefaults\": {\"arrowcolor\": \"#2a3f5f\", \"arrowhead\": 0, \"arrowwidth\": 1}, \"coloraxis\": {\"colorbar\": {\"outlinewidth\": 0, \"ticks\": \"\"}}, \"colorscale\": {\"diverging\": [[0, \"#8e0152\"], [0.1, \"#c51b7d\"], [0.2, \"#de77ae\"], [0.3, \"#f1b6da\"], [0.4, \"#fde0ef\"], [0.5, \"#f7f7f7\"], [0.6, \"#e6f5d0\"], [0.7, \"#b8e186\"], [0.8, \"#7fbc41\"], [0.9, \"#4d9221\"], [1, \"#276419\"]], \"sequential\": [[0.0, \"#0d0887\"], [0.1111111111111111, \"#46039f\"], [0.2222222222222222, \"#7201a8\"], [0.3333333333333333, \"#9c179e\"], [0.4444444444444444, \"#bd3786\"], [0.5555555555555556, \"#d8576b\"], [0.6666666666666666, \"#ed7953\"], [0.7777777777777778, \"#fb9f3a\"], [0.8888888888888888, \"#fdca26\"], [1.0, \"#f0f921\"]], \"sequentialminus\": [[0.0, \"#0d0887\"], [0.1111111111111111, \"#46039f\"], [0.2222222222222222, \"#7201a8\"], [0.3333333333333333, \"#9c179e\"], [0.4444444444444444, \"#bd3786\"], [0.5555555555555556, \"#d8576b\"], [0.6666666666666666, \"#ed7953\"], [0.7777777777777778, \"#fb9f3a\"], [0.8888888888888888, \"#fdca26\"], [1.0, \"#f0f921\"]]}, \"colorway\": [\"#636efa\", \"#EF553B\", \"#00cc96\", \"#ab63fa\", \"#FFA15A\", \"#19d3f3\", \"#FF6692\", \"#B6E880\", \"#FF97FF\", \"#FECB52\"], \"font\": {\"color\": \"#2a3f5f\"}, \"geo\": {\"bgcolor\": \"white\", \"lakecolor\": \"white\", \"landcolor\": \"#E5ECF6\", \"showlakes\": true, \"showland\": true, \"subunitcolor\": \"white\"}, \"hoverlabel\": {\"align\": \"left\"}, \"hovermode\": \"closest\", \"mapbox\": {\"style\": \"light\"}, \"paper_bgcolor\": \"white\", \"plot_bgcolor\": \"#E5ECF6\", \"polar\": {\"angularaxis\": {\"gridcolor\": \"white\", \"linecolor\": \"white\", \"ticks\": \"\"}, \"bgcolor\": \"#E5ECF6\", \"radialaxis\": {\"gridcolor\": \"white\", \"linecolor\": \"white\", \"ticks\": \"\"}}, \"scene\": {\"xaxis\": {\"backgroundcolor\": \"#E5ECF6\", \"gridcolor\": \"white\", \"gridwidth\": 2, \"linecolor\": \"white\", \"showbackground\": true, \"ticks\": \"\", \"zerolinecolor\": \"white\"}, \"yaxis\": {\"backgroundcolor\": \"#E5ECF6\", \"gridcolor\": \"white\", \"gridwidth\": 2, \"linecolor\": \"white\", \"showbackground\": true, \"ticks\": \"\", \"zerolinecolor\": \"white\"}, \"zaxis\": {\"backgroundcolor\": \"#E5ECF6\", \"gridcolor\": \"white\", \"gridwidth\": 2, \"linecolor\": \"white\", \"showbackground\": true, \"ticks\": \"\", \"zerolinecolor\": \"white\"}}, \"shapedefaults\": {\"line\": {\"color\": \"#2a3f5f\"}}, \"ternary\": {\"aaxis\": {\"gridcolor\": \"white\", \"linecolor\": \"white\", \"ticks\": \"\"}, \"baxis\": {\"gridcolor\": \"white\", \"linecolor\": \"white\", \"ticks\": \"\"}, \"bgcolor\": \"#E5ECF6\", \"caxis\": {\"gridcolor\": \"white\", \"linecolor\": \"white\", \"ticks\": \"\"}}, \"title\": {\"x\": 0.05}, \"xaxis\": {\"automargin\": true, \"gridcolor\": \"white\", \"linecolor\": \"white\", \"ticks\": \"\", \"title\": {\"standoff\": 15}, \"zerolinecolor\": \"white\", \"zerolinewidth\": 2}, \"yaxis\": {\"automargin\": true, \"gridcolor\": \"white\", \"linecolor\": \"white\", \"ticks\": \"\", \"title\": {\"standoff\": 15}, \"zerolinecolor\": \"white\", \"zerolinewidth\": 2}}}, \"title\": {\"text\": \"HCIDLA Affordable Housing Projects by Housing Type\"}, \"xaxis\": {\"anchor\": \"y\", \"domain\": [0.0, 1.0], \"title\": {\"text\": \"SITE COMMUNITY\"}}, \"yaxis\": {\"anchor\": \"x\", \"domain\": [0.0, 1.0], \"title\": {\"text\": \"NAME\"}}},                        {\"responsive\": true}                    ).then(function(){\n",
       "                            \n",
       "var gd = document.getElementById('776b365f-8a56-4f45-bf3b-a4a856673a1b');\n",
       "var x = new MutationObserver(function (mutations, observer) {{\n",
       "        var display = window.getComputedStyle(gd).display;\n",
       "        if (!display || display === 'none') {{\n",
       "            console.log([gd, 'removed!']);\n",
       "            Plotly.purge(gd);\n",
       "            observer.disconnect();\n",
       "        }}\n",
       "}});\n",
       "\n",
       "// Listen for the removal of the full notebook cells\n",
       "var notebookContainer = gd.closest('#notebook-container');\n",
       "if (notebookContainer) {{\n",
       "    x.observe(notebookContainer, {childList: true});\n",
       "}}\n",
       "\n",
       "// Listen for the clearing of the current output cell\n",
       "var outputEl = gd.closest('.output');\n",
       "if (outputEl) {{\n",
       "    x.observe(outputEl, {childList: true});\n",
       "}}\n",
       "\n",
       "                        })                };                });            </script>        </div>"
      ]
     },
     "metadata": {},
     "output_type": "display_data"
    }
   ],
   "source": [
    "# make a bar chart\n",
    "px.bar(hcid_flat,  \n",
    "       x='SITE COMMUNITY',\n",
    "       y='NAME',\n",
    "       color='HOUSING TYPE', # this creates the \"stack\"\n",
    "       title='HCIDLA Affordable Housing Projects by Housing Type'\n",
    "      )"
   ]
  },
  {
   "cell_type": "markdown",
   "metadata": {},
   "source": [
    "It looks like across the board, Family housing is the most common type of affordable housing. So let's just map that piece of the puzzle"
   ]
  },
  {
   "cell_type": "markdown",
   "metadata": {},
   "source": [
    "# Mapping"
   ]
  },
  {
   "cell_type": "code",
   "execution_count": 86,
   "metadata": {
    "scrolled": false
   },
   "outputs": [
    {
     "data": {
      "application/vnd.plotly.v1+json": {
       "config": {
        "plotlyServerURL": "https://plot.ly"
       },
       "data": [
        {
         "customdata": [
          [
           "FAMILY",
           "1145 E 24TH ST CA 90011"
          ],
          [
           "FAMILY",
           "4817 W SATURN ST CA 90019"
          ],
          [
           "FAMILY",
           "14630 W WYANDOTTE ST  VAN NUYS, CA 91405"
          ],
          [
           "FAMILY",
           "839 W ADAMS BLVD 1-18 CA 90007"
          ],
          [
           "FAMILY",
           "111 S AVENUE 63 CA 90042"
          ],
          [
           "FAMILY",
           "3918 S LA SALLE AVE CA 90062"
          ],
          [
           "FAMILY",
           "12831 N SAN FERNANDO ROAD CA 91342"
          ],
          [
           "FAMILY",
           "1040 W 43RD ST CA 90037"
          ],
          [
           "FAMILY",
           "5000 S MAIN ST CA 90037"
          ],
          [
           "FAMILY",
           "2674 W JAMES M. WOOD BLVD CA 90006"
          ],
          [
           "FAMILY",
           "649 N KINGSLEY DR CA 90004"
          ],
          [
           "FAMILY",
           "2521 S JULIET ST CA 90007"
          ],
          [
           "FAMILY",
           "1229 N BRONSON AVE 1-32  HOLLYWOOD, CA 90038"
          ],
          [
           "FAMILY",
           "44 ST JAMES ST  Los Angeles, CA 90007"
          ],
          [
           "FAMILY",
           "2851 E CHAUCER ST  LOS ANGELES, CA 90065"
          ],
          [
           "FAMILY",
           "3881 S DENKER AVE CA 90062"
          ],
          [
           "FAMILY",
           "101 N BOYLE AVE CA 90033"
          ],
          [
           "FAMILY",
           "825 W ADAMS BLVD CA 90007"
          ],
          [
           "FAMILY",
           "137 N SOTO ST 1-20 CA 90033"
          ],
          [
           "FAMILY",
           "4201 S CENTRAL AVE CA 90011"
          ],
          [
           "FAMILY",
           "1141 N WESTMORELAND AVE CA 90029"
          ],
          [
           "FAMILY",
           "5220 N HARMONY AVE CA 91601"
          ],
          [
           "FAMILY",
           "10424 S CENTRAL AVE 1-49 CA 90002"
          ],
          [
           "FAMILY",
           "952 N HARVARD BLVD 1-40  LOS ANGELES, CA 90029"
          ],
          [
           "FAMILY",
           "2210 S LA SALLE AVE CA 90018"
          ],
          [
           "FAMILY",
           "116 S WITMER ST CA 90026"
          ],
          [
           "FAMILY",
           "1315 W 7TH ST CA 90017"
          ],
          [
           "FAMILY",
           "450 S HARTFORD AVE CA 90017"
          ],
          [
           "FAMILY",
           "14045 W OXNARD ST  VAN NUYS, CA 91401"
          ],
          [
           "FAMILY",
           "1310 W 177TH ST CA 90248"
          ],
          [
           "FAMILY",
           "5101 S BROADWAY 1-50 CA 90037"
          ],
          [
           "FAMILY",
           "1515 N SAN FERNANDO ROAD 1-87 CA 90031"
          ],
          [
           "FAMILY",
           "621 W 81ST ST 1-11 CA 90044"
          ],
          [
           "FAMILY",
           "3740 W EVANS ST CA 90027"
          ],
          [
           "FAMILY",
           "4915 S VERMONT AVE 1-49 CA 90037"
          ],
          [
           "FAMILY",
           "501 S BONNIE BRAE ST  Los Angeles, CA 90057"
          ],
          [
           "FAMILY",
           "1320 W SUNSET BLVD 1-33 CA 90026"
          ],
          [
           "FAMILY",
           "2851 E CHAUCER ST  LOS ANGELES, CA 90065"
          ],
          [
           "FAMILY",
           "1350 S BONNIE BRAE ST CA 90006"
          ],
          [
           "FAMILY",
           "204 S LUCAS AVE 1-21 CA 90026"
          ],
          [
           "FAMILY",
           "3215 W PICO BLVD CA 90019"
          ],
          [
           "FAMILY",
           "9247 N VAN NUYS BLVD 1-56 CA 91402"
          ],
          [
           "FAMILY",
           "7219 S SAN PEDRO ST CA 90003"
          ],
          [
           "FAMILY",
           "1020 S KINGSLEY DR CA 90006"
          ],
          [
           "FAMILY",
           "230 W 88TH PL 1-12 CA 90003"
          ],
          [
           "FAMILY",
           "2009 S OAK ST CA 90007"
          ],
          [
           "FAMILY",
           "831 W 70TH ST 1-49 CA 90044"
          ],
          [
           "FAMILY",
           "3035 N SIERRA ST CA 90031"
          ],
          [
           "FAMILY",
           "1311 N SAN FERNANDO RD  Los Angeles, CA 90065"
          ],
          [
           "FAMILY",
           "651 E 108TH ST CA 90059"
          ],
          [
           "FAMILY",
           "1601 N HOBART BLVD CA 90027"
          ],
          [
           "FAMILY",
           "2714 S ORCHARD AVE CA 90007"
          ],
          [
           "FAMILY",
           "801 W 23RD ST CA 90007"
          ],
          [
           "FAMILY",
           "1253 W 39TH ST CA 90037"
          ],
          [
           "FAMILY",
           "1130 S WEST BLVD CA 90019"
          ],
          [
           "FAMILY",
           "5217 W MARATHON ST CA 90038"
          ],
          [
           "FAMILY",
           "1553 N GORDON ST  HOLLYWOOD, CA 90028"
          ],
          [
           "FAMILY",
           "1811 W 36TH PL CA 90018"
          ],
          [
           "FAMILY",
           "306 W 120TH ST CA 90061"
          ],
          [
           "FAMILY",
           "1801 N ALEXANDRIA AVE CA 90027"
          ],
          [
           "FAMILY",
           "8300 S HOOVER ST CA 90044"
          ],
          [
           "FAMILY",
           "1521 W PICO BLVD 1-56 CA 90015"
          ],
          [
           "FAMILY",
           "1750 W MARTIN LUTHER KING BLVD  LOS ANGELES, CA 90062"
          ],
          [
           "FAMILY",
           "3023 S WESTERN AVE CA 90018"
          ],
          [
           "FAMILY",
           "18425 W KITTRIDGE ST CA 91335"
          ],
          [
           "FAMILY",
           "1327 S CATALINA ST CA 90006"
          ],
          [
           "FAMILY",
           "12015 S FIGUEROA ST 1-21 CA 90061"
          ],
          [
           "FAMILY",
           "1421 W TEMPLE ST 1-52 CA 90026"
          ],
          [
           "FAMILY",
           "222 N AVENUE 23  LOS ANGELES, CA 90031"
          ],
          [
           "FAMILY",
           "1835 W 25TH ST CA 90018"
          ],
          [
           "FAMILY",
           "7135 N WILBUR AVE CA 91335"
          ],
          [
           "FAMILY",
           "5312 E ALMONT ST CA 90032"
          ],
          [
           "FAMILY",
           "825 S GREEN AVE CA 90017"
          ],
          [
           "FAMILY",
           "4100 S VERMONT AVE  LOS ANGELES, CA 90037"
          ],
          [
           "FAMILY",
           "1810 S MAGNOLIA AVE CA 90006"
          ],
          [
           "FAMILY",
           "1077 W 38TH ST  LOS ANGELES, CA 90037"
          ],
          [
           "FAMILY",
           "1063 W 39TH PL CA 90037"
          ],
          [
           "FAMILY",
           "1924 N ARGYLE AVE CA 90068"
          ],
          [
           "FAMILY",
           "117 S BOYLE AVE CA 90033"
          ],
          [
           "FAMILY",
           "814 E 29TH ST  Los Angeles, CA 90011"
          ],
          [
           "FAMILY",
           "2851 E CHAUCER ST  LOS ANGELES, CA 90065"
          ],
          [
           "FAMILY",
           "4251 S CENTRAL AVE CA 90011"
          ],
          [
           "FAMILY",
           "9618 N VAN NUYS BLVD 1-55 CA 91402"
          ],
          [
           "FAMILY",
           "715-721 YALE ST  Los Angeles, CA 90012"
          ],
          [
           "FAMILY",
           "1317 E 23RD ST CA 90011"
          ],
          [
           "FAMILY",
           "2131 S HOOVER ST CA 90007"
          ],
          [
           "FAMILY",
           "2114 W CLINTON ST 1-36 CA 90026"
          ],
          [
           "FAMILY",
           "3416 E MANITOU AVE CA 90031"
          ],
          [
           "FAMILY",
           "10648 S CENTRAL AVE CA 90002"
          ],
          [
           "FAMILY",
           "900 N NORTH BROADWAY CA 90012"
          ],
          [
           "FAMILY",
           "12059 W OSBORNE ST CA 91331"
          ],
          [
           "FAMILY",
           "100 S SANTA FE AVE CA 90012"
          ],
          [
           "FAMILY",
           "15455 GLENOAKS BLVD  LOS ANGELES, CA 91342"
          ],
          [
           "FAMILY",
           "2607 S MANSFIELD AVE CA 90016"
          ],
          [
           "FAMILY",
           "9315 S FIRTH BLVD 1-8  Los Angeles, CA 90002"
          ],
          [
           "FAMILY",
           "4900 S FIGUEROA ST 1-49 CA 90037"
          ],
          [
           "FAMILY",
           "11050 W ARMINTA ST CA 91352"
          ],
          [
           "FAMILY",
           "319 N CUMMINGS ST CA 90033"
          ],
          [
           "FAMILY",
           "2301 N HUMBOLDT ST CA 90031"
          ],
          [
           "FAMILY",
           "1077 W 38TH ST  LOS ANGELES, CA 90037"
          ],
          [
           "FAMILY",
           "8025 N RESEDA BLVD CA 91335"
          ],
          [
           "FAMILY",
           "9311 N SEPULVEDA BLVD 1-4 CA 91343"
          ],
          [
           "FAMILY",
           "2815 S WEST BLVD CA 90016"
          ],
          [
           "FAMILY",
           "601 W 40TH PL CA 90037"
          ],
          [
           "FAMILY",
           "2419 E 1ST ST CA 90033"
          ],
          [
           "FAMILY",
           "540 S NORMANDIE AVE 1-66 CA 90020"
          ],
          [
           "FAMILY",
           "12415 N SAN FERNANDO RD  SYLMAR, CA 91342"
          ],
          [
           "FAMILY",
           "1010 E JEFFERSON BLVD  LOS ANGELES, CA 90011"
          ],
          [
           "FAMILY",
           "3422 E MANITOU AVE CA 90031"
          ],
          [
           "FAMILY",
           "7512 S SAN PEDRO ST 1-4 CA 90003"
          ],
          [
           "FAMILY",
           "142 W SANTA CRUZ ST 1-49  SAN PEDRO, CA 90731"
          ],
          [
           "FAMILY",
           "4225 S CENTRAL AVE CA 90011"
          ],
          [
           "FAMILY",
           "2851 E CHAUCER ST  LOS ANGELES, CA 90065"
          ],
          [
           "FAMILY",
           "111 W 99TH ST 1-4 CA 90003"
          ],
          [
           "FAMILY",
           "153 N GLENDALE BLVD 1-45 CA 90026"
          ],
          [
           "FAMILY",
           "1721 W 8TH ST CA 90017"
          ],
          [
           "FAMILY",
           "2818 W LEEWARD AVE CA 90005"
          ],
          [
           "FAMILY",
           "3030 W SAN MARINO ST CA 90006"
          ],
          [
           "FAMILY",
           "636 E 108TH ST 1-4 CA 90059"
          ],
          [
           "FAMILY",
           "1230 S MENLO AVE CA 90006"
          ],
          [
           "FAMILY",
           "1348 W INGRAHAM ST CA 90017"
          ],
          [
           "FAMILY",
           "7250 N HAZELTINE AVE  VAN NUYS, CA 91405"
          ],
          [
           "FAMILY",
           "1514 W 20TH ST CA 90007"
          ],
          [
           "FAMILY",
           "5950 Main ST  Los Angeles, CA 90003"
          ],
          [
           "FAMILY",
           "772 N VAN NESS AVE CA 90038"
          ],
          [
           "FAMILY",
           "960 W 62ND PL CA 90044"
          ],
          [
           "FAMILY",
           "2425 W JEFFERSON BLVD CA 90018"
          ],
          [
           "FAMILY",
           "9700 N LAUREL CANYON BLVD  PACOIMA, CA 91331"
          ],
          [
           "FAMILY",
           "1544 N SERRANO AVE  LOS ANGELES, CA 90027"
          ],
          [
           "FAMILY",
           "1071 E 48th ST  Los Angeles, CA 90011"
          ],
          [
           "FAMILY",
           "225 N VERMONT AVE CA 90004"
          ],
          [
           "FAMILY",
           "3960 S GRAND VIEW BLVD 1-27 CA 90066"
          ],
          [
           "FAMILY",
           "959 S ARDMORE AVE CA 90006"
          ],
          [
           "FAMILY",
           "1134 W 17TH ST 1-28 CA 90015"
          ],
          [
           "FAMILY",
           "13230 N BROMONT AVE  SYLMAR, CA 91342"
          ],
          [
           "FAMILY",
           "1745 W 20th  Los Angeles, CA 90007"
          ],
          [
           "FAMILY",
           "201 S WITMER ST CA 90026"
          ],
          [
           "FAMILY",
           "1526 W 12TH PL CA 90015"
          ],
          [
           "FAMILY",
           "717 W EL SEGUNDO BLVD CA 90247"
          ],
          [
           "FAMILY",
           "2809 S WEST BLVD CA 90016"
          ],
          [
           "FAMILY",
           "743 S CARONDELET ST CA 90057"
          ],
          [
           "FAMILY",
           "4520 S FIGUEROA ST 1-21 CA 90037"
          ],
          [
           "FAMILY",
           "1901 W 6TH ST CA 90057"
          ],
          [
           "FAMILY",
           "5221 S WESTERN AVE CA 90062"
          ],
          [
           "FAMILY",
           "910 W FLORENCE AVE 1-20  LOS ANGELES, CA 90044"
          ],
          [
           "FAMILY",
           "1516 N SERRANO AVE  LOS ANGELES, CA 90027"
          ],
          [
           "FAMILY",
           "1386 E 20TH ST CA 90011"
          ],
          [
           "FAMILY",
           "10345 S CENTRAL AVE 1-43 CA 90002"
          ],
          [
           "FAMILY",
           "2500 W 4TH ST CA 90057"
          ],
          [
           "FAMILY",
           "710 W 30TH ST CA 90007"
          ],
          [
           "FAMILY",
           "7939 N RESEDA BLVD  RESEDA, CA 91335"
          ],
          [
           "FAMILY",
           "814 E 29TH ST  Los Angeles, CA 90011"
          ],
          [
           "FAMILY",
           "13044 W SHERMAN WAY CA 91605"
          ],
          [
           "FAMILY",
           "417 N HAWAIIAN AVE CA 90744"
          ],
          [
           "FAMILY",
           "9311-9345 Sepulveda Blvd., 91343"
          ],
          [
           "FAMILY",
           "1060 E 53RD ST CA 90011"
          ],
          [
           "FAMILY",
           "6501 W YUCCA ST  HOLLYWOOD, CA 90028"
          ],
          [
           "FAMILY",
           "456 S LAKE ST CA 90057"
          ],
          [
           "FAMILY",
           "3000 N VERDUGO ROAD 1-50 CA 90065"
          ],
          [
           "FAMILY",
           "9901 S ALAMEDA ST  LOS ANGELES, CA 90002"
          ],
          [
           "FAMILY",
           "100 S GRAND AVE CA 90012"
          ],
          [
           "FAMILY",
           "811 N HELIOTROPE DR CA 90029"
          ],
          [
           "FAMILY",
           "681 S BONNIE BRAE ST CA 90057"
          ],
          [
           "FAMILY",
           "5425 W CARLTON WAY  HOLLYWOOD, CA 90027"
          ],
          [
           "FAMILY",
           "1206 E 105TH ST  Los Angeles, CA 90002"
          ],
          [
           "FAMILY",
           "5050 N SEPULVEDA BLVD CA 91403"
          ],
          [
           "FAMILY",
           "2375 S SCARFF ST CA 90007"
          ],
          [
           "FAMILY",
           "535 W EL SEGUNDO BLVD CA 90248"
          ],
          [
           "FAMILY",
           "34 ST JAMES PARK  Los Angeles, CA 90007"
          ],
          [
           "FAMILY",
           "2101 E 101 ST  Los Angeles, CA 90002"
          ],
          [
           "FAMILY",
           "201 S LAKE ST 1-46 CA 90057"
          ],
          [
           "FAMILY",
           "1301 W COURT ST CA 90026"
          ],
          [
           "FAMILY",
           "4612 W LEXINGTON AVE CA 90029"
          ],
          [
           "FAMILY",
           "10006 S BROADWAY CA 90003"
          ],
          [
           "FAMILY",
           "7507 N SIMPSON AVE CA 91605"
          ],
          [
           "FAMILY",
           "10510 S AVALON BLVD  Los Angeles, CA 90002"
          ],
          [
           "FAMILY",
           "1546 W 11TH PL CA 90015"
          ],
          [
           "FAMILY",
           "1927 W 6TH ST 1-51 CA 90057"
          ],
          [
           "FAMILY",
           "1401 S ARLINGTON AVE CA 90019"
          ],
          [
           "FAMILY",
           "1721 N KINGSLEY DR  LOS ANGELES, CA 90027"
          ],
          [
           "FAMILY",
           "1805 N SICHEL ST 1-37 CA 90031"
          ],
          [
           "FAMILY",
           "1682 W 12TH PL CA 90015"
          ],
          [
           "FAMILY",
           "733 E 108TH ST CA 90059"
          ],
          [
           "FAMILY",
           "2501 W 6TH ST CA 90057"
          ],
          [
           "FAMILY",
           "9800 S GRAPE ST CA 90002"
          ],
          [
           "FAMILY",
           "1554 N SERRANO AVE  LOS ANGELES, CA 90027"
          ],
          [
           "FAMILY",
           "10915 S FIGUEROA ST CA 90061"
          ],
          [
           "FAMILY",
           "816 S CARONDELET ST 1-33 CA 90057"
          ],
          [
           "FAMILY",
           "732 E 108TH ST CA 90059"
          ],
          [
           "FAMILY",
           "8955 N ORION AVE 1-32 CA 91343"
          ],
          [
           "FAMILY",
           "3922 W 27TH ST CA 90018"
          ],
          [
           "FAMILY",
           "1733 W 58TH ST CA 90062"
          ],
          [
           "FAMILY",
           "2730 S NORMANDIE AVE CA 90007"
          ],
          [
           "FAMILY",
           "418 N EAST EDGEWARE ROAD CA 90026"
          ],
          [
           "FAMILY",
           "1400 S KENMORE AVE CA 90006"
          ],
          [
           "FAMILY",
           "5400 W HOLLYWOOD BLVD CA 90027"
          ],
          [
           "FAMILY",
           "2828 S WEST BLVD CA 90016"
          ],
          [
           "FAMILY",
           "3817 S WISCONSIN ST CA 90037"
          ],
          [
           "FAMILY",
           "3411 S CRENSHAW BLVD CA 90016"
          ],
          [
           "FAMILY",
           "3555 E WHITTIER BLVD 1-60 CA 90023"
          ],
          [
           "FAMILY",
           "1255 S ELDEN AVE CA 90006"
          ],
          [
           "FAMILY",
           "2620 S ORCHARD AVE CA 90007"
          ],
          [
           "FAMILY",
           "12010 S VERMONT AVE CA 90044"
          ],
          [
           "FAMILY",
           "12129 N EL DORADO AVE CA 91342"
          ],
          [
           "FAMILY",
           "516 S UNION AVE CA 90017"
          ],
          [
           "FAMILY",
           "731 S BEACON AVE CA 90017"
          ],
          [
           "FAMILY",
           "5417 S FIGUEROA ST 1-21 CA 90037"
          ],
          [
           "FAMILY",
           "621 W 84TH ST 1-5 CA 90044"
          ],
          [
           "FAMILY",
           "1011 E ADAMS BLVD 1-80 CA 90011"
          ],
          [
           "FAMILY",
           "225 S GRAND AVE CA 90012"
          ],
          [
           "FAMILY",
           "445 S LUCAS AVE CA 90017"
          ],
          [
           "FAMILY",
           "11735 W HAMLIN ST CA 91606"
          ],
          [
           "FAMILY",
           "2020 E 97TH ST  LOS ANGELES, CA 90002"
          ],
          [
           "FAMILY",
           "1116 W D ST CA 90744"
          ],
          [
           "FAMILY",
           "120 W 78TH ST 1-4 CA 90003"
          ],
          [
           "FAMILY",
           "2747 N NEWELL ST CA 90039"
          ],
          [
           "FAMILY",
           "8318 S MAIN ST CA 90003"
          ],
          [
           "FAMILY",
           "924 S HOBART BLVD 1-49 CA 90006"
          ],
          [
           "FAMILY",
           "219 E 87TH PL CA 90003"
          ],
          [
           "FAMILY",
           "4829 W LEXINGTON AVE CA 90029"
          ],
          [
           "FAMILY",
           "722 E WASHINGTON BLVD CA 90011"
          ],
          [
           "FAMILY",
           "981 W HARBOR VILLAGE DR CA 90710"
          ],
          [
           "FAMILY",
           "1151 E 20TH ST CA 90011"
          ],
          [
           "FAMILY",
           "115 N SOTO ST CA 90033"
          ],
          [
           "FAMILY",
           "425 N WILMINGTON BLVD CA 90744"
          ],
          [
           "FAMILY",
           "240 S WESTLAKE AVE CA 90057"
          ],
          [
           "FAMILY",
           "4080 S VERMONT AVE  LOS ANGELES, CA 90037"
          ],
          [
           "FAMILY",
           "522 S UNION AVE CA 90017"
          ],
          [
           "FAMILY",
           "10634 S CENTRAL AVE CA 90002"
          ],
          [
           "FAMILY",
           "10607 S KALMIA ST CA 90002"
          ],
          [
           "FAMILY",
           "5426 W SIERRA VISTA AVE CA 90038"
          ],
          [
           "FAMILY",
           "1511 S ST ANDREWS PL 1-43 CA 90019"
          ],
          [
           "FAMILY",
           "451 S LUCAS AVE CA 90017"
          ],
          [
           "FAMILY",
           "1328 W JAMES M. WOOD BLVD 1-18 CA 90015"
          ],
          [
           "FAMILY",
           "1315 E 21ST ST 201-221 CA 90011"
          ],
          [
           "FAMILY",
           "975 S SERRANO AVE 1-6 CA 90006"
          ]
         ],
         "hovertemplate": "<b>%{hovertext}</b><br><br>SITE LATITUDE=%{lat}<br>SITE LONGITUDE=%{lon}<br>HOUSING TYPE=%{customdata[0]}<br>SITE ADDRESS=%{customdata[1]}<extra></extra>",
         "hovertext": [
          "LEXINGTON APARTMENTS A/B (SITE 11)",
          "WINDWARD APTS (A/B) (SITE 4)",
          "HAZELTINE & WYANDOTTE (SITE 2)",
          "ST. JAMES PARK",
          "HDR I & II (SITE 8)",
          "LEEWARD APTS. (SITE 9)",
          "SEVEN PALMS APTS.",
          "HDR I & II (SITE 2)",
          "PALOMA TERRACE",
          "CONCORD APARTMENTS (GRP. A & B) (SITE 5)",
          "LEXINGTON APARTMENTS A/B (SITE 2)",
          "LEXINGTON APARTMENTS A/B (SITE 6)",
          "BRONSON COURTS",
          "ST. JAMES PARK (SITE 3)",
          "PARQUE VISTA - 2851 E. CHAUCER ST. (SITE 2)",
          "WINDWARD APTS (A/B) (SITE 7)",
          "BOYLE HOTEL",
          "ST. JAMES PARK (SITE 4)",
          "LAS MARGARITAS",
          "DUNBAR VILLAGE (SITE 2)",
          "LEXINGTON APARTMENTS A/B (SITE 3)",
          "HARMONY GATES (RECAP)",
          "IMANI FE EAST & WEST",
          "HARVARD CIRCLE",
          "WINDWARD APTS (A/B) (SITE 20)",
          "WITMER HEIGHTS",
          "CRESCENT VILLAGES (RECAP) (SITE 2)",
          "ANDALUCIA HEIGHTS",
          "VIVIENDAS DEL VALLE (RECAP)",
          "SAGE PARK",
          "BROADWAY VILLAGE II",
          "RIO VISTA APARTMENTS",
          "WINDWARD APTS (A/B) (SITE 3)",
          "SILVERLAKE APARTMENTS",
          "VERMONT AVENUE APARTMENTS",
          "BONNIE BRAE APARTMENT HOMES",
          "FIGUEROA PLACE",
          "PARQUE VISTA - 2851 E. CHAUCER ST.",
          "CONCORD APARTMENTS (GRP. A & B) (SITE 9)",
          "CORONITA FAMILY",
          "PICO GRAMERCY APTS.",
          "TOBIAS TERRACE APARTMENTS",
          "LEXINGTON APARTMENTS A/B (SITE 7)",
          "PROFESSIONAL HSG. & DEV. APTS. (PH & D)",
          "LEEWARD APTS.",
          "NORWOOD LEARNING VILLAGE",
          "MENLO PARK",
          "LEXINGTON APARTMENTS A/B",
          "TAYLOR YARD APARTMENTS",
          "WINDWARD APTS (A/B) (SITE 13)",
          "CORONEL APARTMENTS",
          "HDR I & II (SITE 5)",
          "ALEGRIA APARTMENTS",
          "WINDWARD APTS (A/B) (SITE 6)",
          "LEEWARD APTS. (SITE 10)",
          "QUEEN APARTMENTS (SITE 2)",
          "THE GORDON",
          "LEEWARD APTS. (SITE 6)",
          "MAYA TOWNHOMES",
          "CONCORD APARTMENTS (GRP. A & B) (SITE 4)",
          "MARTHA BRYANT MANOR- RECAP",
          "MOSAIC APARTMENTS",
          "FLORENCE MOREHOUSE (RECAP) (SITE 2)",
          "JEFFERSON PARK TERRACE",
          "RIVERWALK AT RESEDA",
          "ROYALS APARTMENTS (SITE 3)",
          "MY TOWN HOMES",
          "TEMPLE VILLAS",
          "FLORES DEL VALLE",
          "LEXINGTON APARTMENTS A/B (SITE 10)",
          "SHERMAN VILLAGE",
          "CUATRO VIENTOS",
          "LEASTER APARTMENTS",
          "WEST A HOMES (RECAP) (SITE 2)",
          "PROFESSIONAL HSG. & DEV. APTS. (PH & D) (SITE 5)",
          "ROLLAND CURTIS EAST",
          "HDR I & II (SITE 3)",
          "HCHC RECAP I",
          "SANTA CECILIA APARTMENTS",
          "THE CROSSING ON 29TH ST.",
          "PARQUE VISTA - 2851 E. CHAUCER ST. (SITE 2)",
          "DUNBAR VILLAGE (SITE 3)",
          "VILLAS LAS AMERICAS",
          "YALE STREET FAMILY HOUSING",
          "LEXINGTON APARTMENTS A/B (SITE 14)",
          "WINDWARD APTS (A/B)",
          "CLINTON FAMILY APTS.",
          "MANITOU VISTAS II",
          "LEEWARD APTS. (SITE 13)",
          "BLOSSOM PLAZA",
          "OSBORNE STREET APARTMENTS",
          "ONE SANTA FE",
          "OAKRIDGE FAMILY HOMES",
          "LEXINGTON APARTMENTS A/B (SITE 8)",
          "MCCOY PLAZA APARTMENTS",
          "CASA DE ANGELES",
          "ARMINTA SQUARE",
          "LAS MARGARITAS (SITE 3)",
          "TESORO DEL VALLE",
          "ROLLAND CURTIS WEST",
          "CORAL WOOD COURT",
          "CROSSINGS AT NORTH HILLS",
          "WINDWARD APTS (A/B) (SITE 5)",
          "GILBERT LINDSAY RECAP",
          "CIELITO LINDO (1ST AND SOTO APTS I)",
          "NORMANDIE TERRACE APARTMENT HOMES",
          "SYLMAR COURT APTS.",
          "PAUL WILLIAMS FAMILY APARTMENTS",
          "MANITOU VISTAS I",
          "WINDWARD APTS (A/B) (SITE 15)",
          "TOBERMAN VILLAGE / AKA VISTA ALEGRE",
          "DUNBAR VILLAGE",
          "PARQUE VISTA - 2851 E. CHAUCER ST.",
          "WINDWARD APTS (A/B) (SITE 16)",
          "PWC FAMILY HOUSING",
          "CRESCENT VILLAGES (RECAP)",
          "LEEWARD APTS. (SITE 4)",
          "CONCORD APARTMENTS (GRP. A & B) (SITE 6)",
          "WINDWARD APTS (A/B) (SITE 14)",
          "MENLO FAMILY HOUSING",
          "CONCORD APARTMENTS (GRP. A & B)",
          "HAZELTINE & WYANDOTTE",
          "WINDWARD APTS (A/B) (SITE 2)",
          "MAIN STREET VISTAS",
          "ROYALS APARTMENTS (SITE 2)",
          "PARK PLAZA (PLAZA VERMONT)",
          "JEFFERSON BLVD & FIFTH AVE. APARTMENTS",
          "LAUREL VILLAGE (RECAP)",
          "HOLLYWOOD BUNGALOW COURTS (SITE 3)",
          "ONE WILKINS PLACE (RECAP)",
          "MERIDIAN APARTMENTS",
          "VISTA BALLONA",
          "THE ARDMORE",
          "LEEWARD APTS. (SITE 3)",
          "VIVIENDAS DEL VALLE (RECAP) (SITE 3)",
          "PROFESSIONAL HSG. & DEV. APTS. (PH & D) (SITE 4)",
          "WITMER MANOR PRESERVATION APTS.",
          "MOSAIC APARTMENTS",
          "ROYALS APARTMENTS",
          "LEEWARD APTS. (SITE 7)",
          "CONCORD APARTMENTS (GRP. A & B) (SITE 3)",
          "MANSI TOWN HOMES",
          "THE PASEO AT CALIFORNIAN",
          "MIRAGE TOWN HOMES",
          "FLORENCE MOREHOUSE (RECAP)",
          "HOLLYWOOD BUNGALOW COURTS (SITE 2)",
          "LEXINGTON APARTMENTS A/B (SITE 12)",
          "IMANI FE EAST & WEST (SITE 2)",
          "NEW PARK PLACE (RECAP)",
          "WINDWARD APTS (A/B) (SITE 10)",
          "VIVIENDAS DEL VALLE (RECAP) (SITE 2)",
          "THE CROSSING ON 29TH ST.",
          "COLONIA CORONA APTS",
          "CAMINO DEL MAR",
          "CROSSINGS AT NORTH HILLS",
          "CENTRAL AVENUE VILLAGE SQUARE (RECAP)",
          "HCHC RECAP I (SITE 3)",
          "VILLAS DEL LAGO",
          "GLASSELL PARK COMMUNITY HSG/AKA RIO VISTA APT",
          "JORDAN DOWNS PHASE 1A",
          "GRAND AVENUE PARCEL Q APTS.",
          "HDR I & II (SITE 6)",
          "MACARTHUR PARK METRO APTS-PHASE A",
          "HCHC RECAP I (SITE 2)",
          "LEEWARD APTS. (SITE 11)",
          "ORANGE WOOD COURT",
          "HDR I & II (SITE 4)",
          "EL SEGUNDO APARTMENTS",
          "ST. JAMES PARK (SITE 2)",
          "JORDAN DOWNS PHASE S3",
          "MAGNOLIA ON LAKE",
          "COURT STREET APTS.",
          "LEXINGTON APARTMENTS A/B (SITE 4)",
          "MILAN TOWN HOMES",
          "SIMPSON ARBOR APARTMENTS",
          "LEEWARD APTS. (SITE 15)",
          "CONCORD APARTMENTS (GRP. A & B) (SITE 8)",
          "HISTORIC BARBIZON HOTEL APTS.",
          "PROFESSIONAL HSG. & DEV. APTS. (PH & D) (SITE 3)",
          "HOLLYWOOD BUNGALOW COURTS",
          "SICHEL FAMILY APARTMENTS",
          "CONCORD APARTMENTS (GRP. A & B) (SITE 7)",
          "WINDWARD APTS (A/B) (SITE 11)",
          "ASBURY",
          "JORDAN DOWNS AREA H (PH 2B)",
          "HOLLYWOOD BUNGALOW COURTS (SITE 4)",
          "LEEWARD APTS. (SITE 2)",
          "CARONDELET COURT APT HOMES",
          "WINDWARD APTS (A/B) (SITE 12)",
          "ORION GARDENS APARTMENTS",
          "WINDWARD APTS (A/B) (SITE 9)",
          "HDR I & II",
          "WINDWARD APTS (A/B) (SITE 8)",
          "VISTA ANGELINA",
          "PROFESSIONAL HSG. & DEV. APTS. (PH & D) (SITE 2)",
          "5400 HOLLYWOOD FAMILY APARTMENTS",
          "LEEWARD APTS. (SITE 8)",
          "ROYALS APARTMENTS (SITE 4)",
          "CRENSHAW GARDENS",
          "THE WHITTIER",
          "WESTMORE ELDEN ELMS PH2",
          "QUEEN APARTMENTS",
          "ACADEMY HALL",
          "EL DORADO FAMILY APARTMENTS",
          "QUEEN APARTMENTS (SITE 5)",
          "CRESCENT VILLAGES (RECAP) (SITE 3)",
          "MIMMIM TOWN HOMES",
          "WINDWARD APTS (A/B) (SITE 18)",
          "ADAMS AND CENTRAL MIX-USE",
          "PARCEL M-GRAND AVE.",
          "QUEEN APARTMENTS (SITE 3)",
          "HAMLIN ESTATES",
          "JORDAN DOWNS PHASE 1B",
          "VISTA DEL MAR",
          "WINDWARD APTS (A/B) (SITE 19)",
          "HDR I & II (SITE 7)",
          "LEEWARD APTS. (SITE 14)",
          "THE HOBART / AKA HOBART HEIGHTS APT. HOMES",
          "WINDWARD APTS (A/B) (SITE 17)",
          "LEXINGTON APARTMENTS A/B (SITE 5)",
          "WASHINGTON 722 TOD",
          "HARBOR VILLAGE APARTMENTS",
          "LEXINGTON APARTMENTS A/B (SITE 13)",
          "LAS MARGARITAS (SITE 2)",
          "NEW DANA STRAND TOWNHOMES",
          "MIRAMAR VILLAGE",
          "WEST A HOMES (RECAP)",
          "CONCORD APARTMENTS (GRP. A & B) (SITE 2)",
          "LEEWARD APTS. (SITE 12)",
          "LEXINGTON APARTMENTS A/B (SITE 9)",
          "LEEWARD APTS. (SITE 5)",
          "ST. ANDREWS",
          "QUEEN APARTMENTS (SITE 4)",
          "JAMES WOOD APARTMENTS",
          "CENTRAL VILLAGE APTS.",
          "THE SERRANO"
         ],
         "lat": [
          34.02133,
          34.044290000000004,
          34.202890000000004,
          34.030429999999996,
          34.11442,
          34.01386,
          34.303059999999995,
          34.00538,
          33.997279999999996,
          34.05575,
          34.08313,
          34.03314,
          34.09365,
          34.031220000000005,
          34.09515,
          34.01493,
          34.04739,
          34.030429999999996,
          34.04486,
          34.00744,
          34.09207,
          34.16575,
          33.94133,
          34.0884,
          34.035990000000005,
          34.06173,
          34.052690000000005,
          34.05706,
          34.17953,
          33.87019,
          33.996340000000004,
          34.09729,
          33.96563,
          34.106609999999996,
          33.99832,
          34.05924,
          34.071999999999996,
          34.09515,
          34.04459,
          34.06047,
          34.0475,
          34.238620000000004,
          33.97405,
          34.051970000000004,
          33.95635,
          34.03517,
          33.97648,
          34.08183,
          34.09422,
          33.93844,
          34.10001,
          34.029759999999996,
          34.032509999999995,
          34.01563,
          34.05356,
          34.085,
          34.09966,
          34.02198,
          33.92348,
          34.1036,
          33.96297,
          34.0449,
          34.01068,
          34.02708,
          34.190329999999996,
          34.04642,
          33.923159999999996,
          34.06759,
          34.07842,
          34.03376,
          34.20032,
          34.09185,
          34.05105,
          34.00887,
          34.04098,
          34.018029999999996,
          34.01426,
          34.10601,
          34.04704,
          34.01762,
          34.09515,
          34.00649,
          34.245,
          34.061890000000005,
          34.020559999999996,
          34.03613,
          34.073809999999995,
          34.07183,
          33.93916,
          34.06469,
          34.272940000000006,
          34.047979999999995,
          34.324020000000004,
          34.03212,
          33.952,
          33.9982,
          34.213770000000004,
          34.04789,
          34.07925,
          34.018029999999996,
          34.216159999999995,
          34.240390000000005,
          34.030559999999994,
          34.01097,
          34.043490000000006,
          34.06411,
          34.29591,
          34.01202,
          34.07189,
          33.97167,
          33.74429,
          34.00692,
          34.09515,
          33.94658,
          34.06346,
          34.05339,
          34.0586,
          34.05431,
          33.93817,
          34.04815,
          34.05357,
          34.20292,
          34.038000000000004,
          33.98525,
          34.08514,
          33.98218,
          34.02575,
          34.24745,
          34.099579999999996,
          34.000659999999996,
          34.07571,
          34.00193,
          34.053779999999996,
          34.040929999999996,
          34.31123,
          34.03824,
          34.06082,
          34.0449,
          33.91659,
          34.03071,
          34.05733,
          34.00221,
          34.05891,
          33.9944,
          33.9744,
          34.09897,
          34.02167,
          33.94227,
          34.06419,
          34.025890000000004,
          34.21475,
          34.01762,
          34.201029999999996,
          33.77406,
          34.23957,
          33.99418,
          34.10413,
          34.06145,
          34.10548,
          33.9467,
          34.0549,
          34.08628,
          34.05652,
          34.100629999999995,
          33.94082,
          34.16281,
          34.03158,
          33.916579999999996,
          34.031209999999994,
          33.94555,
          34.0663,
          34.0642,
          34.09333,
          33.9453,
          34.206540000000004,
          33.94056,
          34.04672,
          34.05898,
          34.0461,
          34.10262,
          34.06411,
          34.0465,
          33.93843,
          34.06158,
          33.94596,
          34.09988,
          33.93688,
          34.05618,
          33.938159999999996,
          34.23341,
          34.03141,
          33.98983,
          34.029959999999996,
          34.06597,
          34.046279999999996,
          34.1014,
          34.03015,
          34.01668,
          34.025079999999996,
          34.02612,
          34.04805,
          34.032,
          33.92323,
          34.290259999999996,
          34.05794,
          34.053779999999996,
          33.99255,
          33.962270000000004,
          34.0193,
          34.05388,
          34.05632,
          34.18884,
          33.94596,
          33.77336,
          33.96877,
          34.10088,
          33.96322,
          34.05502,
          33.95817,
          34.093540000000004,
          34.027120000000004,
          33.79288,
          34.02466,
          34.04422,
          33.77483,
          34.063590000000005,
          34.0094,
          34.057829999999996,
          33.93947,
          33.939409999999995,
          34.089420000000004,
          34.04492,
          34.05619,
          34.049170000000004,
          34.02228,
          34.053329999999995
         ],
         "legendgroup": "",
         "lon": [
          -118.25561,
          -118.34217,
          -118.45222,
          -118.28058999999999,
          -118.18298999999999,
          -118.30555,
          -118.46465,
          -118.29298,
          -118.2734,
          -118.28622,
          -118.30356,
          -118.29553,
          -118.3181,
          -118.2807,
          -118.23371000000002,
          -118.30466000000001,
          -118.2202,
          -118.28058999999999,
          -118.20946,
          -118.25688000000001,
          -118.28791000000001,
          -118.36633,
          -118.25393000000001,
          -118.30371000000001,
          -118.30564,
          -118.26086000000001,
          -118.26808999999999,
          -118.26328000000001,
          -118.43916999999999,
          -118.29781000000001,
          -118.27895,
          -118.23376999999999,
          -118.28495,
          -118.2743,
          -118.29191000000002,
          -118.27228999999998,
          -118.25105,
          -118.23371000000002,
          -118.28066000000001,
          -118.26005,
          -118.31286999999999,
          -118.45063999999999,
          -118.26973000000001,
          -118.30298,
          -118.27723999999999,
          -118.27903,
          -118.28818000000001,
          -118.20116999999999,
          -118.23058999999999,
          -118.26337,
          -118.3058,
          -118.2873,
          -118.27763999999999,
          -118.29915,
          -118.33163,
          -118.3121,
          -118.31978000000001,
          -118.31231000000001,
          -118.27847,
          -118.29852,
          -118.28691,
          -118.27557,
          -118.31031999999999,
          -118.30906,
          -118.53458,
          -118.29489,
          -118.28301,
          -118.25743999999999,
          -118.21857,
          -118.30421000000001,
          -118.54502,
          -118.16525,
          -118.27167,
          -118.29137,
          -118.28623999999999,
          -118.2942,
          -118.29382,
          -118.32508999999999,
          -118.22011,
          -118.26081,
          -118.23371000000002,
          -118.25668999999999,
          -118.45003,
          -118.24178,
          -118.25313999999999,
          -118.28424,
          -118.26686000000001,
          -118.20448999999999,
          -118.25393999999999,
          -118.23697,
          -118.39505,
          -118.23196999999999,
          -118.46988,
          -118.35251000000001,
          -118.24767,
          -118.28211,
          -118.37213999999999,
          -118.2138,
          -118.2195,
          -118.2942,
          -118.53627,
          -118.46799999999999,
          -118.34182,
          -118.28421999999999,
          -118.20893000000001,
          -118.30015,
          -118.45523999999999,
          -118.258,
          -118.20423000000001,
          -118.26936,
          -118.28107,
          -118.25668999999999,
          -118.23371000000002,
          -118.2746,
          -118.26018,
          -118.27418,
          -118.28476,
          -118.29567,
          -118.26373999999998,
          -118.29051000000001,
          -118.26853,
          -118.43982,
          -118.28931999999999,
          -118.27346000000001,
          -118.31558999999999,
          -118.29091000000001,
          -118.3219,
          -118.4184,
          -118.30696999999999,
          -118.25697,
          -118.29188,
          -118.42872,
          -118.30225,
          -118.2809,
          -118.43817,
          -118.29587,
          -118.26173999999999,
          -118.27557,
          -118.28773999999999,
          -118.34182,
          -118.28183999999999,
          -118.28243,
          -118.27231,
          -118.30909,
          -118.28967,
          -118.30696,
          -118.24932,
          -118.25448,
          -118.27741999999999,
          -118.2802,
          -118.53627,
          -118.26081,
          -118.4173,
          -118.27658000000001,
          -118.46796,
          -118.25716000000001,
          -118.33134,
          -118.27495,
          -118.23756999999999,
          -118.2289,
          -118.24805,
          -118.29512,
          -118.27507,
          -118.30776000000002,
          -118.25379,
          -118.46592,
          -118.28106000000001,
          -118.28399999999999,
          -118.28053,
          -118.23472,
          -118.2724,
          -118.25675,
          -118.29,
          -118.27796000000001,
          -118.38918999999999,
          -118.265,
          -118.27528000000001,
          -118.27323,
          -118.3179,
          -118.30363,
          -118.21305,
          -118.27908000000001,
          -118.2617,
          -118.27908000000001,
          -118.23653,
          -118.30696999999999,
          -118.2828,
          -118.28228999999999,
          -118.26173999999999,
          -118.47233999999999,
          -118.32793000000001,
          -118.30812,
          -118.30006999999999,
          -118.25492,
          -118.29687,
          -118.30734,
          -118.34156000000002,
          -118.29319,
          -118.33528999999999,
          -118.19678,
          -118.2879,
          -118.28731,
          -118.2914,
          -118.45103999999999,
          -118.26926,
          -118.27403000000001,
          -118.28298000000001,
          -118.28483,
          -118.25496000000001,
          -118.25078,
          -118.26297,
          -118.3893,
          -118.23653,
          -118.27463,
          -118.27479,
          -118.24507,
          -118.27371000000001,
          -118.30515,
          -118.27095,
          -118.29416,
          -118.25684,
          -118.2925,
          -118.25312,
          -118.20966999999999,
          -118.27448000000001,
          -118.26933999999999,
          -118.29138999999999,
          -118.26933999999999,
          -118.25393999999999,
          -118.23181000000001,
          -118.31026000000001,
          -118.31188,
          -118.26303999999999,
          -118.27,
          -118.25191000000001,
          -118.30653000000001
         ],
         "marker": {
          "color": "#636efa"
         },
         "mode": "markers",
         "name": "",
         "showlegend": false,
         "subplot": "mapbox",
         "type": "scattermapbox"
        }
       ],
       "layout": {
        "legend": {
         "tracegroupgap": 0
        },
        "mapbox": {
         "center": {
          "lat": 34.04669822033895,
          "lon": -118.29457072033895
         },
         "domain": {
          "x": [
           0,
           1
          ],
          "y": [
           0,
           1
          ]
         },
         "style": "carto-positron",
         "zoom": 8
        },
        "template": {
         "data": {
          "bar": [
           {
            "error_x": {
             "color": "#2a3f5f"
            },
            "error_y": {
             "color": "#2a3f5f"
            },
            "marker": {
             "line": {
              "color": "#E5ECF6",
              "width": 0.5
             }
            },
            "type": "bar"
           }
          ],
          "barpolar": [
           {
            "marker": {
             "line": {
              "color": "#E5ECF6",
              "width": 0.5
             }
            },
            "type": "barpolar"
           }
          ],
          "carpet": [
           {
            "aaxis": {
             "endlinecolor": "#2a3f5f",
             "gridcolor": "white",
             "linecolor": "white",
             "minorgridcolor": "white",
             "startlinecolor": "#2a3f5f"
            },
            "baxis": {
             "endlinecolor": "#2a3f5f",
             "gridcolor": "white",
             "linecolor": "white",
             "minorgridcolor": "white",
             "startlinecolor": "#2a3f5f"
            },
            "type": "carpet"
           }
          ],
          "choropleth": [
           {
            "colorbar": {
             "outlinewidth": 0,
             "ticks": ""
            },
            "type": "choropleth"
           }
          ],
          "contour": [
           {
            "colorbar": {
             "outlinewidth": 0,
             "ticks": ""
            },
            "colorscale": [
             [
              0,
              "#0d0887"
             ],
             [
              0.1111111111111111,
              "#46039f"
             ],
             [
              0.2222222222222222,
              "#7201a8"
             ],
             [
              0.3333333333333333,
              "#9c179e"
             ],
             [
              0.4444444444444444,
              "#bd3786"
             ],
             [
              0.5555555555555556,
              "#d8576b"
             ],
             [
              0.6666666666666666,
              "#ed7953"
             ],
             [
              0.7777777777777778,
              "#fb9f3a"
             ],
             [
              0.8888888888888888,
              "#fdca26"
             ],
             [
              1,
              "#f0f921"
             ]
            ],
            "type": "contour"
           }
          ],
          "contourcarpet": [
           {
            "colorbar": {
             "outlinewidth": 0,
             "ticks": ""
            },
            "type": "contourcarpet"
           }
          ],
          "heatmap": [
           {
            "colorbar": {
             "outlinewidth": 0,
             "ticks": ""
            },
            "colorscale": [
             [
              0,
              "#0d0887"
             ],
             [
              0.1111111111111111,
              "#46039f"
             ],
             [
              0.2222222222222222,
              "#7201a8"
             ],
             [
              0.3333333333333333,
              "#9c179e"
             ],
             [
              0.4444444444444444,
              "#bd3786"
             ],
             [
              0.5555555555555556,
              "#d8576b"
             ],
             [
              0.6666666666666666,
              "#ed7953"
             ],
             [
              0.7777777777777778,
              "#fb9f3a"
             ],
             [
              0.8888888888888888,
              "#fdca26"
             ],
             [
              1,
              "#f0f921"
             ]
            ],
            "type": "heatmap"
           }
          ],
          "heatmapgl": [
           {
            "colorbar": {
             "outlinewidth": 0,
             "ticks": ""
            },
            "colorscale": [
             [
              0,
              "#0d0887"
             ],
             [
              0.1111111111111111,
              "#46039f"
             ],
             [
              0.2222222222222222,
              "#7201a8"
             ],
             [
              0.3333333333333333,
              "#9c179e"
             ],
             [
              0.4444444444444444,
              "#bd3786"
             ],
             [
              0.5555555555555556,
              "#d8576b"
             ],
             [
              0.6666666666666666,
              "#ed7953"
             ],
             [
              0.7777777777777778,
              "#fb9f3a"
             ],
             [
              0.8888888888888888,
              "#fdca26"
             ],
             [
              1,
              "#f0f921"
             ]
            ],
            "type": "heatmapgl"
           }
          ],
          "histogram": [
           {
            "marker": {
             "colorbar": {
              "outlinewidth": 0,
              "ticks": ""
             }
            },
            "type": "histogram"
           }
          ],
          "histogram2d": [
           {
            "colorbar": {
             "outlinewidth": 0,
             "ticks": ""
            },
            "colorscale": [
             [
              0,
              "#0d0887"
             ],
             [
              0.1111111111111111,
              "#46039f"
             ],
             [
              0.2222222222222222,
              "#7201a8"
             ],
             [
              0.3333333333333333,
              "#9c179e"
             ],
             [
              0.4444444444444444,
              "#bd3786"
             ],
             [
              0.5555555555555556,
              "#d8576b"
             ],
             [
              0.6666666666666666,
              "#ed7953"
             ],
             [
              0.7777777777777778,
              "#fb9f3a"
             ],
             [
              0.8888888888888888,
              "#fdca26"
             ],
             [
              1,
              "#f0f921"
             ]
            ],
            "type": "histogram2d"
           }
          ],
          "histogram2dcontour": [
           {
            "colorbar": {
             "outlinewidth": 0,
             "ticks": ""
            },
            "colorscale": [
             [
              0,
              "#0d0887"
             ],
             [
              0.1111111111111111,
              "#46039f"
             ],
             [
              0.2222222222222222,
              "#7201a8"
             ],
             [
              0.3333333333333333,
              "#9c179e"
             ],
             [
              0.4444444444444444,
              "#bd3786"
             ],
             [
              0.5555555555555556,
              "#d8576b"
             ],
             [
              0.6666666666666666,
              "#ed7953"
             ],
             [
              0.7777777777777778,
              "#fb9f3a"
             ],
             [
              0.8888888888888888,
              "#fdca26"
             ],
             [
              1,
              "#f0f921"
             ]
            ],
            "type": "histogram2dcontour"
           }
          ],
          "mesh3d": [
           {
            "colorbar": {
             "outlinewidth": 0,
             "ticks": ""
            },
            "type": "mesh3d"
           }
          ],
          "parcoords": [
           {
            "line": {
             "colorbar": {
              "outlinewidth": 0,
              "ticks": ""
             }
            },
            "type": "parcoords"
           }
          ],
          "pie": [
           {
            "automargin": true,
            "type": "pie"
           }
          ],
          "scatter": [
           {
            "marker": {
             "colorbar": {
              "outlinewidth": 0,
              "ticks": ""
             }
            },
            "type": "scatter"
           }
          ],
          "scatter3d": [
           {
            "line": {
             "colorbar": {
              "outlinewidth": 0,
              "ticks": ""
             }
            },
            "marker": {
             "colorbar": {
              "outlinewidth": 0,
              "ticks": ""
             }
            },
            "type": "scatter3d"
           }
          ],
          "scattercarpet": [
           {
            "marker": {
             "colorbar": {
              "outlinewidth": 0,
              "ticks": ""
             }
            },
            "type": "scattercarpet"
           }
          ],
          "scattergeo": [
           {
            "marker": {
             "colorbar": {
              "outlinewidth": 0,
              "ticks": ""
             }
            },
            "type": "scattergeo"
           }
          ],
          "scattergl": [
           {
            "marker": {
             "colorbar": {
              "outlinewidth": 0,
              "ticks": ""
             }
            },
            "type": "scattergl"
           }
          ],
          "scattermapbox": [
           {
            "marker": {
             "colorbar": {
              "outlinewidth": 0,
              "ticks": ""
             }
            },
            "type": "scattermapbox"
           }
          ],
          "scatterpolar": [
           {
            "marker": {
             "colorbar": {
              "outlinewidth": 0,
              "ticks": ""
             }
            },
            "type": "scatterpolar"
           }
          ],
          "scatterpolargl": [
           {
            "marker": {
             "colorbar": {
              "outlinewidth": 0,
              "ticks": ""
             }
            },
            "type": "scatterpolargl"
           }
          ],
          "scatterternary": [
           {
            "marker": {
             "colorbar": {
              "outlinewidth": 0,
              "ticks": ""
             }
            },
            "type": "scatterternary"
           }
          ],
          "surface": [
           {
            "colorbar": {
             "outlinewidth": 0,
             "ticks": ""
            },
            "colorscale": [
             [
              0,
              "#0d0887"
             ],
             [
              0.1111111111111111,
              "#46039f"
             ],
             [
              0.2222222222222222,
              "#7201a8"
             ],
             [
              0.3333333333333333,
              "#9c179e"
             ],
             [
              0.4444444444444444,
              "#bd3786"
             ],
             [
              0.5555555555555556,
              "#d8576b"
             ],
             [
              0.6666666666666666,
              "#ed7953"
             ],
             [
              0.7777777777777778,
              "#fb9f3a"
             ],
             [
              0.8888888888888888,
              "#fdca26"
             ],
             [
              1,
              "#f0f921"
             ]
            ],
            "type": "surface"
           }
          ],
          "table": [
           {
            "cells": {
             "fill": {
              "color": "#EBF0F8"
             },
             "line": {
              "color": "white"
             }
            },
            "header": {
             "fill": {
              "color": "#C8D4E3"
             },
             "line": {
              "color": "white"
             }
            },
            "type": "table"
           }
          ]
         },
         "layout": {
          "annotationdefaults": {
           "arrowcolor": "#2a3f5f",
           "arrowhead": 0,
           "arrowwidth": 1
          },
          "coloraxis": {
           "colorbar": {
            "outlinewidth": 0,
            "ticks": ""
           }
          },
          "colorscale": {
           "diverging": [
            [
             0,
             "#8e0152"
            ],
            [
             0.1,
             "#c51b7d"
            ],
            [
             0.2,
             "#de77ae"
            ],
            [
             0.3,
             "#f1b6da"
            ],
            [
             0.4,
             "#fde0ef"
            ],
            [
             0.5,
             "#f7f7f7"
            ],
            [
             0.6,
             "#e6f5d0"
            ],
            [
             0.7,
             "#b8e186"
            ],
            [
             0.8,
             "#7fbc41"
            ],
            [
             0.9,
             "#4d9221"
            ],
            [
             1,
             "#276419"
            ]
           ],
           "sequential": [
            [
             0,
             "#0d0887"
            ],
            [
             0.1111111111111111,
             "#46039f"
            ],
            [
             0.2222222222222222,
             "#7201a8"
            ],
            [
             0.3333333333333333,
             "#9c179e"
            ],
            [
             0.4444444444444444,
             "#bd3786"
            ],
            [
             0.5555555555555556,
             "#d8576b"
            ],
            [
             0.6666666666666666,
             "#ed7953"
            ],
            [
             0.7777777777777778,
             "#fb9f3a"
            ],
            [
             0.8888888888888888,
             "#fdca26"
            ],
            [
             1,
             "#f0f921"
            ]
           ],
           "sequentialminus": [
            [
             0,
             "#0d0887"
            ],
            [
             0.1111111111111111,
             "#46039f"
            ],
            [
             0.2222222222222222,
             "#7201a8"
            ],
            [
             0.3333333333333333,
             "#9c179e"
            ],
            [
             0.4444444444444444,
             "#bd3786"
            ],
            [
             0.5555555555555556,
             "#d8576b"
            ],
            [
             0.6666666666666666,
             "#ed7953"
            ],
            [
             0.7777777777777778,
             "#fb9f3a"
            ],
            [
             0.8888888888888888,
             "#fdca26"
            ],
            [
             1,
             "#f0f921"
            ]
           ]
          },
          "colorway": [
           "#636efa",
           "#EF553B",
           "#00cc96",
           "#ab63fa",
           "#FFA15A",
           "#19d3f3",
           "#FF6692",
           "#B6E880",
           "#FF97FF",
           "#FECB52"
          ],
          "font": {
           "color": "#2a3f5f"
          },
          "geo": {
           "bgcolor": "white",
           "lakecolor": "white",
           "landcolor": "#E5ECF6",
           "showlakes": true,
           "showland": true,
           "subunitcolor": "white"
          },
          "hoverlabel": {
           "align": "left"
          },
          "hovermode": "closest",
          "mapbox": {
           "style": "light"
          },
          "paper_bgcolor": "white",
          "plot_bgcolor": "#E5ECF6",
          "polar": {
           "angularaxis": {
            "gridcolor": "white",
            "linecolor": "white",
            "ticks": ""
           },
           "bgcolor": "#E5ECF6",
           "radialaxis": {
            "gridcolor": "white",
            "linecolor": "white",
            "ticks": ""
           }
          },
          "scene": {
           "xaxis": {
            "backgroundcolor": "#E5ECF6",
            "gridcolor": "white",
            "gridwidth": 2,
            "linecolor": "white",
            "showbackground": true,
            "ticks": "",
            "zerolinecolor": "white"
           },
           "yaxis": {
            "backgroundcolor": "#E5ECF6",
            "gridcolor": "white",
            "gridwidth": 2,
            "linecolor": "white",
            "showbackground": true,
            "ticks": "",
            "zerolinecolor": "white"
           },
           "zaxis": {
            "backgroundcolor": "#E5ECF6",
            "gridcolor": "white",
            "gridwidth": 2,
            "linecolor": "white",
            "showbackground": true,
            "ticks": "",
            "zerolinecolor": "white"
           }
          },
          "shapedefaults": {
           "line": {
            "color": "#2a3f5f"
           }
          },
          "ternary": {
           "aaxis": {
            "gridcolor": "white",
            "linecolor": "white",
            "ticks": ""
           },
           "baxis": {
            "gridcolor": "white",
            "linecolor": "white",
            "ticks": ""
           },
           "bgcolor": "#E5ECF6",
           "caxis": {
            "gridcolor": "white",
            "linecolor": "white",
            "ticks": ""
           }
          },
          "title": {
           "x": 0.05
          },
          "xaxis": {
           "automargin": true,
           "gridcolor": "white",
           "linecolor": "white",
           "ticks": "",
           "title": {
            "standoff": 15
           },
           "zerolinecolor": "white",
           "zerolinewidth": 2
          },
          "yaxis": {
           "automargin": true,
           "gridcolor": "white",
           "linecolor": "white",
           "ticks": "",
           "title": {
            "standoff": 15
           },
           "zerolinecolor": "white",
           "zerolinewidth": 2
          }
         }
        },
        "title": {
         "text": "Affordable Housing for Families funded by HCIDLA"
        }
       }
      },
      "text/html": [
       "<div>                            <div id=\"945afa54-4410-48c5-8ee8-45cd72d8f737\" class=\"plotly-graph-div\" style=\"height:525px; width:100%;\"></div>            <script type=\"text/javascript\">                require([\"plotly\"], function(Plotly) {                    window.PLOTLYENV=window.PLOTLYENV || {};                                    if (document.getElementById(\"945afa54-4410-48c5-8ee8-45cd72d8f737\")) {                    Plotly.newPlot(                        \"945afa54-4410-48c5-8ee8-45cd72d8f737\",                        [{\"customdata\": [[\"FAMILY\", \"1145 E 24TH ST CA 90011\"], [\"FAMILY\", \"4817 W SATURN ST CA 90019\"], [\"FAMILY\", \"14630 W WYANDOTTE ST  VAN NUYS, CA 91405\"], [\"FAMILY\", \"839 W ADAMS BLVD 1-18 CA 90007\"], [\"FAMILY\", \"111 S AVENUE 63 CA 90042\"], [\"FAMILY\", \"3918 S LA SALLE AVE CA 90062\"], [\"FAMILY\", \"12831 N SAN FERNANDO ROAD CA 91342\"], [\"FAMILY\", \"1040 W 43RD ST CA 90037\"], [\"FAMILY\", \"5000 S MAIN ST CA 90037\"], [\"FAMILY\", \"2674 W JAMES M. WOOD BLVD CA 90006\"], [\"FAMILY\", \"649 N KINGSLEY DR CA 90004\"], [\"FAMILY\", \"2521 S JULIET ST CA 90007\"], [\"FAMILY\", \"1229 N BRONSON AVE 1-32  HOLLYWOOD, CA 90038\"], [\"FAMILY\", \"44 ST JAMES ST  Los Angeles, CA 90007\"], [\"FAMILY\", \"2851 E CHAUCER ST  LOS ANGELES, CA 90065\"], [\"FAMILY\", \"3881 S DENKER AVE CA 90062\"], [\"FAMILY\", \"101 N BOYLE AVE CA 90033\"], [\"FAMILY\", \"825 W ADAMS BLVD CA 90007\"], [\"FAMILY\", \"137 N SOTO ST 1-20 CA 90033\"], [\"FAMILY\", \"4201 S CENTRAL AVE CA 90011\"], [\"FAMILY\", \"1141 N WESTMORELAND AVE CA 90029\"], [\"FAMILY\", \"5220 N HARMONY AVE CA 91601\"], [\"FAMILY\", \"10424 S CENTRAL AVE 1-49 CA 90002\"], [\"FAMILY\", \"952 N HARVARD BLVD 1-40  LOS ANGELES, CA 90029\"], [\"FAMILY\", \"2210 S LA SALLE AVE CA 90018\"], [\"FAMILY\", \"116 S WITMER ST CA 90026\"], [\"FAMILY\", \"1315 W 7TH ST CA 90017\"], [\"FAMILY\", \"450 S HARTFORD AVE CA 90017\"], [\"FAMILY\", \"14045 W OXNARD ST  VAN NUYS, CA 91401\"], [\"FAMILY\", \"1310 W 177TH ST CA 90248\"], [\"FAMILY\", \"5101 S BROADWAY 1-50 CA 90037\"], [\"FAMILY\", \"1515 N SAN FERNANDO ROAD 1-87 CA 90031\"], [\"FAMILY\", \"621 W 81ST ST 1-11 CA 90044\"], [\"FAMILY\", \"3740 W EVANS ST CA 90027\"], [\"FAMILY\", \"4915 S VERMONT AVE 1-49 CA 90037\"], [\"FAMILY\", \"501 S BONNIE BRAE ST  Los Angeles, CA 90057\"], [\"FAMILY\", \"1320 W SUNSET BLVD 1-33 CA 90026\"], [\"FAMILY\", \"2851 E CHAUCER ST  LOS ANGELES, CA 90065\"], [\"FAMILY\", \"1350 S BONNIE BRAE ST CA 90006\"], [\"FAMILY\", \"204 S LUCAS AVE 1-21 CA 90026\"], [\"FAMILY\", \"3215 W PICO BLVD CA 90019\"], [\"FAMILY\", \"9247 N VAN NUYS BLVD 1-56 CA 91402\"], [\"FAMILY\", \"7219 S SAN PEDRO ST CA 90003\"], [\"FAMILY\", \"1020 S KINGSLEY DR CA 90006\"], [\"FAMILY\", \"230 W 88TH PL 1-12 CA 90003\"], [\"FAMILY\", \"2009 S OAK ST CA 90007\"], [\"FAMILY\", \"831 W 70TH ST 1-49 CA 90044\"], [\"FAMILY\", \"3035 N SIERRA ST CA 90031\"], [\"FAMILY\", \"1311 N SAN FERNANDO RD  Los Angeles, CA 90065\"], [\"FAMILY\", \"651 E 108TH ST CA 90059\"], [\"FAMILY\", \"1601 N HOBART BLVD CA 90027\"], [\"FAMILY\", \"2714 S ORCHARD AVE CA 90007\"], [\"FAMILY\", \"801 W 23RD ST CA 90007\"], [\"FAMILY\", \"1253 W 39TH ST CA 90037\"], [\"FAMILY\", \"1130 S WEST BLVD CA 90019\"], [\"FAMILY\", \"5217 W MARATHON ST CA 90038\"], [\"FAMILY\", \"1553 N GORDON ST  HOLLYWOOD, CA 90028\"], [\"FAMILY\", \"1811 W 36TH PL CA 90018\"], [\"FAMILY\", \"306 W 120TH ST CA 90061\"], [\"FAMILY\", \"1801 N ALEXANDRIA AVE CA 90027\"], [\"FAMILY\", \"8300 S HOOVER ST CA 90044\"], [\"FAMILY\", \"1521 W PICO BLVD 1-56 CA 90015\"], [\"FAMILY\", \"1750 W MARTIN LUTHER KING BLVD  LOS ANGELES, CA 90062\"], [\"FAMILY\", \"3023 S WESTERN AVE CA 90018\"], [\"FAMILY\", \"18425 W KITTRIDGE ST CA 91335\"], [\"FAMILY\", \"1327 S CATALINA ST CA 90006\"], [\"FAMILY\", \"12015 S FIGUEROA ST 1-21 CA 90061\"], [\"FAMILY\", \"1421 W TEMPLE ST 1-52 CA 90026\"], [\"FAMILY\", \"222 N AVENUE 23  LOS ANGELES, CA 90031\"], [\"FAMILY\", \"1835 W 25TH ST CA 90018\"], [\"FAMILY\", \"7135 N WILBUR AVE CA 91335\"], [\"FAMILY\", \"5312 E ALMONT ST CA 90032\"], [\"FAMILY\", \"825 S GREEN AVE CA 90017\"], [\"FAMILY\", \"4100 S VERMONT AVE  LOS ANGELES, CA 90037\"], [\"FAMILY\", \"1810 S MAGNOLIA AVE CA 90006\"], [\"FAMILY\", \"1077 W 38TH ST  LOS ANGELES, CA 90037\"], [\"FAMILY\", \"1063 W 39TH PL CA 90037\"], [\"FAMILY\", \"1924 N ARGYLE AVE CA 90068\"], [\"FAMILY\", \"117 S BOYLE AVE CA 90033\"], [\"FAMILY\", \"814 E 29TH ST  Los Angeles, CA 90011\"], [\"FAMILY\", \"2851 E CHAUCER ST  LOS ANGELES, CA 90065\"], [\"FAMILY\", \"4251 S CENTRAL AVE CA 90011\"], [\"FAMILY\", \"9618 N VAN NUYS BLVD 1-55 CA 91402\"], [\"FAMILY\", \"715-721 YALE ST  Los Angeles, CA 90012\"], [\"FAMILY\", \"1317 E 23RD ST CA 90011\"], [\"FAMILY\", \"2131 S HOOVER ST CA 90007\"], [\"FAMILY\", \"2114 W CLINTON ST 1-36 CA 90026\"], [\"FAMILY\", \"3416 E MANITOU AVE CA 90031\"], [\"FAMILY\", \"10648 S CENTRAL AVE CA 90002\"], [\"FAMILY\", \"900 N NORTH BROADWAY CA 90012\"], [\"FAMILY\", \"12059 W OSBORNE ST CA 91331\"], [\"FAMILY\", \"100 S SANTA FE AVE CA 90012\"], [\"FAMILY\", \"15455 GLENOAKS BLVD  LOS ANGELES, CA 91342\"], [\"FAMILY\", \"2607 S MANSFIELD AVE CA 90016\"], [\"FAMILY\", \"9315 S FIRTH BLVD 1-8  Los Angeles, CA 90002\"], [\"FAMILY\", \"4900 S FIGUEROA ST 1-49 CA 90037\"], [\"FAMILY\", \"11050 W ARMINTA ST CA 91352\"], [\"FAMILY\", \"319 N CUMMINGS ST CA 90033\"], [\"FAMILY\", \"2301 N HUMBOLDT ST CA 90031\"], [\"FAMILY\", \"1077 W 38TH ST  LOS ANGELES, CA 90037\"], [\"FAMILY\", \"8025 N RESEDA BLVD CA 91335\"], [\"FAMILY\", \"9311 N SEPULVEDA BLVD 1-4 CA 91343\"], [\"FAMILY\", \"2815 S WEST BLVD CA 90016\"], [\"FAMILY\", \"601 W 40TH PL CA 90037\"], [\"FAMILY\", \"2419 E 1ST ST CA 90033\"], [\"FAMILY\", \"540 S NORMANDIE AVE 1-66 CA 90020\"], [\"FAMILY\", \"12415 N SAN FERNANDO RD  SYLMAR, CA 91342\"], [\"FAMILY\", \"1010 E JEFFERSON BLVD  LOS ANGELES, CA 90011\"], [\"FAMILY\", \"3422 E MANITOU AVE CA 90031\"], [\"FAMILY\", \"7512 S SAN PEDRO ST 1-4 CA 90003\"], [\"FAMILY\", \"142 W SANTA CRUZ ST 1-49  SAN PEDRO, CA 90731\"], [\"FAMILY\", \"4225 S CENTRAL AVE CA 90011\"], [\"FAMILY\", \"2851 E CHAUCER ST  LOS ANGELES, CA 90065\"], [\"FAMILY\", \"111 W 99TH ST 1-4 CA 90003\"], [\"FAMILY\", \"153 N GLENDALE BLVD 1-45 CA 90026\"], [\"FAMILY\", \"1721 W 8TH ST CA 90017\"], [\"FAMILY\", \"2818 W LEEWARD AVE CA 90005\"], [\"FAMILY\", \"3030 W SAN MARINO ST CA 90006\"], [\"FAMILY\", \"636 E 108TH ST 1-4 CA 90059\"], [\"FAMILY\", \"1230 S MENLO AVE CA 90006\"], [\"FAMILY\", \"1348 W INGRAHAM ST CA 90017\"], [\"FAMILY\", \"7250 N HAZELTINE AVE  VAN NUYS, CA 91405\"], [\"FAMILY\", \"1514 W 20TH ST CA 90007\"], [\"FAMILY\", \"5950 Main ST  Los Angeles, CA 90003\"], [\"FAMILY\", \"772 N VAN NESS AVE CA 90038\"], [\"FAMILY\", \"960 W 62ND PL CA 90044\"], [\"FAMILY\", \"2425 W JEFFERSON BLVD CA 90018\"], [\"FAMILY\", \"9700 N LAUREL CANYON BLVD  PACOIMA, CA 91331\"], [\"FAMILY\", \"1544 N SERRANO AVE  LOS ANGELES, CA 90027\"], [\"FAMILY\", \"1071 E 48th ST  Los Angeles, CA 90011\"], [\"FAMILY\", \"225 N VERMONT AVE CA 90004\"], [\"FAMILY\", \"3960 S GRAND VIEW BLVD 1-27 CA 90066\"], [\"FAMILY\", \"959 S ARDMORE AVE CA 90006\"], [\"FAMILY\", \"1134 W 17TH ST 1-28 CA 90015\"], [\"FAMILY\", \"13230 N BROMONT AVE  SYLMAR, CA 91342\"], [\"FAMILY\", \"1745 W 20th  Los Angeles, CA 90007\"], [\"FAMILY\", \"201 S WITMER ST CA 90026\"], [\"FAMILY\", \"1526 W 12TH PL CA 90015\"], [\"FAMILY\", \"717 W EL SEGUNDO BLVD CA 90247\"], [\"FAMILY\", \"2809 S WEST BLVD CA 90016\"], [\"FAMILY\", \"743 S CARONDELET ST CA 90057\"], [\"FAMILY\", \"4520 S FIGUEROA ST 1-21 CA 90037\"], [\"FAMILY\", \"1901 W 6TH ST CA 90057\"], [\"FAMILY\", \"5221 S WESTERN AVE CA 90062\"], [\"FAMILY\", \"910 W FLORENCE AVE 1-20  LOS ANGELES, CA 90044\"], [\"FAMILY\", \"1516 N SERRANO AVE  LOS ANGELES, CA 90027\"], [\"FAMILY\", \"1386 E 20TH ST CA 90011\"], [\"FAMILY\", \"10345 S CENTRAL AVE 1-43 CA 90002\"], [\"FAMILY\", \"2500 W 4TH ST CA 90057\"], [\"FAMILY\", \"710 W 30TH ST CA 90007\"], [\"FAMILY\", \"7939 N RESEDA BLVD  RESEDA, CA 91335\"], [\"FAMILY\", \"814 E 29TH ST  Los Angeles, CA 90011\"], [\"FAMILY\", \"13044 W SHERMAN WAY CA 91605\"], [\"FAMILY\", \"417 N HAWAIIAN AVE CA 90744\"], [\"FAMILY\", \"9311-9345 Sepulveda Blvd., 91343\"], [\"FAMILY\", \"1060 E 53RD ST CA 90011\"], [\"FAMILY\", \"6501 W YUCCA ST  HOLLYWOOD, CA 90028\"], [\"FAMILY\", \"456 S LAKE ST CA 90057\"], [\"FAMILY\", \"3000 N VERDUGO ROAD 1-50 CA 90065\"], [\"FAMILY\", \"9901 S ALAMEDA ST  LOS ANGELES, CA 90002\"], [\"FAMILY\", \"100 S GRAND AVE CA 90012\"], [\"FAMILY\", \"811 N HELIOTROPE DR CA 90029\"], [\"FAMILY\", \"681 S BONNIE BRAE ST CA 90057\"], [\"FAMILY\", \"5425 W CARLTON WAY  HOLLYWOOD, CA 90027\"], [\"FAMILY\", \"1206 E 105TH ST  Los Angeles, CA 90002\"], [\"FAMILY\", \"5050 N SEPULVEDA BLVD CA 91403\"], [\"FAMILY\", \"2375 S SCARFF ST CA 90007\"], [\"FAMILY\", \"535 W EL SEGUNDO BLVD CA 90248\"], [\"FAMILY\", \"34 ST JAMES PARK  Los Angeles, CA 90007\"], [\"FAMILY\", \"2101 E 101 ST  Los Angeles, CA 90002\"], [\"FAMILY\", \"201 S LAKE ST 1-46 CA 90057\"], [\"FAMILY\", \"1301 W COURT ST CA 90026\"], [\"FAMILY\", \"4612 W LEXINGTON AVE CA 90029\"], [\"FAMILY\", \"10006 S BROADWAY CA 90003\"], [\"FAMILY\", \"7507 N SIMPSON AVE CA 91605\"], [\"FAMILY\", \"10510 S AVALON BLVD  Los Angeles, CA 90002\"], [\"FAMILY\", \"1546 W 11TH PL CA 90015\"], [\"FAMILY\", \"1927 W 6TH ST 1-51 CA 90057\"], [\"FAMILY\", \"1401 S ARLINGTON AVE CA 90019\"], [\"FAMILY\", \"1721 N KINGSLEY DR  LOS ANGELES, CA 90027\"], [\"FAMILY\", \"1805 N SICHEL ST 1-37 CA 90031\"], [\"FAMILY\", \"1682 W 12TH PL CA 90015\"], [\"FAMILY\", \"733 E 108TH ST CA 90059\"], [\"FAMILY\", \"2501 W 6TH ST CA 90057\"], [\"FAMILY\", \"9800 S GRAPE ST CA 90002\"], [\"FAMILY\", \"1554 N SERRANO AVE  LOS ANGELES, CA 90027\"], [\"FAMILY\", \"10915 S FIGUEROA ST CA 90061\"], [\"FAMILY\", \"816 S CARONDELET ST 1-33 CA 90057\"], [\"FAMILY\", \"732 E 108TH ST CA 90059\"], [\"FAMILY\", \"8955 N ORION AVE 1-32 CA 91343\"], [\"FAMILY\", \"3922 W 27TH ST CA 90018\"], [\"FAMILY\", \"1733 W 58TH ST CA 90062\"], [\"FAMILY\", \"2730 S NORMANDIE AVE CA 90007\"], [\"FAMILY\", \"418 N EAST EDGEWARE ROAD CA 90026\"], [\"FAMILY\", \"1400 S KENMORE AVE CA 90006\"], [\"FAMILY\", \"5400 W HOLLYWOOD BLVD CA 90027\"], [\"FAMILY\", \"2828 S WEST BLVD CA 90016\"], [\"FAMILY\", \"3817 S WISCONSIN ST CA 90037\"], [\"FAMILY\", \"3411 S CRENSHAW BLVD CA 90016\"], [\"FAMILY\", \"3555 E WHITTIER BLVD 1-60 CA 90023\"], [\"FAMILY\", \"1255 S ELDEN AVE CA 90006\"], [\"FAMILY\", \"2620 S ORCHARD AVE CA 90007\"], [\"FAMILY\", \"12010 S VERMONT AVE CA 90044\"], [\"FAMILY\", \"12129 N EL DORADO AVE CA 91342\"], [\"FAMILY\", \"516 S UNION AVE CA 90017\"], [\"FAMILY\", \"731 S BEACON AVE CA 90017\"], [\"FAMILY\", \"5417 S FIGUEROA ST 1-21 CA 90037\"], [\"FAMILY\", \"621 W 84TH ST 1-5 CA 90044\"], [\"FAMILY\", \"1011 E ADAMS BLVD 1-80 CA 90011\"], [\"FAMILY\", \"225 S GRAND AVE CA 90012\"], [\"FAMILY\", \"445 S LUCAS AVE CA 90017\"], [\"FAMILY\", \"11735 W HAMLIN ST CA 91606\"], [\"FAMILY\", \"2020 E 97TH ST  LOS ANGELES, CA 90002\"], [\"FAMILY\", \"1116 W D ST CA 90744\"], [\"FAMILY\", \"120 W 78TH ST 1-4 CA 90003\"], [\"FAMILY\", \"2747 N NEWELL ST CA 90039\"], [\"FAMILY\", \"8318 S MAIN ST CA 90003\"], [\"FAMILY\", \"924 S HOBART BLVD 1-49 CA 90006\"], [\"FAMILY\", \"219 E 87TH PL CA 90003\"], [\"FAMILY\", \"4829 W LEXINGTON AVE CA 90029\"], [\"FAMILY\", \"722 E WASHINGTON BLVD CA 90011\"], [\"FAMILY\", \"981 W HARBOR VILLAGE DR CA 90710\"], [\"FAMILY\", \"1151 E 20TH ST CA 90011\"], [\"FAMILY\", \"115 N SOTO ST CA 90033\"], [\"FAMILY\", \"425 N WILMINGTON BLVD CA 90744\"], [\"FAMILY\", \"240 S WESTLAKE AVE CA 90057\"], [\"FAMILY\", \"4080 S VERMONT AVE  LOS ANGELES, CA 90037\"], [\"FAMILY\", \"522 S UNION AVE CA 90017\"], [\"FAMILY\", \"10634 S CENTRAL AVE CA 90002\"], [\"FAMILY\", \"10607 S KALMIA ST CA 90002\"], [\"FAMILY\", \"5426 W SIERRA VISTA AVE CA 90038\"], [\"FAMILY\", \"1511 S ST ANDREWS PL 1-43 CA 90019\"], [\"FAMILY\", \"451 S LUCAS AVE CA 90017\"], [\"FAMILY\", \"1328 W JAMES M. WOOD BLVD 1-18 CA 90015\"], [\"FAMILY\", \"1315 E 21ST ST 201-221 CA 90011\"], [\"FAMILY\", \"975 S SERRANO AVE 1-6 CA 90006\"]], \"hovertemplate\": \"<b>%{hovertext}</b><br><br>SITE LATITUDE=%{lat}<br>SITE LONGITUDE=%{lon}<br>HOUSING TYPE=%{customdata[0]}<br>SITE ADDRESS=%{customdata[1]}<extra></extra>\", \"hovertext\": [\"LEXINGTON APARTMENTS A/B (SITE 11)\", \"WINDWARD APTS (A/B) (SITE 4)\", \"HAZELTINE & WYANDOTTE (SITE 2)\", \"ST. JAMES PARK\", \"HDR I & II (SITE 8)\", \"LEEWARD APTS. (SITE 9)\", \"SEVEN PALMS APTS.\", \"HDR I & II (SITE 2)\", \"PALOMA TERRACE\", \"CONCORD APARTMENTS (GRP. A & B) (SITE 5)\", \"LEXINGTON APARTMENTS A/B (SITE 2)\", \"LEXINGTON APARTMENTS A/B (SITE 6)\", \"BRONSON COURTS\", \"ST. JAMES PARK (SITE 3)\", \"PARQUE VISTA - 2851 E. CHAUCER ST. (SITE 2)\", \"WINDWARD APTS (A/B) (SITE 7)\", \"BOYLE HOTEL\", \"ST. JAMES PARK (SITE 4)\", \"LAS MARGARITAS\", \"DUNBAR VILLAGE (SITE 2)\", \"LEXINGTON APARTMENTS A/B (SITE 3)\", \"HARMONY GATES (RECAP)\", \"IMANI FE EAST & WEST\", \"HARVARD CIRCLE\", \"WINDWARD APTS (A/B) (SITE 20)\", \"WITMER HEIGHTS\", \"CRESCENT VILLAGES (RECAP) (SITE 2)\", \"ANDALUCIA HEIGHTS\", \"VIVIENDAS DEL VALLE (RECAP)\", \"SAGE PARK\", \"BROADWAY VILLAGE II\", \"RIO VISTA APARTMENTS\", \"WINDWARD APTS (A/B) (SITE 3)\", \"SILVERLAKE APARTMENTS\", \"VERMONT AVENUE APARTMENTS\", \"BONNIE BRAE APARTMENT HOMES\", \"FIGUEROA PLACE\", \"PARQUE VISTA - 2851 E. CHAUCER ST.\", \"CONCORD APARTMENTS (GRP. A & B) (SITE 9)\", \"CORONITA FAMILY\", \"PICO GRAMERCY APTS.\", \"TOBIAS TERRACE APARTMENTS\", \"LEXINGTON APARTMENTS A/B (SITE 7)\", \"PROFESSIONAL HSG. & DEV. APTS. (PH & D)\", \"LEEWARD APTS.\", \"NORWOOD LEARNING VILLAGE\", \"MENLO PARK\", \"LEXINGTON APARTMENTS A/B\", \"TAYLOR YARD APARTMENTS\", \"WINDWARD APTS (A/B) (SITE 13)\", \"CORONEL APARTMENTS\", \"HDR I & II (SITE 5)\", \"ALEGRIA APARTMENTS\", \"WINDWARD APTS (A/B) (SITE 6)\", \"LEEWARD APTS. (SITE 10)\", \"QUEEN APARTMENTS (SITE 2)\", \"THE GORDON\", \"LEEWARD APTS. (SITE 6)\", \"MAYA TOWNHOMES\", \"CONCORD APARTMENTS (GRP. A & B) (SITE 4)\", \"MARTHA BRYANT MANOR- RECAP\", \"MOSAIC APARTMENTS\", \"FLORENCE MOREHOUSE (RECAP) (SITE 2)\", \"JEFFERSON PARK TERRACE\", \"RIVERWALK AT RESEDA\", \"ROYALS APARTMENTS (SITE 3)\", \"MY TOWN HOMES\", \"TEMPLE VILLAS\", \"FLORES DEL VALLE\", \"LEXINGTON APARTMENTS A/B (SITE 10)\", \"SHERMAN VILLAGE\", \"CUATRO VIENTOS\", \"LEASTER APARTMENTS\", \"WEST A HOMES (RECAP) (SITE 2)\", \"PROFESSIONAL HSG. & DEV. APTS. (PH & D) (SITE 5)\", \"ROLLAND CURTIS EAST\", \"HDR I & II (SITE 3)\", \"HCHC RECAP I\", \"SANTA CECILIA APARTMENTS\", \"THE CROSSING ON 29TH ST.\", \"PARQUE VISTA - 2851 E. CHAUCER ST. (SITE 2)\", \"DUNBAR VILLAGE (SITE 3)\", \"VILLAS LAS AMERICAS\", \"YALE STREET FAMILY HOUSING\", \"LEXINGTON APARTMENTS A/B (SITE 14)\", \"WINDWARD APTS (A/B)\", \"CLINTON FAMILY APTS.\", \"MANITOU VISTAS II\", \"LEEWARD APTS. (SITE 13)\", \"BLOSSOM PLAZA\", \"OSBORNE STREET APARTMENTS\", \"ONE SANTA FE\", \"OAKRIDGE FAMILY HOMES\", \"LEXINGTON APARTMENTS A/B (SITE 8)\", \"MCCOY PLAZA APARTMENTS\", \"CASA DE ANGELES\", \"ARMINTA SQUARE\", \"LAS MARGARITAS (SITE 3)\", \"TESORO DEL VALLE\", \"ROLLAND CURTIS WEST\", \"CORAL WOOD COURT\", \"CROSSINGS AT NORTH HILLS\", \"WINDWARD APTS (A/B) (SITE 5)\", \"GILBERT LINDSAY RECAP\", \"CIELITO LINDO (1ST AND SOTO APTS I)\", \"NORMANDIE TERRACE APARTMENT HOMES\", \"SYLMAR COURT APTS.\", \"PAUL WILLIAMS FAMILY APARTMENTS\", \"MANITOU VISTAS I\", \"WINDWARD APTS (A/B) (SITE 15)\", \"TOBERMAN VILLAGE / AKA VISTA ALEGRE\", \"DUNBAR VILLAGE\", \"PARQUE VISTA - 2851 E. CHAUCER ST.\", \"WINDWARD APTS (A/B) (SITE 16)\", \"PWC FAMILY HOUSING\", \"CRESCENT VILLAGES (RECAP)\", \"LEEWARD APTS. (SITE 4)\", \"CONCORD APARTMENTS (GRP. A & B) (SITE 6)\", \"WINDWARD APTS (A/B) (SITE 14)\", \"MENLO FAMILY HOUSING\", \"CONCORD APARTMENTS (GRP. A & B)\", \"HAZELTINE & WYANDOTTE\", \"WINDWARD APTS (A/B) (SITE 2)\", \"MAIN STREET VISTAS\", \"ROYALS APARTMENTS (SITE 2)\", \"PARK PLAZA (PLAZA VERMONT)\", \"JEFFERSON BLVD & FIFTH AVE. APARTMENTS\", \"LAUREL VILLAGE (RECAP)\", \"HOLLYWOOD BUNGALOW COURTS (SITE 3)\", \"ONE WILKINS PLACE (RECAP)\", \"MERIDIAN APARTMENTS\", \"VISTA BALLONA\", \"THE ARDMORE\", \"LEEWARD APTS. (SITE 3)\", \"VIVIENDAS DEL VALLE (RECAP) (SITE 3)\", \"PROFESSIONAL HSG. & DEV. APTS. (PH & D) (SITE 4)\", \"WITMER MANOR PRESERVATION APTS.\", \"MOSAIC APARTMENTS\", \"ROYALS APARTMENTS\", \"LEEWARD APTS. (SITE 7)\", \"CONCORD APARTMENTS (GRP. A & B) (SITE 3)\", \"MANSI TOWN HOMES\", \"THE PASEO AT CALIFORNIAN\", \"MIRAGE TOWN HOMES\", \"FLORENCE MOREHOUSE (RECAP)\", \"HOLLYWOOD BUNGALOW COURTS (SITE 2)\", \"LEXINGTON APARTMENTS A/B (SITE 12)\", \"IMANI FE EAST & WEST (SITE 2)\", \"NEW PARK PLACE (RECAP)\", \"WINDWARD APTS (A/B) (SITE 10)\", \"VIVIENDAS DEL VALLE (RECAP) (SITE 2)\", \"THE CROSSING ON 29TH ST.\", \"COLONIA CORONA APTS\", \"CAMINO DEL MAR\", \"CROSSINGS AT NORTH HILLS\", \"CENTRAL AVENUE VILLAGE SQUARE (RECAP)\", \"HCHC RECAP I (SITE 3)\", \"VILLAS DEL LAGO\", \"GLASSELL PARK COMMUNITY HSG/AKA RIO VISTA APT\", \"JORDAN DOWNS PHASE 1A\", \"GRAND AVENUE PARCEL Q APTS.\", \"HDR I & II (SITE 6)\", \"MACARTHUR PARK METRO APTS-PHASE A\", \"HCHC RECAP I (SITE 2)\", \"LEEWARD APTS. (SITE 11)\", \"ORANGE WOOD COURT\", \"HDR I & II (SITE 4)\", \"EL SEGUNDO APARTMENTS\", \"ST. JAMES PARK (SITE 2)\", \"JORDAN DOWNS PHASE S3\", \"MAGNOLIA ON LAKE\", \"COURT STREET APTS.\", \"LEXINGTON APARTMENTS A/B (SITE 4)\", \"MILAN TOWN HOMES\", \"SIMPSON ARBOR APARTMENTS\", \"LEEWARD APTS. (SITE 15)\", \"CONCORD APARTMENTS (GRP. A & B) (SITE 8)\", \"HISTORIC BARBIZON HOTEL APTS.\", \"PROFESSIONAL HSG. & DEV. APTS. (PH & D) (SITE 3)\", \"HOLLYWOOD BUNGALOW COURTS\", \"SICHEL FAMILY APARTMENTS\", \"CONCORD APARTMENTS (GRP. A & B) (SITE 7)\", \"WINDWARD APTS (A/B) (SITE 11)\", \"ASBURY\", \"JORDAN DOWNS AREA H (PH 2B)\", \"HOLLYWOOD BUNGALOW COURTS (SITE 4)\", \"LEEWARD APTS. (SITE 2)\", \"CARONDELET COURT APT HOMES\", \"WINDWARD APTS (A/B) (SITE 12)\", \"ORION GARDENS APARTMENTS\", \"WINDWARD APTS (A/B) (SITE 9)\", \"HDR I & II\", \"WINDWARD APTS (A/B) (SITE 8)\", \"VISTA ANGELINA\", \"PROFESSIONAL HSG. & DEV. APTS. (PH & D) (SITE 2)\", \"5400 HOLLYWOOD FAMILY APARTMENTS\", \"LEEWARD APTS. (SITE 8)\", \"ROYALS APARTMENTS (SITE 4)\", \"CRENSHAW GARDENS\", \"THE WHITTIER\", \"WESTMORE ELDEN ELMS PH2\", \"QUEEN APARTMENTS\", \"ACADEMY HALL\", \"EL DORADO FAMILY APARTMENTS\", \"QUEEN APARTMENTS (SITE 5)\", \"CRESCENT VILLAGES (RECAP) (SITE 3)\", \"MIMMIM TOWN HOMES\", \"WINDWARD APTS (A/B) (SITE 18)\", \"ADAMS AND CENTRAL MIX-USE\", \"PARCEL M-GRAND AVE.\", \"QUEEN APARTMENTS (SITE 3)\", \"HAMLIN ESTATES\", \"JORDAN DOWNS PHASE 1B\", \"VISTA DEL MAR\", \"WINDWARD APTS (A/B) (SITE 19)\", \"HDR I & II (SITE 7)\", \"LEEWARD APTS. (SITE 14)\", \"THE HOBART / AKA HOBART HEIGHTS APT. HOMES\", \"WINDWARD APTS (A/B) (SITE 17)\", \"LEXINGTON APARTMENTS A/B (SITE 5)\", \"WASHINGTON 722 TOD\", \"HARBOR VILLAGE APARTMENTS\", \"LEXINGTON APARTMENTS A/B (SITE 13)\", \"LAS MARGARITAS (SITE 2)\", \"NEW DANA STRAND TOWNHOMES\", \"MIRAMAR VILLAGE\", \"WEST A HOMES (RECAP)\", \"CONCORD APARTMENTS (GRP. A & B) (SITE 2)\", \"LEEWARD APTS. (SITE 12)\", \"LEXINGTON APARTMENTS A/B (SITE 9)\", \"LEEWARD APTS. (SITE 5)\", \"ST. ANDREWS\", \"QUEEN APARTMENTS (SITE 4)\", \"JAMES WOOD APARTMENTS\", \"CENTRAL VILLAGE APTS.\", \"THE SERRANO\"], \"lat\": [34.02133, 34.044290000000004, 34.202890000000004, 34.030429999999996, 34.11442, 34.01386, 34.303059999999995, 34.00538, 33.997279999999996, 34.05575, 34.08313, 34.03314, 34.09365, 34.031220000000005, 34.09515, 34.01493, 34.04739, 34.030429999999996, 34.04486, 34.00744, 34.09207, 34.16575, 33.94133, 34.0884, 34.035990000000005, 34.06173, 34.052690000000005, 34.05706, 34.17953, 33.87019, 33.996340000000004, 34.09729, 33.96563, 34.106609999999996, 33.99832, 34.05924, 34.071999999999996, 34.09515, 34.04459, 34.06047, 34.0475, 34.238620000000004, 33.97405, 34.051970000000004, 33.95635, 34.03517, 33.97648, 34.08183, 34.09422, 33.93844, 34.10001, 34.029759999999996, 34.032509999999995, 34.01563, 34.05356, 34.085, 34.09966, 34.02198, 33.92348, 34.1036, 33.96297, 34.0449, 34.01068, 34.02708, 34.190329999999996, 34.04642, 33.923159999999996, 34.06759, 34.07842, 34.03376, 34.20032, 34.09185, 34.05105, 34.00887, 34.04098, 34.018029999999996, 34.01426, 34.10601, 34.04704, 34.01762, 34.09515, 34.00649, 34.245, 34.061890000000005, 34.020559999999996, 34.03613, 34.073809999999995, 34.07183, 33.93916, 34.06469, 34.272940000000006, 34.047979999999995, 34.324020000000004, 34.03212, 33.952, 33.9982, 34.213770000000004, 34.04789, 34.07925, 34.018029999999996, 34.216159999999995, 34.240390000000005, 34.030559999999994, 34.01097, 34.043490000000006, 34.06411, 34.29591, 34.01202, 34.07189, 33.97167, 33.74429, 34.00692, 34.09515, 33.94658, 34.06346, 34.05339, 34.0586, 34.05431, 33.93817, 34.04815, 34.05357, 34.20292, 34.038000000000004, 33.98525, 34.08514, 33.98218, 34.02575, 34.24745, 34.099579999999996, 34.000659999999996, 34.07571, 34.00193, 34.053779999999996, 34.040929999999996, 34.31123, 34.03824, 34.06082, 34.0449, 33.91659, 34.03071, 34.05733, 34.00221, 34.05891, 33.9944, 33.9744, 34.09897, 34.02167, 33.94227, 34.06419, 34.025890000000004, 34.21475, 34.01762, 34.201029999999996, 33.77406, 34.23957, 33.99418, 34.10413, 34.06145, 34.10548, 33.9467, 34.0549, 34.08628, 34.05652, 34.100629999999995, 33.94082, 34.16281, 34.03158, 33.916579999999996, 34.031209999999994, 33.94555, 34.0663, 34.0642, 34.09333, 33.9453, 34.206540000000004, 33.94056, 34.04672, 34.05898, 34.0461, 34.10262, 34.06411, 34.0465, 33.93843, 34.06158, 33.94596, 34.09988, 33.93688, 34.05618, 33.938159999999996, 34.23341, 34.03141, 33.98983, 34.029959999999996, 34.06597, 34.046279999999996, 34.1014, 34.03015, 34.01668, 34.025079999999996, 34.02612, 34.04805, 34.032, 33.92323, 34.290259999999996, 34.05794, 34.053779999999996, 33.99255, 33.962270000000004, 34.0193, 34.05388, 34.05632, 34.18884, 33.94596, 33.77336, 33.96877, 34.10088, 33.96322, 34.05502, 33.95817, 34.093540000000004, 34.027120000000004, 33.79288, 34.02466, 34.04422, 33.77483, 34.063590000000005, 34.0094, 34.057829999999996, 33.93947, 33.939409999999995, 34.089420000000004, 34.04492, 34.05619, 34.049170000000004, 34.02228, 34.053329999999995], \"legendgroup\": \"\", \"lon\": [-118.25561, -118.34217, -118.45222, -118.28058999999999, -118.18298999999999, -118.30555, -118.46465, -118.29298, -118.2734, -118.28622, -118.30356, -118.29553, -118.3181, -118.2807, -118.23371000000002, -118.30466000000001, -118.2202, -118.28058999999999, -118.20946, -118.25688000000001, -118.28791000000001, -118.36633, -118.25393000000001, -118.30371000000001, -118.30564, -118.26086000000001, -118.26808999999999, -118.26328000000001, -118.43916999999999, -118.29781000000001, -118.27895, -118.23376999999999, -118.28495, -118.2743, -118.29191000000002, -118.27228999999998, -118.25105, -118.23371000000002, -118.28066000000001, -118.26005, -118.31286999999999, -118.45063999999999, -118.26973000000001, -118.30298, -118.27723999999999, -118.27903, -118.28818000000001, -118.20116999999999, -118.23058999999999, -118.26337, -118.3058, -118.2873, -118.27763999999999, -118.29915, -118.33163, -118.3121, -118.31978000000001, -118.31231000000001, -118.27847, -118.29852, -118.28691, -118.27557, -118.31031999999999, -118.30906, -118.53458, -118.29489, -118.28301, -118.25743999999999, -118.21857, -118.30421000000001, -118.54502, -118.16525, -118.27167, -118.29137, -118.28623999999999, -118.2942, -118.29382, -118.32508999999999, -118.22011, -118.26081, -118.23371000000002, -118.25668999999999, -118.45003, -118.24178, -118.25313999999999, -118.28424, -118.26686000000001, -118.20448999999999, -118.25393999999999, -118.23697, -118.39505, -118.23196999999999, -118.46988, -118.35251000000001, -118.24767, -118.28211, -118.37213999999999, -118.2138, -118.2195, -118.2942, -118.53627, -118.46799999999999, -118.34182, -118.28421999999999, -118.20893000000001, -118.30015, -118.45523999999999, -118.258, -118.20423000000001, -118.26936, -118.28107, -118.25668999999999, -118.23371000000002, -118.2746, -118.26018, -118.27418, -118.28476, -118.29567, -118.26373999999998, -118.29051000000001, -118.26853, -118.43982, -118.28931999999999, -118.27346000000001, -118.31558999999999, -118.29091000000001, -118.3219, -118.4184, -118.30696999999999, -118.25697, -118.29188, -118.42872, -118.30225, -118.2809, -118.43817, -118.29587, -118.26173999999999, -118.27557, -118.28773999999999, -118.34182, -118.28183999999999, -118.28243, -118.27231, -118.30909, -118.28967, -118.30696, -118.24932, -118.25448, -118.27741999999999, -118.2802, -118.53627, -118.26081, -118.4173, -118.27658000000001, -118.46796, -118.25716000000001, -118.33134, -118.27495, -118.23756999999999, -118.2289, -118.24805, -118.29512, -118.27507, -118.30776000000002, -118.25379, -118.46592, -118.28106000000001, -118.28399999999999, -118.28053, -118.23472, -118.2724, -118.25675, -118.29, -118.27796000000001, -118.38918999999999, -118.265, -118.27528000000001, -118.27323, -118.3179, -118.30363, -118.21305, -118.27908000000001, -118.2617, -118.27908000000001, -118.23653, -118.30696999999999, -118.2828, -118.28228999999999, -118.26173999999999, -118.47233999999999, -118.32793000000001, -118.30812, -118.30006999999999, -118.25492, -118.29687, -118.30734, -118.34156000000002, -118.29319, -118.33528999999999, -118.19678, -118.2879, -118.28731, -118.2914, -118.45103999999999, -118.26926, -118.27403000000001, -118.28298000000001, -118.28483, -118.25496000000001, -118.25078, -118.26297, -118.3893, -118.23653, -118.27463, -118.27479, -118.24507, -118.27371000000001, -118.30515, -118.27095, -118.29416, -118.25684, -118.2925, -118.25312, -118.20966999999999, -118.27448000000001, -118.26933999999999, -118.29138999999999, -118.26933999999999, -118.25393999999999, -118.23181000000001, -118.31026000000001, -118.31188, -118.26303999999999, -118.27, -118.25191000000001, -118.30653000000001], \"marker\": {\"color\": \"#636efa\"}, \"mode\": \"markers\", \"name\": \"\", \"showlegend\": false, \"subplot\": \"mapbox\", \"type\": \"scattermapbox\"}],                        {\"legend\": {\"tracegroupgap\": 0}, \"mapbox\": {\"center\": {\"lat\": 34.04669822033895, \"lon\": -118.29457072033895}, \"domain\": {\"x\": [0.0, 1.0], \"y\": [0.0, 1.0]}, \"style\": \"carto-positron\", \"zoom\": 8}, \"template\": {\"data\": {\"bar\": [{\"error_x\": {\"color\": \"#2a3f5f\"}, \"error_y\": {\"color\": \"#2a3f5f\"}, \"marker\": {\"line\": {\"color\": \"#E5ECF6\", \"width\": 0.5}}, \"type\": \"bar\"}], \"barpolar\": [{\"marker\": {\"line\": {\"color\": \"#E5ECF6\", \"width\": 0.5}}, \"type\": \"barpolar\"}], \"carpet\": [{\"aaxis\": {\"endlinecolor\": \"#2a3f5f\", \"gridcolor\": \"white\", \"linecolor\": \"white\", \"minorgridcolor\": \"white\", \"startlinecolor\": \"#2a3f5f\"}, \"baxis\": {\"endlinecolor\": \"#2a3f5f\", \"gridcolor\": \"white\", \"linecolor\": \"white\", \"minorgridcolor\": \"white\", \"startlinecolor\": \"#2a3f5f\"}, \"type\": \"carpet\"}], \"choropleth\": [{\"colorbar\": {\"outlinewidth\": 0, \"ticks\": \"\"}, \"type\": \"choropleth\"}], \"contour\": [{\"colorbar\": {\"outlinewidth\": 0, \"ticks\": \"\"}, \"colorscale\": [[0.0, \"#0d0887\"], [0.1111111111111111, \"#46039f\"], [0.2222222222222222, \"#7201a8\"], [0.3333333333333333, \"#9c179e\"], [0.4444444444444444, \"#bd3786\"], [0.5555555555555556, \"#d8576b\"], [0.6666666666666666, \"#ed7953\"], [0.7777777777777778, \"#fb9f3a\"], [0.8888888888888888, \"#fdca26\"], [1.0, \"#f0f921\"]], \"type\": \"contour\"}], \"contourcarpet\": [{\"colorbar\": {\"outlinewidth\": 0, \"ticks\": \"\"}, \"type\": \"contourcarpet\"}], \"heatmap\": [{\"colorbar\": {\"outlinewidth\": 0, \"ticks\": \"\"}, \"colorscale\": [[0.0, \"#0d0887\"], [0.1111111111111111, \"#46039f\"], [0.2222222222222222, \"#7201a8\"], [0.3333333333333333, \"#9c179e\"], [0.4444444444444444, \"#bd3786\"], [0.5555555555555556, \"#d8576b\"], [0.6666666666666666, \"#ed7953\"], [0.7777777777777778, \"#fb9f3a\"], [0.8888888888888888, \"#fdca26\"], [1.0, \"#f0f921\"]], \"type\": \"heatmap\"}], \"heatmapgl\": [{\"colorbar\": {\"outlinewidth\": 0, \"ticks\": \"\"}, \"colorscale\": [[0.0, \"#0d0887\"], [0.1111111111111111, \"#46039f\"], [0.2222222222222222, \"#7201a8\"], [0.3333333333333333, \"#9c179e\"], [0.4444444444444444, \"#bd3786\"], [0.5555555555555556, \"#d8576b\"], [0.6666666666666666, \"#ed7953\"], [0.7777777777777778, \"#fb9f3a\"], [0.8888888888888888, \"#fdca26\"], [1.0, \"#f0f921\"]], \"type\": \"heatmapgl\"}], \"histogram\": [{\"marker\": {\"colorbar\": {\"outlinewidth\": 0, \"ticks\": \"\"}}, \"type\": \"histogram\"}], \"histogram2d\": [{\"colorbar\": {\"outlinewidth\": 0, \"ticks\": \"\"}, \"colorscale\": [[0.0, \"#0d0887\"], [0.1111111111111111, \"#46039f\"], [0.2222222222222222, \"#7201a8\"], [0.3333333333333333, \"#9c179e\"], [0.4444444444444444, \"#bd3786\"], [0.5555555555555556, \"#d8576b\"], [0.6666666666666666, \"#ed7953\"], [0.7777777777777778, \"#fb9f3a\"], [0.8888888888888888, \"#fdca26\"], [1.0, \"#f0f921\"]], \"type\": \"histogram2d\"}], \"histogram2dcontour\": [{\"colorbar\": {\"outlinewidth\": 0, \"ticks\": \"\"}, \"colorscale\": [[0.0, \"#0d0887\"], [0.1111111111111111, \"#46039f\"], [0.2222222222222222, \"#7201a8\"], [0.3333333333333333, \"#9c179e\"], [0.4444444444444444, \"#bd3786\"], [0.5555555555555556, \"#d8576b\"], [0.6666666666666666, \"#ed7953\"], [0.7777777777777778, \"#fb9f3a\"], [0.8888888888888888, \"#fdca26\"], [1.0, \"#f0f921\"]], \"type\": \"histogram2dcontour\"}], \"mesh3d\": [{\"colorbar\": {\"outlinewidth\": 0, \"ticks\": \"\"}, \"type\": \"mesh3d\"}], \"parcoords\": [{\"line\": {\"colorbar\": {\"outlinewidth\": 0, \"ticks\": \"\"}}, \"type\": \"parcoords\"}], \"pie\": [{\"automargin\": true, \"type\": \"pie\"}], \"scatter\": [{\"marker\": {\"colorbar\": {\"outlinewidth\": 0, \"ticks\": \"\"}}, \"type\": \"scatter\"}], \"scatter3d\": [{\"line\": {\"colorbar\": {\"outlinewidth\": 0, \"ticks\": \"\"}}, \"marker\": {\"colorbar\": {\"outlinewidth\": 0, \"ticks\": \"\"}}, \"type\": \"scatter3d\"}], \"scattercarpet\": [{\"marker\": {\"colorbar\": {\"outlinewidth\": 0, \"ticks\": \"\"}}, \"type\": \"scattercarpet\"}], \"scattergeo\": [{\"marker\": {\"colorbar\": {\"outlinewidth\": 0, \"ticks\": \"\"}}, \"type\": \"scattergeo\"}], \"scattergl\": [{\"marker\": {\"colorbar\": {\"outlinewidth\": 0, \"ticks\": \"\"}}, \"type\": \"scattergl\"}], \"scattermapbox\": [{\"marker\": {\"colorbar\": {\"outlinewidth\": 0, \"ticks\": \"\"}}, \"type\": \"scattermapbox\"}], \"scatterpolar\": [{\"marker\": {\"colorbar\": {\"outlinewidth\": 0, \"ticks\": \"\"}}, \"type\": \"scatterpolar\"}], \"scatterpolargl\": [{\"marker\": {\"colorbar\": {\"outlinewidth\": 0, \"ticks\": \"\"}}, \"type\": \"scatterpolargl\"}], \"scatterternary\": [{\"marker\": {\"colorbar\": {\"outlinewidth\": 0, \"ticks\": \"\"}}, \"type\": \"scatterternary\"}], \"surface\": [{\"colorbar\": {\"outlinewidth\": 0, \"ticks\": \"\"}, \"colorscale\": [[0.0, \"#0d0887\"], [0.1111111111111111, \"#46039f\"], [0.2222222222222222, \"#7201a8\"], [0.3333333333333333, \"#9c179e\"], [0.4444444444444444, \"#bd3786\"], [0.5555555555555556, \"#d8576b\"], [0.6666666666666666, \"#ed7953\"], [0.7777777777777778, \"#fb9f3a\"], [0.8888888888888888, \"#fdca26\"], [1.0, \"#f0f921\"]], \"type\": \"surface\"}], \"table\": [{\"cells\": {\"fill\": {\"color\": \"#EBF0F8\"}, \"line\": {\"color\": \"white\"}}, \"header\": {\"fill\": {\"color\": \"#C8D4E3\"}, \"line\": {\"color\": \"white\"}}, \"type\": \"table\"}]}, \"layout\": {\"annotationdefaults\": {\"arrowcolor\": \"#2a3f5f\", \"arrowhead\": 0, \"arrowwidth\": 1}, \"coloraxis\": {\"colorbar\": {\"outlinewidth\": 0, \"ticks\": \"\"}}, \"colorscale\": {\"diverging\": [[0, \"#8e0152\"], [0.1, \"#c51b7d\"], [0.2, \"#de77ae\"], [0.3, \"#f1b6da\"], [0.4, \"#fde0ef\"], [0.5, \"#f7f7f7\"], [0.6, \"#e6f5d0\"], [0.7, \"#b8e186\"], [0.8, \"#7fbc41\"], [0.9, \"#4d9221\"], [1, \"#276419\"]], \"sequential\": [[0.0, \"#0d0887\"], [0.1111111111111111, \"#46039f\"], [0.2222222222222222, \"#7201a8\"], [0.3333333333333333, \"#9c179e\"], [0.4444444444444444, \"#bd3786\"], [0.5555555555555556, \"#d8576b\"], [0.6666666666666666, \"#ed7953\"], [0.7777777777777778, \"#fb9f3a\"], [0.8888888888888888, \"#fdca26\"], [1.0, \"#f0f921\"]], \"sequentialminus\": [[0.0, \"#0d0887\"], [0.1111111111111111, \"#46039f\"], [0.2222222222222222, \"#7201a8\"], [0.3333333333333333, \"#9c179e\"], [0.4444444444444444, \"#bd3786\"], [0.5555555555555556, \"#d8576b\"], [0.6666666666666666, \"#ed7953\"], [0.7777777777777778, \"#fb9f3a\"], [0.8888888888888888, \"#fdca26\"], [1.0, \"#f0f921\"]]}, \"colorway\": [\"#636efa\", \"#EF553B\", \"#00cc96\", \"#ab63fa\", \"#FFA15A\", \"#19d3f3\", \"#FF6692\", \"#B6E880\", \"#FF97FF\", \"#FECB52\"], \"font\": {\"color\": \"#2a3f5f\"}, \"geo\": {\"bgcolor\": \"white\", \"lakecolor\": \"white\", \"landcolor\": \"#E5ECF6\", \"showlakes\": true, \"showland\": true, \"subunitcolor\": \"white\"}, \"hoverlabel\": {\"align\": \"left\"}, \"hovermode\": \"closest\", \"mapbox\": {\"style\": \"light\"}, \"paper_bgcolor\": \"white\", \"plot_bgcolor\": \"#E5ECF6\", \"polar\": {\"angularaxis\": {\"gridcolor\": \"white\", \"linecolor\": \"white\", \"ticks\": \"\"}, \"bgcolor\": \"#E5ECF6\", \"radialaxis\": {\"gridcolor\": \"white\", \"linecolor\": \"white\", \"ticks\": \"\"}}, \"scene\": {\"xaxis\": {\"backgroundcolor\": \"#E5ECF6\", \"gridcolor\": \"white\", \"gridwidth\": 2, \"linecolor\": \"white\", \"showbackground\": true, \"ticks\": \"\", \"zerolinecolor\": \"white\"}, \"yaxis\": {\"backgroundcolor\": \"#E5ECF6\", \"gridcolor\": \"white\", \"gridwidth\": 2, \"linecolor\": \"white\", \"showbackground\": true, \"ticks\": \"\", \"zerolinecolor\": \"white\"}, \"zaxis\": {\"backgroundcolor\": \"#E5ECF6\", \"gridcolor\": \"white\", \"gridwidth\": 2, \"linecolor\": \"white\", \"showbackground\": true, \"ticks\": \"\", \"zerolinecolor\": \"white\"}}, \"shapedefaults\": {\"line\": {\"color\": \"#2a3f5f\"}}, \"ternary\": {\"aaxis\": {\"gridcolor\": \"white\", \"linecolor\": \"white\", \"ticks\": \"\"}, \"baxis\": {\"gridcolor\": \"white\", \"linecolor\": \"white\", \"ticks\": \"\"}, \"bgcolor\": \"#E5ECF6\", \"caxis\": {\"gridcolor\": \"white\", \"linecolor\": \"white\", \"ticks\": \"\"}}, \"title\": {\"x\": 0.05}, \"xaxis\": {\"automargin\": true, \"gridcolor\": \"white\", \"linecolor\": \"white\", \"ticks\": \"\", \"title\": {\"standoff\": 15}, \"zerolinecolor\": \"white\", \"zerolinewidth\": 2}, \"yaxis\": {\"automargin\": true, \"gridcolor\": \"white\", \"linecolor\": \"white\", \"ticks\": \"\", \"title\": {\"standoff\": 15}, \"zerolinecolor\": \"white\", \"zerolinewidth\": 2}}}, \"title\": {\"text\": \"Affordable Housing for Families funded by HCIDLA\"}},                        {\"responsive\": true}                    ).then(function(){\n",
       "                            \n",
       "var gd = document.getElementById('945afa54-4410-48c5-8ee8-45cd72d8f737');\n",
       "var x = new MutationObserver(function (mutations, observer) {{\n",
       "        var display = window.getComputedStyle(gd).display;\n",
       "        if (!display || display === 'none') {{\n",
       "            console.log([gd, 'removed!']);\n",
       "            Plotly.purge(gd);\n",
       "            observer.disconnect();\n",
       "        }}\n",
       "}});\n",
       "\n",
       "// Listen for the removal of the full notebook cells\n",
       "var notebookContainer = gd.closest('#notebook-container');\n",
       "if (notebookContainer) {{\n",
       "    x.observe(notebookContainer, {childList: true});\n",
       "}}\n",
       "\n",
       "// Listen for the clearing of the current output cell\n",
       "var outputEl = gd.closest('.output');\n",
       "if (outputEl) {{\n",
       "    x.observe(outputEl, {childList: true});\n",
       "}}\n",
       "\n",
       "                        })                };                });            </script>        </div>"
      ]
     },
     "metadata": {},
     "output_type": "display_data"
    }
   ],
   "source": [
    "# subset just the family type of housing\n",
    "hcid_family = hcid[hcid['HOUSING TYPE'] == 'FAMILY']\n",
    "\n",
    "# plot the family housing\n",
    "fig = px.scatter_mapbox(hcid_family,\n",
    "                        lat=\"SITE LATITUDE\",\n",
    "                        lon=\"SITE LONGITUDE\",\n",
    "                        hover_name=\"NAME\", \n",
    "                        hover_data=[\"HOUSING TYPE\", \"SITE ADDRESS\"], \n",
    "                        mapbox_style=\"carto-positron\",\n",
    "                        title='Affordable Housing for Families funded by HCIDLA'\n",
    "                        )\n",
    "# show the map\n",
    "fig.show()\n",
    "                      "
   ]
  },
  {
   "cell_type": "code",
   "execution_count": null,
   "metadata": {},
   "outputs": [],
   "source": []
  }
 ],
 "metadata": {
  "kernelspec": {
   "display_name": "Python 3",
   "language": "python",
   "name": "python3"
  },
  "language_info": {
   "codemirror_mode": {
    "name": "ipython",
    "version": 3
   },
   "file_extension": ".py",
   "mimetype": "text/x-python",
   "name": "python",
   "nbconvert_exporter": "python",
   "pygments_lexer": "ipython3",
   "version": "3.8.5"
  },
  "toc": {
   "base_numbering": 1,
   "nav_menu": {},
   "number_sections": true,
   "sideBar": true,
   "skip_h1_title": false,
   "title_cell": "Table of Contents",
   "title_sidebar": "Contents",
   "toc_cell": false,
   "toc_position": {},
   "toc_section_display": true,
   "toc_window_display": false
  }
 },
 "nbformat": 4,
 "nbformat_minor": 4
}
